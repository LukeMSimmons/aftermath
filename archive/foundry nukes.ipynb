{
 "cells": [
  {
   "cell_type": "code",
   "execution_count": 17,
   "metadata": {},
   "outputs": [],
   "source": [
    "import numpy as np \n",
    "import pandas as pd \n",
    "import plotly.express as px\n",
    "\n",
    "pd.set_option('display.max_columns', 300) "
   ]
  },
  {
   "cell_type": "code",
   "execution_count": 22,
   "metadata": {},
   "outputs": [
    {
     "data": {
      "text/html": [
       "<div>\n",
       "<style scoped>\n",
       "    .dataframe tbody tr th:only-of-type {\n",
       "        vertical-align: middle;\n",
       "    }\n",
       "\n",
       "    .dataframe tbody tr th {\n",
       "        vertical-align: top;\n",
       "    }\n",
       "\n",
       "    .dataframe thead th {\n",
       "        text-align: right;\n",
       "    }\n",
       "</style>\n",
       "<table border=\"1\" class=\"dataframe\">\n",
       "  <thead>\n",
       "    <tr style=\"text-align: right;\">\n",
       "      <th></th>\n",
       "      <th>country_name</th>\n",
       "      <th>year</th>\n",
       "      <th>stockpile</th>\n",
       "      <th>tests</th>\n",
       "    </tr>\n",
       "  </thead>\n",
       "  <tbody>\n",
       "    <tr>\n",
       "      <th>0</th>\n",
       "      <td>China</td>\n",
       "      <td>1945</td>\n",
       "      <td>0</td>\n",
       "      <td>0.0</td>\n",
       "    </tr>\n",
       "    <tr>\n",
       "      <th>1</th>\n",
       "      <td>China</td>\n",
       "      <td>1946</td>\n",
       "      <td>0</td>\n",
       "      <td>0.0</td>\n",
       "    </tr>\n",
       "    <tr>\n",
       "      <th>2</th>\n",
       "      <td>China</td>\n",
       "      <td>1947</td>\n",
       "      <td>0</td>\n",
       "      <td>0.0</td>\n",
       "    </tr>\n",
       "    <tr>\n",
       "      <th>3</th>\n",
       "      <td>China</td>\n",
       "      <td>1948</td>\n",
       "      <td>0</td>\n",
       "      <td>0.0</td>\n",
       "    </tr>\n",
       "    <tr>\n",
       "      <th>4</th>\n",
       "      <td>China</td>\n",
       "      <td>1949</td>\n",
       "      <td>0</td>\n",
       "      <td>0.0</td>\n",
       "    </tr>\n",
       "  </tbody>\n",
       "</table>\n",
       "</div>"
      ],
      "text/plain": [
       "  country_name  year  stockpile  tests\n",
       "0        China  1945          0    0.0\n",
       "1        China  1946          0    0.0\n",
       "2        China  1947          0    0.0\n",
       "3        China  1948          0    0.0\n",
       "4        China  1949          0    0.0"
      ]
     },
     "execution_count": 22,
     "metadata": {},
     "output_type": "execute_result"
    }
   ],
   "source": [
    "filepath = 'data/raw/nukes/'\n",
    "\n",
    "s = pd.read_csv(f'{filepath}stockpile.csv') \n",
    "t = pd.read_csv(f'{filepath}tests.csv') \n",
    "df = s.merge(t, how='outer', validate='1:1')\n",
    "\n",
    "df.rename(columns={'nuclear_weapons_stockpile':'stockpile', \n",
    "                   'nuclear_weapons_tests':'tests'}, inplace=True)\n",
    "\n",
    "df.head()"
   ]
  },
  {
   "cell_type": "code",
   "execution_count": 25,
   "metadata": {},
   "outputs": [
    {
     "data": {
      "text/plain": [
       "0.0     428\n",
       "NaN     180\n",
       "1.0      39\n",
       "2.0      22\n",
       "3.0       9\n",
       "8.0       7\n",
       "6.0       7\n",
       "5.0       6\n",
       "9.0       6\n",
       "10.0      6\n",
       "18.0      6\n",
       "24.0      5\n",
       "16.0      5\n",
       "14.0      4\n",
       "17.0      4\n",
       "19.0      4\n",
       "7.0       4\n",
       "21.0      3\n",
       "4.0       3\n",
       "11.0      3\n",
       "27.0      2\n",
       "22.0      2\n",
       "31.0      2\n",
       "15.0      2\n",
       "23.0      2\n",
       "12.0      2\n",
       "20.0      2\n",
       "38.0      1\n",
       "39.0      1\n",
       "46.0      1\n",
       "56.0      1\n",
       "42.0      1\n",
       "48.0      1\n",
       "59.0      1\n",
       "45.0      1\n",
       "47.0      1\n",
       "96.0      1\n",
       "79.0      1\n",
       "32.0      1\n",
       "25.0      1\n",
       "34.0      1\n",
       "77.0      1\n",
       "Name: tests, dtype: int64"
      ]
     },
     "execution_count": 25,
     "metadata": {},
     "output_type": "execute_result"
    }
   ],
   "source": [
    "df['tests'].value_counts(dropna=False)"
   ]
  },
  {
   "cell_type": "code",
   "execution_count": 27,
   "metadata": {},
   "outputs": [
    {
     "data": {
      "text/plain": [
       "40159"
      ]
     },
     "execution_count": 27,
     "metadata": {},
     "output_type": "execute_result"
    }
   ],
   "source": [
    "df['stockpile'].max()"
   ]
  },
  {
   "cell_type": "code",
   "execution_count": 28,
   "metadata": {},
   "outputs": [
    {
     "data": {
      "application/vnd.plotly.v1+json": {
       "config": {
        "plotlyServerURL": "https://plot.ly"
       },
       "data": [
        {
         "hovertemplate": "year=1945<br>stockpile=%{marker.size}<br>tests=%{marker.color}<br>country_name=%{text}<extra></extra>",
         "ids": [
          "China",
          "France",
          "India",
          "Israel",
          "North Korea",
          "Pakistan",
          "Russia",
          "South Africa",
          "United Kingdom",
          "United States"
         ],
         "legendgroup": "",
         "marker": {
          "color": [
           0,
           0,
           0,
           null,
           0,
           0,
           0,
           null,
           0,
           1
          ],
          "coloraxis": "coloraxis",
          "size": [
           0,
           0,
           0,
           0,
           0,
           0,
           0,
           0,
           0,
           2
          ],
          "sizemode": "area",
          "sizeref": 100.3975,
          "symbol": "circle"
         },
         "mode": "markers+text",
         "name": "",
         "orientation": "v",
         "showlegend": false,
         "text": [
          "China",
          "France",
          "India",
          "Israel",
          "North Korea",
          "Pakistan",
          "Russia",
          "South Africa",
          "United Kingdom",
          "United States"
         ],
         "type": "scatter",
         "x": [
          0,
          0,
          0,
          0,
          0,
          0,
          0,
          0,
          0,
          2
         ],
         "xaxis": "x",
         "y": [
          0,
          0,
          0,
          null,
          0,
          0,
          0,
          null,
          0,
          1
         ],
         "yaxis": "y"
        }
       ],
       "frames": [
        {
         "data": [
          {
           "hovertemplate": "year=1945<br>stockpile=%{marker.size}<br>tests=%{marker.color}<br>country_name=%{text}<extra></extra>",
           "ids": [
            "China",
            "France",
            "India",
            "Israel",
            "North Korea",
            "Pakistan",
            "Russia",
            "South Africa",
            "United Kingdom",
            "United States"
           ],
           "legendgroup": "",
           "marker": {
            "color": [
             0,
             0,
             0,
             null,
             0,
             0,
             0,
             null,
             0,
             1
            ],
            "coloraxis": "coloraxis",
            "size": [
             0,
             0,
             0,
             0,
             0,
             0,
             0,
             0,
             0,
             2
            ],
            "sizemode": "area",
            "sizeref": 100.3975,
            "symbol": "circle"
           },
           "mode": "markers+text",
           "name": "",
           "orientation": "v",
           "showlegend": false,
           "text": [
            "China",
            "France",
            "India",
            "Israel",
            "North Korea",
            "Pakistan",
            "Russia",
            "South Africa",
            "United Kingdom",
            "United States"
           ],
           "type": "scatter",
           "x": [
            0,
            0,
            0,
            0,
            0,
            0,
            0,
            0,
            0,
            2
           ],
           "xaxis": "x",
           "y": [
            0,
            0,
            0,
            null,
            0,
            0,
            0,
            null,
            0,
            1
           ],
           "yaxis": "y"
          }
         ],
         "name": "1945"
        },
        {
         "data": [
          {
           "hovertemplate": "year=1946<br>stockpile=%{marker.size}<br>tests=%{marker.color}<br>country_name=%{text}<extra></extra>",
           "ids": [
            "China",
            "France",
            "India",
            "Israel",
            "North Korea",
            "Pakistan",
            "Russia",
            "South Africa",
            "United Kingdom",
            "United States"
           ],
           "legendgroup": "",
           "marker": {
            "color": [
             0,
             0,
             0,
             null,
             0,
             0,
             0,
             null,
             0,
             2
            ],
            "coloraxis": "coloraxis",
            "size": [
             0,
             0,
             0,
             0,
             0,
             0,
             0,
             0,
             0,
             9
            ],
            "sizemode": "area",
            "sizeref": 100.3975,
            "symbol": "circle"
           },
           "mode": "markers+text",
           "name": "",
           "orientation": "v",
           "showlegend": false,
           "text": [
            "China",
            "France",
            "India",
            "Israel",
            "North Korea",
            "Pakistan",
            "Russia",
            "South Africa",
            "United Kingdom",
            "United States"
           ],
           "type": "scatter",
           "x": [
            0,
            0,
            0,
            0,
            0,
            0,
            0,
            0,
            0,
            9
           ],
           "xaxis": "x",
           "y": [
            0,
            0,
            0,
            null,
            0,
            0,
            0,
            null,
            0,
            2
           ],
           "yaxis": "y"
          }
         ],
         "name": "1946"
        },
        {
         "data": [
          {
           "hovertemplate": "year=1947<br>stockpile=%{marker.size}<br>tests=%{marker.color}<br>country_name=%{text}<extra></extra>",
           "ids": [
            "China",
            "France",
            "India",
            "Israel",
            "North Korea",
            "Pakistan",
            "Russia",
            "South Africa",
            "United Kingdom",
            "United States"
           ],
           "legendgroup": "",
           "marker": {
            "color": [
             0,
             0,
             0,
             null,
             0,
             0,
             0,
             null,
             0,
             0
            ],
            "coloraxis": "coloraxis",
            "size": [
             0,
             0,
             0,
             0,
             0,
             0,
             0,
             0,
             0,
             13
            ],
            "sizemode": "area",
            "sizeref": 100.3975,
            "symbol": "circle"
           },
           "mode": "markers+text",
           "name": "",
           "orientation": "v",
           "showlegend": false,
           "text": [
            "China",
            "France",
            "India",
            "Israel",
            "North Korea",
            "Pakistan",
            "Russia",
            "South Africa",
            "United Kingdom",
            "United States"
           ],
           "type": "scatter",
           "x": [
            0,
            0,
            0,
            0,
            0,
            0,
            0,
            0,
            0,
            13
           ],
           "xaxis": "x",
           "y": [
            0,
            0,
            0,
            null,
            0,
            0,
            0,
            null,
            0,
            0
           ],
           "yaxis": "y"
          }
         ],
         "name": "1947"
        },
        {
         "data": [
          {
           "hovertemplate": "year=1948<br>stockpile=%{marker.size}<br>tests=%{marker.color}<br>country_name=%{text}<extra></extra>",
           "ids": [
            "China",
            "France",
            "India",
            "Israel",
            "North Korea",
            "Pakistan",
            "Russia",
            "South Africa",
            "United Kingdom",
            "United States"
           ],
           "legendgroup": "",
           "marker": {
            "color": [
             0,
             0,
             0,
             null,
             0,
             0,
             0,
             null,
             0,
             3
            ],
            "coloraxis": "coloraxis",
            "size": [
             0,
             0,
             0,
             0,
             0,
             0,
             0,
             0,
             0,
             50
            ],
            "sizemode": "area",
            "sizeref": 100.3975,
            "symbol": "circle"
           },
           "mode": "markers+text",
           "name": "",
           "orientation": "v",
           "showlegend": false,
           "text": [
            "China",
            "France",
            "India",
            "Israel",
            "North Korea",
            "Pakistan",
            "Russia",
            "South Africa",
            "United Kingdom",
            "United States"
           ],
           "type": "scatter",
           "x": [
            0,
            0,
            0,
            0,
            0,
            0,
            0,
            0,
            0,
            50
           ],
           "xaxis": "x",
           "y": [
            0,
            0,
            0,
            null,
            0,
            0,
            0,
            null,
            0,
            3
           ],
           "yaxis": "y"
          }
         ],
         "name": "1948"
        },
        {
         "data": [
          {
           "hovertemplate": "year=1949<br>stockpile=%{marker.size}<br>tests=%{marker.color}<br>country_name=%{text}<extra></extra>",
           "ids": [
            "China",
            "France",
            "India",
            "Israel",
            "North Korea",
            "Pakistan",
            "Russia",
            "South Africa",
            "United Kingdom",
            "United States"
           ],
           "legendgroup": "",
           "marker": {
            "color": [
             0,
             0,
             0,
             null,
             0,
             0,
             1,
             null,
             0,
             0
            ],
            "coloraxis": "coloraxis",
            "size": [
             0,
             0,
             0,
             0,
             0,
             0,
             1,
             0,
             0,
             170
            ],
            "sizemode": "area",
            "sizeref": 100.3975,
            "symbol": "circle"
           },
           "mode": "markers+text",
           "name": "",
           "orientation": "v",
           "showlegend": false,
           "text": [
            "China",
            "France",
            "India",
            "Israel",
            "North Korea",
            "Pakistan",
            "Russia",
            "South Africa",
            "United Kingdom",
            "United States"
           ],
           "type": "scatter",
           "x": [
            0,
            0,
            0,
            0,
            0,
            0,
            1,
            0,
            0,
            170
           ],
           "xaxis": "x",
           "y": [
            0,
            0,
            0,
            null,
            0,
            0,
            1,
            null,
            0,
            0
           ],
           "yaxis": "y"
          }
         ],
         "name": "1949"
        },
        {
         "data": [
          {
           "hovertemplate": "year=1950<br>stockpile=%{marker.size}<br>tests=%{marker.color}<br>country_name=%{text}<extra></extra>",
           "ids": [
            "China",
            "France",
            "India",
            "Israel",
            "North Korea",
            "Pakistan",
            "Russia",
            "South Africa",
            "United Kingdom",
            "United States"
           ],
           "legendgroup": "",
           "marker": {
            "color": [
             0,
             0,
             0,
             null,
             0,
             0,
             0,
             null,
             0,
             0
            ],
            "coloraxis": "coloraxis",
            "size": [
             0,
             0,
             0,
             0,
             0,
             0,
             5,
             0,
             0,
             299
            ],
            "sizemode": "area",
            "sizeref": 100.3975,
            "symbol": "circle"
           },
           "mode": "markers+text",
           "name": "",
           "orientation": "v",
           "showlegend": false,
           "text": [
            "China",
            "France",
            "India",
            "Israel",
            "North Korea",
            "Pakistan",
            "Russia",
            "South Africa",
            "United Kingdom",
            "United States"
           ],
           "type": "scatter",
           "x": [
            0,
            0,
            0,
            0,
            0,
            0,
            5,
            0,
            0,
            299
           ],
           "xaxis": "x",
           "y": [
            0,
            0,
            0,
            null,
            0,
            0,
            0,
            null,
            0,
            0
           ],
           "yaxis": "y"
          }
         ],
         "name": "1950"
        },
        {
         "data": [
          {
           "hovertemplate": "year=1951<br>stockpile=%{marker.size}<br>tests=%{marker.color}<br>country_name=%{text}<extra></extra>",
           "ids": [
            "China",
            "France",
            "India",
            "Israel",
            "North Korea",
            "Pakistan",
            "Russia",
            "South Africa",
            "United Kingdom",
            "United States"
           ],
           "legendgroup": "",
           "marker": {
            "color": [
             0,
             0,
             0,
             null,
             0,
             0,
             2,
             null,
             0,
             16
            ],
            "coloraxis": "coloraxis",
            "size": [
             0,
             0,
             0,
             0,
             0,
             0,
             25,
             0,
             0,
             438
            ],
            "sizemode": "area",
            "sizeref": 100.3975,
            "symbol": "circle"
           },
           "mode": "markers+text",
           "name": "",
           "orientation": "v",
           "showlegend": false,
           "text": [
            "China",
            "France",
            "India",
            "Israel",
            "North Korea",
            "Pakistan",
            "Russia",
            "South Africa",
            "United Kingdom",
            "United States"
           ],
           "type": "scatter",
           "x": [
            0,
            0,
            0,
            0,
            0,
            0,
            25,
            0,
            0,
            438
           ],
           "xaxis": "x",
           "y": [
            0,
            0,
            0,
            null,
            0,
            0,
            2,
            null,
            0,
            16
           ],
           "yaxis": "y"
          }
         ],
         "name": "1951"
        },
        {
         "data": [
          {
           "hovertemplate": "year=1952<br>stockpile=%{marker.size}<br>tests=%{marker.color}<br>country_name=%{text}<extra></extra>",
           "ids": [
            "China",
            "France",
            "India",
            "Israel",
            "North Korea",
            "Pakistan",
            "Russia",
            "South Africa",
            "United Kingdom",
            "United States"
           ],
           "legendgroup": "",
           "marker": {
            "color": [
             0,
             0,
             0,
             null,
             0,
             0,
             0,
             null,
             1,
             10
            ],
            "coloraxis": "coloraxis",
            "size": [
             0,
             0,
             0,
             0,
             0,
             0,
             50,
             0,
             0,
             841
            ],
            "sizemode": "area",
            "sizeref": 100.3975,
            "symbol": "circle"
           },
           "mode": "markers+text",
           "name": "",
           "orientation": "v",
           "showlegend": false,
           "text": [
            "China",
            "France",
            "India",
            "Israel",
            "North Korea",
            "Pakistan",
            "Russia",
            "South Africa",
            "United Kingdom",
            "United States"
           ],
           "type": "scatter",
           "x": [
            0,
            0,
            0,
            0,
            0,
            0,
            50,
            0,
            0,
            841
           ],
           "xaxis": "x",
           "y": [
            0,
            0,
            0,
            null,
            0,
            0,
            0,
            null,
            1,
            10
           ],
           "yaxis": "y"
          }
         ],
         "name": "1952"
        },
        {
         "data": [
          {
           "hovertemplate": "year=1953<br>stockpile=%{marker.size}<br>tests=%{marker.color}<br>country_name=%{text}<extra></extra>",
           "ids": [
            "China",
            "France",
            "India",
            "Israel",
            "North Korea",
            "Pakistan",
            "Russia",
            "South Africa",
            "United Kingdom",
            "United States"
           ],
           "legendgroup": "",
           "marker": {
            "color": [
             0,
             0,
             0,
             null,
             0,
             0,
             5,
             null,
             2,
             11
            ],
            "coloraxis": "coloraxis",
            "size": [
             0,
             0,
             0,
             0,
             0,
             0,
             120,
             0,
             1,
             1169
            ],
            "sizemode": "area",
            "sizeref": 100.3975,
            "symbol": "circle"
           },
           "mode": "markers+text",
           "name": "",
           "orientation": "v",
           "showlegend": false,
           "text": [
            "China",
            "France",
            "India",
            "Israel",
            "North Korea",
            "Pakistan",
            "Russia",
            "South Africa",
            "United Kingdom",
            "United States"
           ],
           "type": "scatter",
           "x": [
            0,
            0,
            0,
            0,
            0,
            0,
            120,
            0,
            1,
            1169
           ],
           "xaxis": "x",
           "y": [
            0,
            0,
            0,
            null,
            0,
            0,
            5,
            null,
            2,
            11
           ],
           "yaxis": "y"
          }
         ],
         "name": "1953"
        },
        {
         "data": [
          {
           "hovertemplate": "year=1954<br>stockpile=%{marker.size}<br>tests=%{marker.color}<br>country_name=%{text}<extra></extra>",
           "ids": [
            "China",
            "France",
            "India",
            "Israel",
            "North Korea",
            "Pakistan",
            "Russia",
            "South Africa",
            "United Kingdom",
            "United States"
           ],
           "legendgroup": "",
           "marker": {
            "color": [
             0,
             0,
             0,
             null,
             0,
             0,
             10,
             null,
             0,
             6
            ],
            "coloraxis": "coloraxis",
            "size": [
             0,
             0,
             0,
             0,
             0,
             0,
             150,
             0,
             5,
             1703
            ],
            "sizemode": "area",
            "sizeref": 100.3975,
            "symbol": "circle"
           },
           "mode": "markers+text",
           "name": "",
           "orientation": "v",
           "showlegend": false,
           "text": [
            "China",
            "France",
            "India",
            "Israel",
            "North Korea",
            "Pakistan",
            "Russia",
            "South Africa",
            "United Kingdom",
            "United States"
           ],
           "type": "scatter",
           "x": [
            0,
            0,
            0,
            0,
            0,
            0,
            150,
            0,
            5,
            1703
           ],
           "xaxis": "x",
           "y": [
            0,
            0,
            0,
            null,
            0,
            0,
            10,
            null,
            0,
            6
           ],
           "yaxis": "y"
          }
         ],
         "name": "1954"
        },
        {
         "data": [
          {
           "hovertemplate": "year=1955<br>stockpile=%{marker.size}<br>tests=%{marker.color}<br>country_name=%{text}<extra></extra>",
           "ids": [
            "China",
            "France",
            "India",
            "Israel",
            "North Korea",
            "Pakistan",
            "Russia",
            "South Africa",
            "United Kingdom",
            "United States"
           ],
           "legendgroup": "",
           "marker": {
            "color": [
             0,
             0,
             0,
             null,
             0,
             0,
             6,
             null,
             0,
             18
            ],
            "coloraxis": "coloraxis",
            "size": [
             0,
             0,
             0,
             0,
             0,
             0,
             200,
             0,
             10,
             2422
            ],
            "sizemode": "area",
            "sizeref": 100.3975,
            "symbol": "circle"
           },
           "mode": "markers+text",
           "name": "",
           "orientation": "v",
           "showlegend": false,
           "text": [
            "China",
            "France",
            "India",
            "Israel",
            "North Korea",
            "Pakistan",
            "Russia",
            "South Africa",
            "United Kingdom",
            "United States"
           ],
           "type": "scatter",
           "x": [
            0,
            0,
            0,
            0,
            0,
            0,
            200,
            0,
            10,
            2422
           ],
           "xaxis": "x",
           "y": [
            0,
            0,
            0,
            null,
            0,
            0,
            6,
            null,
            0,
            18
           ],
           "yaxis": "y"
          }
         ],
         "name": "1955"
        },
        {
         "data": [
          {
           "hovertemplate": "year=1956<br>stockpile=%{marker.size}<br>tests=%{marker.color}<br>country_name=%{text}<extra></extra>",
           "ids": [
            "China",
            "France",
            "India",
            "Israel",
            "North Korea",
            "Pakistan",
            "Russia",
            "South Africa",
            "United Kingdom",
            "United States"
           ],
           "legendgroup": "",
           "marker": {
            "color": [
             0,
             0,
             0,
             null,
             0,
             0,
             9,
             null,
             6,
             18
            ],
            "coloraxis": "coloraxis",
            "size": [
             0,
             0,
             0,
             0,
             0,
             0,
             426,
             0,
             50,
             3692
            ],
            "sizemode": "area",
            "sizeref": 100.3975,
            "symbol": "circle"
           },
           "mode": "markers+text",
           "name": "",
           "orientation": "v",
           "showlegend": false,
           "text": [
            "China",
            "France",
            "India",
            "Israel",
            "North Korea",
            "Pakistan",
            "Russia",
            "South Africa",
            "United Kingdom",
            "United States"
           ],
           "type": "scatter",
           "x": [
            0,
            0,
            0,
            0,
            0,
            0,
            426,
            0,
            50,
            3692
           ],
           "xaxis": "x",
           "y": [
            0,
            0,
            0,
            null,
            0,
            0,
            9,
            null,
            6,
            18
           ],
           "yaxis": "y"
          }
         ],
         "name": "1956"
        },
        {
         "data": [
          {
           "hovertemplate": "year=1957<br>stockpile=%{marker.size}<br>tests=%{marker.color}<br>country_name=%{text}<extra></extra>",
           "ids": [
            "China",
            "France",
            "India",
            "Israel",
            "North Korea",
            "Pakistan",
            "Russia",
            "South Africa",
            "United Kingdom",
            "United States"
           ],
           "legendgroup": "",
           "marker": {
            "color": [
             0,
             0,
             0,
             null,
             0,
             0,
             16,
             null,
             7,
             32
            ],
            "coloraxis": "coloraxis",
            "size": [
             0,
             0,
             0,
             0,
             0,
             0,
             660,
             0,
             58,
             5543
            ],
            "sizemode": "area",
            "sizeref": 100.3975,
            "symbol": "circle"
           },
           "mode": "markers+text",
           "name": "",
           "orientation": "v",
           "showlegend": false,
           "text": [
            "China",
            "France",
            "India",
            "Israel",
            "North Korea",
            "Pakistan",
            "Russia",
            "South Africa",
            "United Kingdom",
            "United States"
           ],
           "type": "scatter",
           "x": [
            0,
            0,
            0,
            0,
            0,
            0,
            660,
            0,
            58,
            5543
           ],
           "xaxis": "x",
           "y": [
            0,
            0,
            0,
            null,
            0,
            0,
            16,
            null,
            7,
            32
           ],
           "yaxis": "y"
          }
         ],
         "name": "1957"
        },
        {
         "data": [
          {
           "hovertemplate": "year=1958<br>stockpile=%{marker.size}<br>tests=%{marker.color}<br>country_name=%{text}<extra></extra>",
           "ids": [
            "China",
            "France",
            "India",
            "Israel",
            "North Korea",
            "Pakistan",
            "Russia",
            "South Africa",
            "United Kingdom",
            "United States"
           ],
           "legendgroup": "",
           "marker": {
            "color": [
             0,
             0,
             0,
             null,
             0,
             0,
             34,
             null,
             5,
             77
            ],
            "coloraxis": "coloraxis",
            "size": [
             0,
             0,
             0,
             0,
             0,
             0,
             863,
             0,
             60,
             7345
            ],
            "sizemode": "area",
            "sizeref": 100.3975,
            "symbol": "circle"
           },
           "mode": "markers+text",
           "name": "",
           "orientation": "v",
           "showlegend": false,
           "text": [
            "China",
            "France",
            "India",
            "Israel",
            "North Korea",
            "Pakistan",
            "Russia",
            "South Africa",
            "United Kingdom",
            "United States"
           ],
           "type": "scatter",
           "x": [
            0,
            0,
            0,
            0,
            0,
            0,
            863,
            0,
            60,
            7345
           ],
           "xaxis": "x",
           "y": [
            0,
            0,
            0,
            null,
            0,
            0,
            34,
            null,
            5,
            77
           ],
           "yaxis": "y"
          }
         ],
         "name": "1958"
        },
        {
         "data": [
          {
           "hovertemplate": "year=1959<br>stockpile=%{marker.size}<br>tests=%{marker.color}<br>country_name=%{text}<extra></extra>",
           "ids": [
            "China",
            "France",
            "India",
            "Israel",
            "North Korea",
            "Pakistan",
            "Russia",
            "South Africa",
            "United Kingdom",
            "United States"
           ],
           "legendgroup": "",
           "marker": {
            "color": [
             0,
             0,
             0,
             null,
             0,
             0,
             0,
             null,
             0,
             0
            ],
            "coloraxis": "coloraxis",
            "size": [
             0,
             0,
             0,
             0,
             0,
             0,
             1048,
             0,
             78,
             12298
            ],
            "sizemode": "area",
            "sizeref": 100.3975,
            "symbol": "circle"
           },
           "mode": "markers+text",
           "name": "",
           "orientation": "v",
           "showlegend": false,
           "text": [
            "China",
            "France",
            "India",
            "Israel",
            "North Korea",
            "Pakistan",
            "Russia",
            "South Africa",
            "United Kingdom",
            "United States"
           ],
           "type": "scatter",
           "x": [
            0,
            0,
            0,
            0,
            0,
            0,
            1048,
            0,
            78,
            12298
           ],
           "xaxis": "x",
           "y": [
            0,
            0,
            0,
            null,
            0,
            0,
            0,
            null,
            0,
            0
           ],
           "yaxis": "y"
          }
         ],
         "name": "1959"
        },
        {
         "data": [
          {
           "hovertemplate": "year=1960<br>stockpile=%{marker.size}<br>tests=%{marker.color}<br>country_name=%{text}<extra></extra>",
           "ids": [
            "China",
            "France",
            "India",
            "Israel",
            "North Korea",
            "Pakistan",
            "Russia",
            "South Africa",
            "United Kingdom",
            "United States"
           ],
           "legendgroup": "",
           "marker": {
            "color": [
             0,
             3,
             0,
             null,
             0,
             0,
             0,
             null,
             0,
             0
            ],
            "coloraxis": "coloraxis",
            "size": [
             0,
             0,
             0,
             0,
             0,
             0,
             1627,
             0,
             105,
             18638
            ],
            "sizemode": "area",
            "sizeref": 100.3975,
            "symbol": "circle"
           },
           "mode": "markers+text",
           "name": "",
           "orientation": "v",
           "showlegend": false,
           "text": [
            "China",
            "France",
            "India",
            "Israel",
            "North Korea",
            "Pakistan",
            "Russia",
            "South Africa",
            "United Kingdom",
            "United States"
           ],
           "type": "scatter",
           "x": [
            0,
            0,
            0,
            0,
            0,
            0,
            1627,
            0,
            105,
            18638
           ],
           "xaxis": "x",
           "y": [
            0,
            3,
            0,
            null,
            0,
            0,
            0,
            null,
            0,
            0
           ],
           "yaxis": "y"
          }
         ],
         "name": "1960"
        },
        {
         "data": [
          {
           "hovertemplate": "year=1961<br>stockpile=%{marker.size}<br>tests=%{marker.color}<br>country_name=%{text}<extra></extra>",
           "ids": [
            "China",
            "France",
            "India",
            "Israel",
            "North Korea",
            "Pakistan",
            "Russia",
            "South Africa",
            "United Kingdom",
            "United States"
           ],
           "legendgroup": "",
           "marker": {
            "color": [
             0,
             2,
             0,
             null,
             0,
             0,
             59,
             null,
             0,
             10
            ],
            "coloraxis": "coloraxis",
            "size": [
             0,
             0,
             0,
             0,
             0,
             0,
             2492,
             0,
             155,
             22229
            ],
            "sizemode": "area",
            "sizeref": 100.3975,
            "symbol": "circle"
           },
           "mode": "markers+text",
           "name": "",
           "orientation": "v",
           "showlegend": false,
           "text": [
            "China",
            "France",
            "India",
            "Israel",
            "North Korea",
            "Pakistan",
            "Russia",
            "South Africa",
            "United Kingdom",
            "United States"
           ],
           "type": "scatter",
           "x": [
            0,
            0,
            0,
            0,
            0,
            0,
            2492,
            0,
            155,
            22229
           ],
           "xaxis": "x",
           "y": [
            0,
            2,
            0,
            null,
            0,
            0,
            59,
            null,
            0,
            10
           ],
           "yaxis": "y"
          }
         ],
         "name": "1961"
        },
        {
         "data": [
          {
           "hovertemplate": "year=1962<br>stockpile=%{marker.size}<br>tests=%{marker.color}<br>country_name=%{text}<extra></extra>",
           "ids": [
            "China",
            "France",
            "India",
            "Israel",
            "North Korea",
            "Pakistan",
            "Russia",
            "South Africa",
            "United Kingdom",
            "United States"
           ],
           "legendgroup": "",
           "marker": {
            "color": [
             0,
             1,
             0,
             null,
             0,
             0,
             79,
             null,
             2,
             96
            ],
            "coloraxis": "coloraxis",
            "size": [
             0,
             0,
             0,
             0,
             0,
             0,
             3346,
             0,
             211,
             25540
            ],
            "sizemode": "area",
            "sizeref": 100.3975,
            "symbol": "circle"
           },
           "mode": "markers+text",
           "name": "",
           "orientation": "v",
           "showlegend": false,
           "text": [
            "China",
            "France",
            "India",
            "Israel",
            "North Korea",
            "Pakistan",
            "Russia",
            "South Africa",
            "United Kingdom",
            "United States"
           ],
           "type": "scatter",
           "x": [
            0,
            0,
            0,
            0,
            0,
            0,
            3346,
            0,
            211,
            25540
           ],
           "xaxis": "x",
           "y": [
            0,
            1,
            0,
            null,
            0,
            0,
            79,
            null,
            2,
            96
           ],
           "yaxis": "y"
          }
         ],
         "name": "1962"
        },
        {
         "data": [
          {
           "hovertemplate": "year=1963<br>stockpile=%{marker.size}<br>tests=%{marker.color}<br>country_name=%{text}<extra></extra>",
           "ids": [
            "China",
            "France",
            "India",
            "Israel",
            "North Korea",
            "Pakistan",
            "Russia",
            "South Africa",
            "United Kingdom",
            "United States"
           ],
           "legendgroup": "",
           "marker": {
            "color": [
             0,
             3,
             0,
             null,
             0,
             0,
             0,
             null,
             0,
             47
            ],
            "coloraxis": "coloraxis",
            "size": [
             0,
             0,
             0,
             0,
             0,
             0,
             4259,
             0,
             256,
             28133
            ],
            "sizemode": "area",
            "sizeref": 100.3975,
            "symbol": "circle"
           },
           "mode": "markers+text",
           "name": "",
           "orientation": "v",
           "showlegend": false,
           "text": [
            "China",
            "France",
            "India",
            "Israel",
            "North Korea",
            "Pakistan",
            "Russia",
            "South Africa",
            "United Kingdom",
            "United States"
           ],
           "type": "scatter",
           "x": [
            0,
            0,
            0,
            0,
            0,
            0,
            4259,
            0,
            256,
            28133
           ],
           "xaxis": "x",
           "y": [
            0,
            3,
            0,
            null,
            0,
            0,
            0,
            null,
            0,
            47
           ],
           "yaxis": "y"
          }
         ],
         "name": "1963"
        },
        {
         "data": [
          {
           "hovertemplate": "year=1964<br>stockpile=%{marker.size}<br>tests=%{marker.color}<br>country_name=%{text}<extra></extra>",
           "ids": [
            "China",
            "France",
            "India",
            "Israel",
            "North Korea",
            "Pakistan",
            "Russia",
            "South Africa",
            "United Kingdom",
            "United States"
           ],
           "legendgroup": "",
           "marker": {
            "color": [
             1,
             3,
             0,
             null,
             0,
             0,
             9,
             null,
             2,
             45
            ],
            "coloraxis": "coloraxis",
            "size": [
             1,
             4,
             0,
             0,
             0,
             0,
             5242,
             0,
             271,
             29463
            ],
            "sizemode": "area",
            "sizeref": 100.3975,
            "symbol": "circle"
           },
           "mode": "markers+text",
           "name": "",
           "orientation": "v",
           "showlegend": false,
           "text": [
            "China",
            "France",
            "India",
            "Israel",
            "North Korea",
            "Pakistan",
            "Russia",
            "South Africa",
            "United Kingdom",
            "United States"
           ],
           "type": "scatter",
           "x": [
            1,
            4,
            0,
            0,
            0,
            0,
            5242,
            0,
            271,
            29463
           ],
           "xaxis": "x",
           "y": [
            1,
            3,
            0,
            null,
            0,
            0,
            9,
            null,
            2,
            45
           ],
           "yaxis": "y"
          }
         ],
         "name": "1964"
        },
        {
         "data": [
          {
           "hovertemplate": "year=1965<br>stockpile=%{marker.size}<br>tests=%{marker.color}<br>country_name=%{text}<extra></extra>",
           "ids": [
            "China",
            "France",
            "India",
            "Israel",
            "North Korea",
            "Pakistan",
            "Russia",
            "South Africa",
            "United Kingdom",
            "United States"
           ],
           "legendgroup": "",
           "marker": {
            "color": [
             1,
             4,
             0,
             null,
             0,
             0,
             14,
             null,
             1,
             38
            ],
            "coloraxis": "coloraxis",
            "size": [
             5,
             32,
             0,
             0,
             0,
             0,
             6144,
             0,
             271,
             31139
            ],
            "sizemode": "area",
            "sizeref": 100.3975,
            "symbol": "circle"
           },
           "mode": "markers+text",
           "name": "",
           "orientation": "v",
           "showlegend": false,
           "text": [
            "China",
            "France",
            "India",
            "Israel",
            "North Korea",
            "Pakistan",
            "Russia",
            "South Africa",
            "United Kingdom",
            "United States"
           ],
           "type": "scatter",
           "x": [
            5,
            32,
            0,
            0,
            0,
            0,
            6144,
            0,
            271,
            31139
           ],
           "xaxis": "x",
           "y": [
            1,
            4,
            0,
            null,
            0,
            0,
            14,
            null,
            1,
            38
           ],
           "yaxis": "y"
          }
         ],
         "name": "1965"
        },
        {
         "data": [
          {
           "hovertemplate": "year=1966<br>stockpile=%{marker.size}<br>tests=%{marker.color}<br>country_name=%{text}<extra></extra>",
           "ids": [
            "China",
            "France",
            "India",
            "Israel",
            "North Korea",
            "Pakistan",
            "Russia",
            "South Africa",
            "United Kingdom",
            "United States"
           ],
           "legendgroup": "",
           "marker": {
            "color": [
             3,
             7,
             0,
             null,
             0,
             0,
             18,
             null,
             0,
             48
            ],
            "coloraxis": "coloraxis",
            "size": [
             20,
             36,
             0,
             0,
             0,
             0,
             7091,
             0,
             281,
             31175
            ],
            "sizemode": "area",
            "sizeref": 100.3975,
            "symbol": "circle"
           },
           "mode": "markers+text",
           "name": "",
           "orientation": "v",
           "showlegend": false,
           "text": [
            "China",
            "France",
            "India",
            "Israel",
            "North Korea",
            "Pakistan",
            "Russia",
            "South Africa",
            "United Kingdom",
            "United States"
           ],
           "type": "scatter",
           "x": [
            20,
            36,
            0,
            0,
            0,
            0,
            7091,
            0,
            281,
            31175
           ],
           "xaxis": "x",
           "y": [
            3,
            7,
            0,
            null,
            0,
            0,
            18,
            null,
            0,
            48
           ],
           "yaxis": "y"
          }
         ],
         "name": "1966"
        },
        {
         "data": [
          {
           "hovertemplate": "year=1967<br>stockpile=%{marker.size}<br>tests=%{marker.color}<br>country_name=%{text}<extra></extra>",
           "ids": [
            "China",
            "France",
            "India",
            "Israel",
            "North Korea",
            "Pakistan",
            "Russia",
            "South Africa",
            "United Kingdom",
            "United States"
           ],
           "legendgroup": "",
           "marker": {
            "color": [
             2,
             3,
             0,
             null,
             0,
             0,
             17,
             null,
             0,
             42
            ],
            "coloraxis": "coloraxis",
            "size": [
             25,
             36,
             0,
             2,
             0,
             0,
             8400,
             0,
             355,
             31255
            ],
            "sizemode": "area",
            "sizeref": 100.3975,
            "symbol": "circle"
           },
           "mode": "markers+text",
           "name": "",
           "orientation": "v",
           "showlegend": false,
           "text": [
            "China",
            "France",
            "India",
            "Israel",
            "North Korea",
            "Pakistan",
            "Russia",
            "South Africa",
            "United Kingdom",
            "United States"
           ],
           "type": "scatter",
           "x": [
            25,
            36,
            0,
            2,
            0,
            0,
            8400,
            0,
            355,
            31255
           ],
           "xaxis": "x",
           "y": [
            2,
            3,
            0,
            null,
            0,
            0,
            17,
            null,
            0,
            42
           ],
           "yaxis": "y"
          }
         ],
         "name": "1967"
        },
        {
         "data": [
          {
           "hovertemplate": "year=1968<br>stockpile=%{marker.size}<br>tests=%{marker.color}<br>country_name=%{text}<extra></extra>",
           "ids": [
            "China",
            "France",
            "India",
            "Israel",
            "North Korea",
            "Pakistan",
            "Russia",
            "South Africa",
            "United Kingdom",
            "United States"
           ],
           "legendgroup": "",
           "marker": {
            "color": [
             1,
             5,
             0,
             null,
             0,
             0,
             17,
             null,
             0,
             56
            ],
            "coloraxis": "coloraxis",
            "size": [
             35,
             36,
             0,
             4,
             0,
             0,
             9490,
             0,
             317,
             29561
            ],
            "sizemode": "area",
            "sizeref": 100.3975,
            "symbol": "circle"
           },
           "mode": "markers+text",
           "name": "",
           "orientation": "v",
           "showlegend": false,
           "text": [
            "China",
            "France",
            "India",
            "Israel",
            "North Korea",
            "Pakistan",
            "Russia",
            "South Africa",
            "United Kingdom",
            "United States"
           ],
           "type": "scatter",
           "x": [
            35,
            36,
            0,
            4,
            0,
            0,
            9490,
            0,
            317,
            29561
           ],
           "xaxis": "x",
           "y": [
            1,
            5,
            0,
            null,
            0,
            0,
            17,
            null,
            0,
            56
           ],
           "yaxis": "y"
          }
         ],
         "name": "1968"
        },
        {
         "data": [
          {
           "hovertemplate": "year=1969<br>stockpile=%{marker.size}<br>tests=%{marker.color}<br>country_name=%{text}<extra></extra>",
           "ids": [
            "China",
            "France",
            "India",
            "Israel",
            "North Korea",
            "Pakistan",
            "Russia",
            "South Africa",
            "United Kingdom",
            "United States"
           ],
           "legendgroup": "",
           "marker": {
            "color": [
             2,
             0,
             0,
             null,
             0,
             0,
             19,
             null,
             0,
             46
            ],
            "coloraxis": "coloraxis",
            "size": [
             50,
             36,
             0,
             6,
             0,
             0,
             10671,
             0,
             306,
             27552
            ],
            "sizemode": "area",
            "sizeref": 100.3975,
            "symbol": "circle"
           },
           "mode": "markers+text",
           "name": "",
           "orientation": "v",
           "showlegend": false,
           "text": [
            "China",
            "France",
            "India",
            "Israel",
            "North Korea",
            "Pakistan",
            "Russia",
            "South Africa",
            "United Kingdom",
            "United States"
           ],
           "type": "scatter",
           "x": [
            50,
            36,
            0,
            6,
            0,
            0,
            10671,
            0,
            306,
            27552
           ],
           "xaxis": "x",
           "y": [
            2,
            0,
            0,
            null,
            0,
            0,
            19,
            null,
            0,
            46
           ],
           "yaxis": "y"
          }
         ],
         "name": "1969"
        },
        {
         "data": [
          {
           "hovertemplate": "year=1970<br>stockpile=%{marker.size}<br>tests=%{marker.color}<br>country_name=%{text}<extra></extra>",
           "ids": [
            "China",
            "France",
            "India",
            "Israel",
            "North Korea",
            "Pakistan",
            "Russia",
            "South Africa",
            "United Kingdom",
            "United States"
           ],
           "legendgroup": "",
           "marker": {
            "color": [
             1,
             8,
             0,
             null,
             0,
             0,
             16,
             null,
             0,
             39
            ],
            "coloraxis": "coloraxis",
            "size": [
             75,
             36,
             0,
             8,
             0,
             0,
             11736,
             0,
             375,
             26008
            ],
            "sizemode": "area",
            "sizeref": 100.3975,
            "symbol": "circle"
           },
           "mode": "markers+text",
           "name": "",
           "orientation": "v",
           "showlegend": false,
           "text": [
            "China",
            "France",
            "India",
            "Israel",
            "North Korea",
            "Pakistan",
            "Russia",
            "South Africa",
            "United Kingdom",
            "United States"
           ],
           "type": "scatter",
           "x": [
            75,
            36,
            0,
            8,
            0,
            0,
            11736,
            0,
            375,
            26008
           ],
           "xaxis": "x",
           "y": [
            1,
            8,
            0,
            null,
            0,
            0,
            16,
            null,
            0,
            39
           ],
           "yaxis": "y"
          }
         ],
         "name": "1970"
        },
        {
         "data": [
          {
           "hovertemplate": "year=1971<br>stockpile=%{marker.size}<br>tests=%{marker.color}<br>country_name=%{text}<extra></extra>",
           "ids": [
            "China",
            "France",
            "India",
            "Israel",
            "North Korea",
            "Pakistan",
            "Russia",
            "South Africa",
            "United Kingdom",
            "United States"
           ],
           "legendgroup": "",
           "marker": {
            "color": [
             1,
             5,
             0,
             null,
             0,
             0,
             23,
             null,
             0,
             24
            ],
            "coloraxis": "coloraxis",
            "size": [
             100,
             45,
             0,
             11,
             0,
             0,
             13279,
             0,
             412,
             25830
            ],
            "sizemode": "area",
            "sizeref": 100.3975,
            "symbol": "circle"
           },
           "mode": "markers+text",
           "name": "",
           "orientation": "v",
           "showlegend": false,
           "text": [
            "China",
            "France",
            "India",
            "Israel",
            "North Korea",
            "Pakistan",
            "Russia",
            "South Africa",
            "United Kingdom",
            "United States"
           ],
           "type": "scatter",
           "x": [
            100,
            45,
            0,
            11,
            0,
            0,
            13279,
            0,
            412,
            25830
           ],
           "xaxis": "x",
           "y": [
            1,
            5,
            0,
            null,
            0,
            0,
            23,
            null,
            0,
            24
           ],
           "yaxis": "y"
          }
         ],
         "name": "1971"
        },
        {
         "data": [
          {
           "hovertemplate": "year=1972<br>stockpile=%{marker.size}<br>tests=%{marker.color}<br>country_name=%{text}<extra></extra>",
           "ids": [
            "China",
            "France",
            "India",
            "Israel",
            "North Korea",
            "Pakistan",
            "Russia",
            "South Africa",
            "United Kingdom",
            "United States"
           ],
           "legendgroup": "",
           "marker": {
            "color": [
             2,
             4,
             0,
             null,
             0,
             0,
             24,
             null,
             0,
             27
            ],
            "coloraxis": "coloraxis",
            "size": [
             130,
             70,
             0,
             13,
             0,
             0,
             14600,
             0,
             423,
             26516
            ],
            "sizemode": "area",
            "sizeref": 100.3975,
            "symbol": "circle"
           },
           "mode": "markers+text",
           "name": "",
           "orientation": "v",
           "showlegend": false,
           "text": [
            "China",
            "France",
            "India",
            "Israel",
            "North Korea",
            "Pakistan",
            "Russia",
            "South Africa",
            "United Kingdom",
            "United States"
           ],
           "type": "scatter",
           "x": [
            130,
            70,
            0,
            13,
            0,
            0,
            14600,
            0,
            423,
            26516
           ],
           "xaxis": "x",
           "y": [
            2,
            4,
            0,
            null,
            0,
            0,
            24,
            null,
            0,
            27
           ],
           "yaxis": "y"
          }
         ],
         "name": "1972"
        },
        {
         "data": [
          {
           "hovertemplate": "year=1973<br>stockpile=%{marker.size}<br>tests=%{marker.color}<br>country_name=%{text}<extra></extra>",
           "ids": [
            "China",
            "France",
            "India",
            "Israel",
            "North Korea",
            "Pakistan",
            "Russia",
            "South Africa",
            "United Kingdom",
            "United States"
           ],
           "legendgroup": "",
           "marker": {
            "color": [
             1,
             6,
             0,
             null,
             0,
             0,
             17,
             null,
             0,
             24
            ],
            "coloraxis": "coloraxis",
            "size": [
             150,
             116,
             0,
             15,
             0,
             0,
             15878,
             0,
             500,
             27835
            ],
            "sizemode": "area",
            "sizeref": 100.3975,
            "symbol": "circle"
           },
           "mode": "markers+text",
           "name": "",
           "orientation": "v",
           "showlegend": false,
           "text": [
            "China",
            "France",
            "India",
            "Israel",
            "North Korea",
            "Pakistan",
            "Russia",
            "South Africa",
            "United Kingdom",
            "United States"
           ],
           "type": "scatter",
           "x": [
            150,
            116,
            0,
            15,
            0,
            0,
            15878,
            0,
            500,
            27835
           ],
           "xaxis": "x",
           "y": [
            1,
            6,
            0,
            null,
            0,
            0,
            17,
            null,
            0,
            24
           ],
           "yaxis": "y"
          }
         ],
         "name": "1973"
        },
        {
         "data": [
          {
           "hovertemplate": "year=1974<br>stockpile=%{marker.size}<br>tests=%{marker.color}<br>country_name=%{text}<extra></extra>",
           "ids": [
            "China",
            "France",
            "India",
            "Israel",
            "North Korea",
            "Pakistan",
            "Russia",
            "South Africa",
            "United Kingdom",
            "United States"
           ],
           "legendgroup": "",
           "marker": {
            "color": [
             1,
             9,
             1,
             null,
             0,
             0,
             21,
             null,
             1,
             22
            ],
            "coloraxis": "coloraxis",
            "size": [
             170,
             145,
             0,
             17,
             0,
             0,
             17286,
             0,
             500,
             28537
            ],
            "sizemode": "area",
            "sizeref": 100.3975,
            "symbol": "circle"
           },
           "mode": "markers+text",
           "name": "",
           "orientation": "v",
           "showlegend": false,
           "text": [
            "China",
            "France",
            "India",
            "Israel",
            "North Korea",
            "Pakistan",
            "Russia",
            "South Africa",
            "United Kingdom",
            "United States"
           ],
           "type": "scatter",
           "x": [
            170,
            145,
            0,
            17,
            0,
            0,
            17286,
            0,
            500,
            28537
           ],
           "xaxis": "x",
           "y": [
            1,
            9,
            1,
            null,
            0,
            0,
            21,
            null,
            1,
            22
           ],
           "yaxis": "y"
          }
         ],
         "name": "1974"
        },
        {
         "data": [
          {
           "hovertemplate": "year=1975<br>stockpile=%{marker.size}<br>tests=%{marker.color}<br>country_name=%{text}<extra></extra>",
           "ids": [
            "China",
            "France",
            "India",
            "Israel",
            "North Korea",
            "Pakistan",
            "Russia",
            "South Africa",
            "United Kingdom",
            "United States"
           ],
           "legendgroup": "",
           "marker": {
            "color": [
             1,
             2,
             0,
             null,
             0,
             0,
             19,
             null,
             0,
             22
            ],
            "coloraxis": "coloraxis",
            "size": [
             180,
             188,
             0,
             20,
             0,
             0,
             19235,
             0,
             500,
             27519
            ],
            "sizemode": "area",
            "sizeref": 100.3975,
            "symbol": "circle"
           },
           "mode": "markers+text",
           "name": "",
           "orientation": "v",
           "showlegend": false,
           "text": [
            "China",
            "France",
            "India",
            "Israel",
            "North Korea",
            "Pakistan",
            "Russia",
            "South Africa",
            "United Kingdom",
            "United States"
           ],
           "type": "scatter",
           "x": [
            180,
            188,
            0,
            20,
            0,
            0,
            19235,
            0,
            500,
            27519
           ],
           "xaxis": "x",
           "y": [
            1,
            2,
            0,
            null,
            0,
            0,
            19,
            null,
            0,
            22
           ],
           "yaxis": "y"
          }
         ],
         "name": "1975"
        },
        {
         "data": [
          {
           "hovertemplate": "year=1976<br>stockpile=%{marker.size}<br>tests=%{marker.color}<br>country_name=%{text}<extra></extra>",
           "ids": [
            "China",
            "France",
            "India",
            "Israel",
            "North Korea",
            "Pakistan",
            "Russia",
            "South Africa",
            "United Kingdom",
            "United States"
           ],
           "legendgroup": "",
           "marker": {
            "color": [
             4,
             5,
             0,
             null,
             0,
             0,
             21,
             null,
             1,
             20
            ],
            "coloraxis": "coloraxis",
            "size": [
             180,
             212,
             0,
             22,
             0,
             0,
             22165,
             0,
             500,
             25914
            ],
            "sizemode": "area",
            "sizeref": 100.3975,
            "symbol": "circle"
           },
           "mode": "markers+text",
           "name": "",
           "orientation": "v",
           "showlegend": false,
           "text": [
            "China",
            "France",
            "India",
            "Israel",
            "North Korea",
            "Pakistan",
            "Russia",
            "South Africa",
            "United Kingdom",
            "United States"
           ],
           "type": "scatter",
           "x": [
            180,
            212,
            0,
            22,
            0,
            0,
            22165,
            0,
            500,
            25914
           ],
           "xaxis": "x",
           "y": [
            4,
            5,
            0,
            null,
            0,
            0,
            21,
            null,
            1,
            20
           ],
           "yaxis": "y"
          }
         ],
         "name": "1976"
        },
        {
         "data": [
          {
           "hovertemplate": "year=1977<br>stockpile=%{marker.size}<br>tests=%{marker.color}<br>country_name=%{text}<extra></extra>",
           "ids": [
            "China",
            "France",
            "India",
            "Israel",
            "North Korea",
            "Pakistan",
            "Russia",
            "South Africa",
            "United Kingdom",
            "United States"
           ],
           "legendgroup": "",
           "marker": {
            "color": [
             1,
             9,
             0,
             null,
             0,
             0,
             24,
             null,
             0,
             20
            ],
            "coloraxis": "coloraxis",
            "size": [
             180,
             228,
             0,
             24,
             0,
             0,
             24281,
             0,
             500,
             25542
            ],
            "sizemode": "area",
            "sizeref": 100.3975,
            "symbol": "circle"
           },
           "mode": "markers+text",
           "name": "",
           "orientation": "v",
           "showlegend": false,
           "text": [
            "China",
            "France",
            "India",
            "Israel",
            "North Korea",
            "Pakistan",
            "Russia",
            "South Africa",
            "United Kingdom",
            "United States"
           ],
           "type": "scatter",
           "x": [
            180,
            228,
            0,
            24,
            0,
            0,
            24281,
            0,
            500,
            25542
           ],
           "xaxis": "x",
           "y": [
            1,
            9,
            0,
            null,
            0,
            0,
            24,
            null,
            0,
            20
           ],
           "yaxis": "y"
          }
         ],
         "name": "1977"
        },
        {
         "data": [
          {
           "hovertemplate": "year=1978<br>stockpile=%{marker.size}<br>tests=%{marker.color}<br>country_name=%{text}<extra></extra>",
           "ids": [
            "China",
            "France",
            "India",
            "Israel",
            "North Korea",
            "Pakistan",
            "Russia",
            "South Africa",
            "United Kingdom",
            "United States"
           ],
           "legendgroup": "",
           "marker": {
            "color": [
             3,
             11,
             0,
             null,
             0,
             0,
             31,
             null,
             2,
             19
            ],
            "coloraxis": "coloraxis",
            "size": [
             190,
             235,
             0,
             26,
             0,
             0,
             26169,
             0,
             500,
             24418
            ],
            "sizemode": "area",
            "sizeref": 100.3975,
            "symbol": "circle"
           },
           "mode": "markers+text",
           "name": "",
           "orientation": "v",
           "showlegend": false,
           "text": [
            "China",
            "France",
            "India",
            "Israel",
            "North Korea",
            "Pakistan",
            "Russia",
            "South Africa",
            "United Kingdom",
            "United States"
           ],
           "type": "scatter",
           "x": [
            190,
            235,
            0,
            26,
            0,
            0,
            26169,
            0,
            500,
            24418
           ],
           "xaxis": "x",
           "y": [
            3,
            11,
            0,
            null,
            0,
            0,
            31,
            null,
            2,
            19
           ],
           "yaxis": "y"
          }
         ],
         "name": "1978"
        },
        {
         "data": [
          {
           "hovertemplate": "year=1979<br>stockpile=%{marker.size}<br>tests=%{marker.color}<br>country_name=%{text}<extra></extra>",
           "ids": [
            "China",
            "France",
            "India",
            "Israel",
            "North Korea",
            "Pakistan",
            "Russia",
            "South Africa",
            "United Kingdom",
            "United States"
           ],
           "legendgroup": "",
           "marker": {
            "color": [
             1,
             10,
             0,
             null,
             0,
             0,
             31,
             null,
             1,
             15
            ],
            "coloraxis": "coloraxis",
            "size": [
             195,
             235,
             0,
             29,
             0,
             0,
             28258,
             0,
             500,
             24138
            ],
            "sizemode": "area",
            "sizeref": 100.3975,
            "symbol": "circle"
           },
           "mode": "markers+text",
           "name": "",
           "orientation": "v",
           "showlegend": false,
           "text": [
            "China",
            "France",
            "India",
            "Israel",
            "North Korea",
            "Pakistan",
            "Russia",
            "South Africa",
            "United Kingdom",
            "United States"
           ],
           "type": "scatter",
           "x": [
            195,
            235,
            0,
            29,
            0,
            0,
            28258,
            0,
            500,
            24138
           ],
           "xaxis": "x",
           "y": [
            1,
            10,
            0,
            null,
            0,
            0,
            31,
            null,
            1,
            15
           ],
           "yaxis": "y"
          }
         ],
         "name": "1979"
        },
        {
         "data": [
          {
           "hovertemplate": "year=1980<br>stockpile=%{marker.size}<br>tests=%{marker.color}<br>country_name=%{text}<extra></extra>",
           "ids": [
            "China",
            "France",
            "India",
            "Israel",
            "North Korea",
            "Pakistan",
            "Russia",
            "South Africa",
            "United Kingdom",
            "United States"
           ],
           "legendgroup": "",
           "marker": {
            "color": [
             1,
             12,
             0,
             null,
             0,
             0,
             24,
             null,
             3,
             14
            ],
            "coloraxis": "coloraxis",
            "size": [
             205,
             250,
             0,
             31,
             0,
             0,
             30665,
             0,
             500,
             24104
            ],
            "sizemode": "area",
            "sizeref": 100.3975,
            "symbol": "circle"
           },
           "mode": "markers+text",
           "name": "",
           "orientation": "v",
           "showlegend": false,
           "text": [
            "China",
            "France",
            "India",
            "Israel",
            "North Korea",
            "Pakistan",
            "Russia",
            "South Africa",
            "United Kingdom",
            "United States"
           ],
           "type": "scatter",
           "x": [
            205,
            250,
            0,
            31,
            0,
            0,
            30665,
            0,
            500,
            24104
           ],
           "xaxis": "x",
           "y": [
            1,
            12,
            0,
            null,
            0,
            0,
            24,
            null,
            3,
            14
           ],
           "yaxis": "y"
          }
         ],
         "name": "1980"
        },
        {
         "data": [
          {
           "hovertemplate": "year=1981<br>stockpile=%{marker.size}<br>tests=%{marker.color}<br>country_name=%{text}<extra></extra>",
           "ids": [
            "China",
            "France",
            "India",
            "Israel",
            "North Korea",
            "Pakistan",
            "Russia",
            "South Africa",
            "United Kingdom",
            "United States"
           ],
           "legendgroup": "",
           "marker": {
            "color": [
             0,
             12,
             0,
             null,
             0,
             0,
             21,
             null,
             1,
             16
            ],
            "coloraxis": "coloraxis",
            "size": [
             210,
             274,
             0,
             33,
             0,
             0,
             32146,
             0,
             500,
             23208
            ],
            "sizemode": "area",
            "sizeref": 100.3975,
            "symbol": "circle"
           },
           "mode": "markers+text",
           "name": "",
           "orientation": "v",
           "showlegend": false,
           "text": [
            "China",
            "France",
            "India",
            "Israel",
            "North Korea",
            "Pakistan",
            "Russia",
            "South Africa",
            "United Kingdom",
            "United States"
           ],
           "type": "scatter",
           "x": [
            210,
            274,
            0,
            33,
            0,
            0,
            32146,
            0,
            500,
            23208
           ],
           "xaxis": "x",
           "y": [
            0,
            12,
            0,
            null,
            0,
            0,
            21,
            null,
            1,
            16
           ],
           "yaxis": "y"
          }
         ],
         "name": "1981"
        },
        {
         "data": [
          {
           "hovertemplate": "year=1982<br>stockpile=%{marker.size}<br>tests=%{marker.color}<br>country_name=%{text}<extra></extra>",
           "ids": [
            "China",
            "France",
            "India",
            "Israel",
            "North Korea",
            "Pakistan",
            "Russia",
            "South Africa",
            "United Kingdom",
            "United States"
           ],
           "legendgroup": "",
           "marker": {
            "color": [
             1,
             10,
             0,
             null,
             0,
             0,
             19,
             null,
             1,
             18
            ],
            "coloraxis": "coloraxis",
            "size": [
             216,
             274,
             0,
             35,
             0,
             0,
             33486,
             3,
             385,
             22886
            ],
            "sizemode": "area",
            "sizeref": 100.3975,
            "symbol": "circle"
           },
           "mode": "markers+text",
           "name": "",
           "orientation": "v",
           "showlegend": false,
           "text": [
            "China",
            "France",
            "India",
            "Israel",
            "North Korea",
            "Pakistan",
            "Russia",
            "South Africa",
            "United Kingdom",
            "United States"
           ],
           "type": "scatter",
           "x": [
            216,
            274,
            0,
            35,
            0,
            0,
            33486,
            3,
            385,
            22886
           ],
           "xaxis": "x",
           "y": [
            1,
            10,
            0,
            null,
            0,
            0,
            19,
            null,
            1,
            18
           ],
           "yaxis": "y"
          }
         ],
         "name": "1982"
        },
        {
         "data": [
          {
           "hovertemplate": "year=1983<br>stockpile=%{marker.size}<br>tests=%{marker.color}<br>country_name=%{text}<extra></extra>",
           "ids": [
            "China",
            "France",
            "India",
            "Israel",
            "North Korea",
            "Pakistan",
            "Russia",
            "South Africa",
            "United Kingdom",
            "United States"
           ],
           "legendgroup": "",
           "marker": {
            "color": [
             2,
             9,
             0,
             null,
             0,
             0,
             25,
             null,
             1,
             18
            ],
            "coloraxis": "coloraxis",
            "size": [
             218,
             279,
             0,
             38,
             0,
             0,
             35130,
             3,
             380,
             23305
            ],
            "sizemode": "area",
            "sizeref": 100.3975,
            "symbol": "circle"
           },
           "mode": "markers+text",
           "name": "",
           "orientation": "v",
           "showlegend": false,
           "text": [
            "China",
            "France",
            "India",
            "Israel",
            "North Korea",
            "Pakistan",
            "Russia",
            "South Africa",
            "United Kingdom",
            "United States"
           ],
           "type": "scatter",
           "x": [
            218,
            279,
            0,
            38,
            0,
            0,
            35130,
            3,
            380,
            23305
           ],
           "xaxis": "x",
           "y": [
            2,
            9,
            0,
            null,
            0,
            0,
            25,
            null,
            1,
            18
           ],
           "yaxis": "y"
          }
         ],
         "name": "1983"
        },
        {
         "data": [
          {
           "hovertemplate": "year=1984<br>stockpile=%{marker.size}<br>tests=%{marker.color}<br>country_name=%{text}<extra></extra>",
           "ids": [
            "China",
            "France",
            "India",
            "Israel",
            "North Korea",
            "Pakistan",
            "Russia",
            "South Africa",
            "United Kingdom",
            "United States"
           ],
           "legendgroup": "",
           "marker": {
            "color": [
             2,
             8,
             0,
             null,
             0,
             0,
             27,
             null,
             2,
             18
            ],
            "coloraxis": "coloraxis",
            "size": [
             220,
             280,
             0,
             40,
             0,
             0,
             36825,
             3,
             350,
             23459
            ],
            "sizemode": "area",
            "sizeref": 100.3975,
            "symbol": "circle"
           },
           "mode": "markers+text",
           "name": "",
           "orientation": "v",
           "showlegend": false,
           "text": [
            "China",
            "France",
            "India",
            "Israel",
            "North Korea",
            "Pakistan",
            "Russia",
            "South Africa",
            "United Kingdom",
            "United States"
           ],
           "type": "scatter",
           "x": [
            220,
            280,
            0,
            40,
            0,
            0,
            36825,
            3,
            350,
            23459
           ],
           "xaxis": "x",
           "y": [
            2,
            8,
            0,
            null,
            0,
            0,
            27,
            null,
            2,
            18
           ],
           "yaxis": "y"
          }
         ],
         "name": "1984"
        },
        {
         "data": [
          {
           "hovertemplate": "year=1985<br>stockpile=%{marker.size}<br>tests=%{marker.color}<br>country_name=%{text}<extra></extra>",
           "ids": [
            "China",
            "France",
            "India",
            "Israel",
            "North Korea",
            "Pakistan",
            "Russia",
            "South Africa",
            "United Kingdom",
            "United States"
           ],
           "legendgroup": "",
           "marker": {
            "color": [
             0,
             8,
             0,
             null,
             0,
             0,
             10,
             null,
             1,
             17
            ],
            "coloraxis": "coloraxis",
            "size": [
             222,
             360,
             0,
             42,
             0,
             0,
             38582,
             3,
             350,
             23368
            ],
            "sizemode": "area",
            "sizeref": 100.3975,
            "symbol": "circle"
           },
           "mode": "markers+text",
           "name": "",
           "orientation": "v",
           "showlegend": false,
           "text": [
            "China",
            "France",
            "India",
            "Israel",
            "North Korea",
            "Pakistan",
            "Russia",
            "South Africa",
            "United Kingdom",
            "United States"
           ],
           "type": "scatter",
           "x": [
            222,
            360,
            0,
            42,
            0,
            0,
            38582,
            3,
            350,
            23368
           ],
           "xaxis": "x",
           "y": [
            0,
            8,
            0,
            null,
            0,
            0,
            10,
            null,
            1,
            17
           ],
           "yaxis": "y"
          }
         ],
         "name": "1985"
        },
        {
         "data": [
          {
           "hovertemplate": "year=1986<br>stockpile=%{marker.size}<br>tests=%{marker.color}<br>country_name=%{text}<extra></extra>",
           "ids": [
            "China",
            "France",
            "India",
            "Israel",
            "North Korea",
            "Pakistan",
            "Russia",
            "South Africa",
            "United Kingdom",
            "United States"
           ],
           "legendgroup": "",
           "marker": {
            "color": [
             0,
             8,
             0,
             null,
             0,
             0,
             0,
             null,
             1,
             14
            ],
            "coloraxis": "coloraxis",
            "size": [
             224,
             355,
             0,
             44,
             0,
             0,
             40159,
             3,
             350,
             23317
            ],
            "sizemode": "area",
            "sizeref": 100.3975,
            "symbol": "circle"
           },
           "mode": "markers+text",
           "name": "",
           "orientation": "v",
           "showlegend": false,
           "text": [
            "China",
            "France",
            "India",
            "Israel",
            "North Korea",
            "Pakistan",
            "Russia",
            "South Africa",
            "United Kingdom",
            "United States"
           ],
           "type": "scatter",
           "x": [
            224,
            355,
            0,
            44,
            0,
            0,
            40159,
            3,
            350,
            23317
           ],
           "xaxis": "x",
           "y": [
            0,
            8,
            0,
            null,
            0,
            0,
            0,
            null,
            1,
            14
           ],
           "yaxis": "y"
          }
         ],
         "name": "1986"
        },
        {
         "data": [
          {
           "hovertemplate": "year=1987<br>stockpile=%{marker.size}<br>tests=%{marker.color}<br>country_name=%{text}<extra></extra>",
           "ids": [
            "China",
            "France",
            "India",
            "Israel",
            "North Korea",
            "Pakistan",
            "Russia",
            "South Africa",
            "United Kingdom",
            "United States"
           ],
           "legendgroup": "",
           "marker": {
            "color": [
             1,
             8,
             0,
             null,
             0,
             0,
             23,
             null,
             1,
             14
            ],
            "coloraxis": "coloraxis",
            "size": [
             226,
             420,
             0,
             47,
             0,
             0,
             38107,
             4,
             350,
             23575
            ],
            "sizemode": "area",
            "sizeref": 100.3975,
            "symbol": "circle"
           },
           "mode": "markers+text",
           "name": "",
           "orientation": "v",
           "showlegend": false,
           "text": [
            "China",
            "France",
            "India",
            "Israel",
            "North Korea",
            "Pakistan",
            "Russia",
            "South Africa",
            "United Kingdom",
            "United States"
           ],
           "type": "scatter",
           "x": [
            226,
            420,
            0,
            47,
            0,
            0,
            38107,
            4,
            350,
            23575
           ],
           "xaxis": "x",
           "y": [
            1,
            8,
            0,
            null,
            0,
            0,
            23,
            null,
            1,
            14
           ],
           "yaxis": "y"
          }
         ],
         "name": "1987"
        },
        {
         "data": [
          {
           "hovertemplate": "year=1988<br>stockpile=%{marker.size}<br>tests=%{marker.color}<br>country_name=%{text}<extra></extra>",
           "ids": [
            "China",
            "France",
            "India",
            "Israel",
            "North Korea",
            "Pakistan",
            "Russia",
            "South Africa",
            "United Kingdom",
            "United States"
           ],
           "legendgroup": "",
           "marker": {
            "color": [
             1,
             8,
             0,
             null,
             0,
             0,
             16,
             null,
             0,
             15
            ],
            "coloraxis": "coloraxis",
            "size": [
             228,
             410,
             0,
             49,
             0,
             0,
             36538,
             5,
             350,
             23205
            ],
            "sizemode": "area",
            "sizeref": 100.3975,
            "symbol": "circle"
           },
           "mode": "markers+text",
           "name": "",
           "orientation": "v",
           "showlegend": false,
           "text": [
            "China",
            "France",
            "India",
            "Israel",
            "North Korea",
            "Pakistan",
            "Russia",
            "South Africa",
            "United Kingdom",
            "United States"
           ],
           "type": "scatter",
           "x": [
            228,
            410,
            0,
            49,
            0,
            0,
            36538,
            5,
            350,
            23205
           ],
           "xaxis": "x",
           "y": [
            1,
            8,
            0,
            null,
            0,
            0,
            16,
            null,
            0,
            15
           ],
           "yaxis": "y"
          }
         ],
         "name": "1988"
        },
        {
         "data": [
          {
           "hovertemplate": "year=1989<br>stockpile=%{marker.size}<br>tests=%{marker.color}<br>country_name=%{text}<extra></extra>",
           "ids": [
            "China",
            "France",
            "India",
            "Israel",
            "North Korea",
            "Pakistan",
            "Russia",
            "South Africa",
            "United Kingdom",
            "United States"
           ],
           "legendgroup": "",
           "marker": {
            "color": [
             0,
             9,
             0,
             null,
             0,
             0,
             7,
             null,
             1,
             11
            ],
            "coloraxis": "coloraxis",
            "size": [
             230,
             410,
             0,
             51,
             0,
             0,
             35078,
             6,
             350,
             22217
            ],
            "sizemode": "area",
            "sizeref": 100.3975,
            "symbol": "circle"
           },
           "mode": "markers+text",
           "name": "",
           "orientation": "v",
           "showlegend": false,
           "text": [
            "China",
            "France",
            "India",
            "Israel",
            "North Korea",
            "Pakistan",
            "Russia",
            "South Africa",
            "United Kingdom",
            "United States"
           ],
           "type": "scatter",
           "x": [
            230,
            410,
            0,
            51,
            0,
            0,
            35078,
            6,
            350,
            22217
           ],
           "xaxis": "x",
           "y": [
            0,
            9,
            0,
            null,
            0,
            0,
            7,
            null,
            1,
            11
           ],
           "yaxis": "y"
          }
         ],
         "name": "1989"
        },
        {
         "data": [
          {
           "hovertemplate": "year=1990<br>stockpile=%{marker.size}<br>tests=%{marker.color}<br>country_name=%{text}<extra></extra>",
           "ids": [
            "China",
            "France",
            "India",
            "Israel",
            "North Korea",
            "Pakistan",
            "Russia",
            "South Africa",
            "United Kingdom",
            "United States"
           ],
           "legendgroup": "",
           "marker": {
            "color": [
             2,
             6,
             0,
             null,
             0,
             0,
             1,
             null,
             1,
             8
            ],
            "coloraxis": "coloraxis",
            "size": [
             232,
             505,
             0,
             53,
             0,
             0,
             32980,
             0,
             350,
             21392
            ],
            "sizemode": "area",
            "sizeref": 100.3975,
            "symbol": "circle"
           },
           "mode": "markers+text",
           "name": "",
           "orientation": "v",
           "showlegend": false,
           "text": [
            "China",
            "France",
            "India",
            "Israel",
            "North Korea",
            "Pakistan",
            "Russia",
            "South Africa",
            "United Kingdom",
            "United States"
           ],
           "type": "scatter",
           "x": [
            232,
            505,
            0,
            53,
            0,
            0,
            32980,
            0,
            350,
            21392
           ],
           "xaxis": "x",
           "y": [
            2,
            6,
            0,
            null,
            0,
            0,
            1,
            null,
            1,
            8
           ],
           "yaxis": "y"
          }
         ],
         "name": "1990"
        },
        {
         "data": [
          {
           "hovertemplate": "year=1991<br>stockpile=%{marker.size}<br>tests=%{marker.color}<br>country_name=%{text}<extra></extra>",
           "ids": [
            "China",
            "France",
            "India",
            "Israel",
            "North Korea",
            "Pakistan",
            "Russia",
            "South Africa",
            "United Kingdom",
            "United States"
           ],
           "legendgroup": "",
           "marker": {
            "color": [
             0,
             6,
             0,
             null,
             0,
             0,
             0,
             null,
             1,
             7
            ],
            "coloraxis": "coloraxis",
            "size": [
             234,
             540,
             0,
             56,
             0,
             0,
             29154,
             0,
             350,
             19008
            ],
            "sizemode": "area",
            "sizeref": 100.3975,
            "symbol": "circle"
           },
           "mode": "markers+text",
           "name": "",
           "orientation": "v",
           "showlegend": false,
           "text": [
            "China",
            "France",
            "India",
            "Israel",
            "North Korea",
            "Pakistan",
            "Russia",
            "South Africa",
            "United Kingdom",
            "United States"
           ],
           "type": "scatter",
           "x": [
            234,
            540,
            0,
            56,
            0,
            0,
            29154,
            0,
            350,
            19008
           ],
           "xaxis": "x",
           "y": [
            0,
            6,
            0,
            null,
            0,
            0,
            0,
            null,
            1,
            7
           ],
           "yaxis": "y"
          }
         ],
         "name": "1991"
        },
        {
         "data": [
          {
           "hovertemplate": "year=1992<br>stockpile=%{marker.size}<br>tests=%{marker.color}<br>country_name=%{text}<extra></extra>",
           "ids": [
            "China",
            "France",
            "India",
            "Israel",
            "North Korea",
            "Pakistan",
            "Russia",
            "South Africa",
            "United Kingdom",
            "United States"
           ],
           "legendgroup": "",
           "marker": {
            "color": [
             2,
             0,
             0,
             null,
             0,
             0,
             0,
             null,
             0,
             6
            ],
            "coloraxis": "coloraxis",
            "size": [
             234,
             540,
             0,
             58,
             0,
             0,
             26734,
             0,
             250,
             13708
            ],
            "sizemode": "area",
            "sizeref": 100.3975,
            "symbol": "circle"
           },
           "mode": "markers+text",
           "name": "",
           "orientation": "v",
           "showlegend": false,
           "text": [
            "China",
            "France",
            "India",
            "Israel",
            "North Korea",
            "Pakistan",
            "Russia",
            "South Africa",
            "United Kingdom",
            "United States"
           ],
           "type": "scatter",
           "x": [
            234,
            540,
            0,
            58,
            0,
            0,
            26734,
            0,
            250,
            13708
           ],
           "xaxis": "x",
           "y": [
            2,
            0,
            0,
            null,
            0,
            0,
            0,
            null,
            0,
            6
           ],
           "yaxis": "y"
          }
         ],
         "name": "1992"
        },
        {
         "data": [
          {
           "hovertemplate": "year=1993<br>stockpile=%{marker.size}<br>tests=%{marker.color}<br>country_name=%{text}<extra></extra>",
           "ids": [
            "China",
            "France",
            "India",
            "Israel",
            "North Korea",
            "Pakistan",
            "Russia",
            "South Africa",
            "United Kingdom",
            "United States"
           ],
           "legendgroup": "",
           "marker": {
            "color": [
             1,
             0,
             0,
             null,
             0,
             0,
             0,
             null,
             0,
             0
            ],
            "coloraxis": "coloraxis",
            "size": [
             234,
             525,
             0,
             60,
             0,
             0,
             24403,
             0,
             250,
             11511
            ],
            "sizemode": "area",
            "sizeref": 100.3975,
            "symbol": "circle"
           },
           "mode": "markers+text",
           "name": "",
           "orientation": "v",
           "showlegend": false,
           "text": [
            "China",
            "France",
            "India",
            "Israel",
            "North Korea",
            "Pakistan",
            "Russia",
            "South Africa",
            "United Kingdom",
            "United States"
           ],
           "type": "scatter",
           "x": [
            234,
            525,
            0,
            60,
            0,
            0,
            24403,
            0,
            250,
            11511
           ],
           "xaxis": "x",
           "y": [
            1,
            0,
            0,
            null,
            0,
            0,
            0,
            null,
            0,
            0
           ],
           "yaxis": "y"
          }
         ],
         "name": "1993"
        },
        {
         "data": [
          {
           "hovertemplate": "year=1994<br>stockpile=%{marker.size}<br>tests=%{marker.color}<br>country_name=%{text}<extra></extra>",
           "ids": [
            "China",
            "France",
            "India",
            "Israel",
            "North Korea",
            "Pakistan",
            "Russia",
            "South Africa",
            "United Kingdom",
            "United States"
           ],
           "legendgroup": "",
           "marker": {
            "color": [
             2,
             0,
             0,
             null,
             0,
             0,
             0,
             null,
             0,
             0
            ],
            "coloraxis": "coloraxis",
            "size": [
             234,
             510,
             0,
             62,
             0,
             0,
             21339,
             0,
             250,
             10979
            ],
            "sizemode": "area",
            "sizeref": 100.3975,
            "symbol": "circle"
           },
           "mode": "markers+text",
           "name": "",
           "orientation": "v",
           "showlegend": false,
           "text": [
            "China",
            "France",
            "India",
            "Israel",
            "North Korea",
            "Pakistan",
            "Russia",
            "South Africa",
            "United Kingdom",
            "United States"
           ],
           "type": "scatter",
           "x": [
            234,
            510,
            0,
            62,
            0,
            0,
            21339,
            0,
            250,
            10979
           ],
           "xaxis": "x",
           "y": [
            2,
            0,
            0,
            null,
            0,
            0,
            0,
            null,
            0,
            0
           ],
           "yaxis": "y"
          }
         ],
         "name": "1994"
        },
        {
         "data": [
          {
           "hovertemplate": "year=1995<br>stockpile=%{marker.size}<br>tests=%{marker.color}<br>country_name=%{text}<extra></extra>",
           "ids": [
            "China",
            "France",
            "India",
            "Israel",
            "North Korea",
            "Pakistan",
            "Russia",
            "South Africa",
            "United Kingdom",
            "United States"
           ],
           "legendgroup": "",
           "marker": {
            "color": [
             2,
             5,
             0,
             null,
             0,
             0,
             0,
             null,
             0,
             0
            ],
            "coloraxis": "coloraxis",
            "size": [
             234,
             500,
             0,
             63,
             0,
             0,
             18179,
             0,
             234,
             10904
            ],
            "sizemode": "area",
            "sizeref": 100.3975,
            "symbol": "circle"
           },
           "mode": "markers+text",
           "name": "",
           "orientation": "v",
           "showlegend": false,
           "text": [
            "China",
            "France",
            "India",
            "Israel",
            "North Korea",
            "Pakistan",
            "Russia",
            "South Africa",
            "United Kingdom",
            "United States"
           ],
           "type": "scatter",
           "x": [
            234,
            500,
            0,
            63,
            0,
            0,
            18179,
            0,
            234,
            10904
           ],
           "xaxis": "x",
           "y": [
            2,
            5,
            0,
            null,
            0,
            0,
            0,
            null,
            0,
            0
           ],
           "yaxis": "y"
          }
         ],
         "name": "1995"
        },
        {
         "data": [
          {
           "hovertemplate": "year=1996<br>stockpile=%{marker.size}<br>tests=%{marker.color}<br>country_name=%{text}<extra></extra>",
           "ids": [
            "China",
            "France",
            "India",
            "Israel",
            "North Korea",
            "Pakistan",
            "Russia",
            "South Africa",
            "United Kingdom",
            "United States"
           ],
           "legendgroup": "",
           "marker": {
            "color": [
             2,
             1,
             0,
             null,
             0,
             0,
             0,
             null,
             0,
             0
            ],
            "coloraxis": "coloraxis",
            "size": [
             234,
             450,
             0,
             64,
             0,
             0,
             15942,
             0,
             203,
             11011
            ],
            "sizemode": "area",
            "sizeref": 100.3975,
            "symbol": "circle"
           },
           "mode": "markers+text",
           "name": "",
           "orientation": "v",
           "showlegend": false,
           "text": [
            "China",
            "France",
            "India",
            "Israel",
            "North Korea",
            "Pakistan",
            "Russia",
            "South Africa",
            "United Kingdom",
            "United States"
           ],
           "type": "scatter",
           "x": [
            234,
            450,
            0,
            64,
            0,
            0,
            15942,
            0,
            203,
            11011
           ],
           "xaxis": "x",
           "y": [
            2,
            1,
            0,
            null,
            0,
            0,
            0,
            null,
            0,
            0
           ],
           "yaxis": "y"
          }
         ],
         "name": "1996"
        },
        {
         "data": [
          {
           "hovertemplate": "year=1997<br>stockpile=%{marker.size}<br>tests=%{marker.color}<br>country_name=%{text}<extra></extra>",
           "ids": [
            "China",
            "France",
            "India",
            "Israel",
            "North Korea",
            "Pakistan",
            "Russia",
            "South Africa",
            "United Kingdom",
            "United States"
           ],
           "legendgroup": "",
           "marker": {
            "color": [
             0,
             0,
             0,
             null,
             0,
             0,
             0,
             null,
             0,
             0
            ],
            "coloraxis": "coloraxis",
            "size": [
             232,
             450,
             0,
             66,
             0,
             0,
             15442,
             0,
             203,
             10903
            ],
            "sizemode": "area",
            "sizeref": 100.3975,
            "symbol": "circle"
           },
           "mode": "markers+text",
           "name": "",
           "orientation": "v",
           "showlegend": false,
           "text": [
            "China",
            "France",
            "India",
            "Israel",
            "North Korea",
            "Pakistan",
            "Russia",
            "South Africa",
            "United Kingdom",
            "United States"
           ],
           "type": "scatter",
           "x": [
            232,
            450,
            0,
            66,
            0,
            0,
            15442,
            0,
            203,
            10903
           ],
           "xaxis": "x",
           "y": [
            0,
            0,
            0,
            null,
            0,
            0,
            0,
            null,
            0,
            0
           ],
           "yaxis": "y"
          }
         ],
         "name": "1997"
        },
        {
         "data": [
          {
           "hovertemplate": "year=1998<br>stockpile=%{marker.size}<br>tests=%{marker.color}<br>country_name=%{text}<extra></extra>",
           "ids": [
            "China",
            "France",
            "India",
            "Israel",
            "North Korea",
            "Pakistan",
            "Russia",
            "South Africa",
            "United Kingdom",
            "United States"
           ],
           "legendgroup": "",
           "marker": {
            "color": [
             0,
             0,
             2,
             null,
             0,
             2,
             0,
             null,
             0,
             0
            ],
            "coloraxis": "coloraxis",
            "size": [
             232,
             450,
             3,
             68,
             0,
             2,
             14368,
             0,
             240,
             10732
            ],
            "sizemode": "area",
            "sizeref": 100.3975,
            "symbol": "circle"
           },
           "mode": "markers+text",
           "name": "",
           "orientation": "v",
           "showlegend": false,
           "text": [
            "China",
            "France",
            "India",
            "Israel",
            "North Korea",
            "Pakistan",
            "Russia",
            "South Africa",
            "United Kingdom",
            "United States"
           ],
           "type": "scatter",
           "x": [
            232,
            450,
            3,
            68,
            0,
            2,
            14368,
            0,
            240,
            10732
           ],
           "xaxis": "x",
           "y": [
            0,
            0,
            2,
            null,
            0,
            2,
            0,
            null,
            0,
            0
           ],
           "yaxis": "y"
          }
         ],
         "name": "1998"
        },
        {
         "data": [
          {
           "hovertemplate": "year=1999<br>stockpile=%{marker.size}<br>tests=%{marker.color}<br>country_name=%{text}<extra></extra>",
           "ids": [
            "China",
            "France",
            "India",
            "Israel",
            "North Korea",
            "Pakistan",
            "Russia",
            "South Africa",
            "United Kingdom",
            "United States"
           ],
           "legendgroup": "",
           "marker": {
            "color": [
             0,
             0,
             0,
             null,
             0,
             0,
             0,
             null,
             0,
             0
            ],
            "coloraxis": "coloraxis",
            "size": [
             232,
             450,
             8,
             70,
             0,
             8,
             13188,
             0,
             240,
             10685
            ],
            "sizemode": "area",
            "sizeref": 100.3975,
            "symbol": "circle"
           },
           "mode": "markers+text",
           "name": "",
           "orientation": "v",
           "showlegend": false,
           "text": [
            "China",
            "France",
            "India",
            "Israel",
            "North Korea",
            "Pakistan",
            "Russia",
            "South Africa",
            "United Kingdom",
            "United States"
           ],
           "type": "scatter",
           "x": [
            232,
            450,
            8,
            70,
            0,
            8,
            13188,
            0,
            240,
            10685
           ],
           "xaxis": "x",
           "y": [
            0,
            0,
            0,
            null,
            0,
            0,
            0,
            null,
            0,
            0
           ],
           "yaxis": "y"
          }
         ],
         "name": "1999"
        },
        {
         "data": [
          {
           "hovertemplate": "year=2000<br>stockpile=%{marker.size}<br>tests=%{marker.color}<br>country_name=%{text}<extra></extra>",
           "ids": [
            "China",
            "France",
            "India",
            "Israel",
            "North Korea",
            "Pakistan",
            "Russia",
            "South Africa",
            "United Kingdom",
            "United States"
           ],
           "legendgroup": "",
           "marker": {
            "color": [
             0,
             0,
             0,
             null,
             0,
             0,
             0,
             null,
             0,
             0
            ],
            "coloraxis": "coloraxis",
            "size": [
             232,
             470,
             13,
             72,
             0,
             14,
             12188,
             0,
             280,
             10577
            ],
            "sizemode": "area",
            "sizeref": 100.3975,
            "symbol": "circle"
           },
           "mode": "markers+text",
           "name": "",
           "orientation": "v",
           "showlegend": false,
           "text": [
            "China",
            "France",
            "India",
            "Israel",
            "North Korea",
            "Pakistan",
            "Russia",
            "South Africa",
            "United Kingdom",
            "United States"
           ],
           "type": "scatter",
           "x": [
            232,
            470,
            13,
            72,
            0,
            14,
            12188,
            0,
            280,
            10577
           ],
           "xaxis": "x",
           "y": [
            0,
            0,
            0,
            null,
            0,
            0,
            0,
            null,
            0,
            0
           ],
           "yaxis": "y"
          }
         ],
         "name": "2000"
        },
        {
         "data": [
          {
           "hovertemplate": "year=2001<br>stockpile=%{marker.size}<br>tests=%{marker.color}<br>country_name=%{text}<extra></extra>",
           "ids": [
            "China",
            "France",
            "India",
            "Israel",
            "North Korea",
            "Pakistan",
            "Russia",
            "South Africa",
            "United Kingdom",
            "United States"
           ],
           "legendgroup": "",
           "marker": {
            "color": [
             0,
             0,
             0,
             null,
             0,
             0,
             0,
             null,
             0,
             0
            ],
            "coloraxis": "coloraxis",
            "size": [
             235,
             350,
             18,
             74,
             0,
             20,
             11152,
             0,
             280,
             10526
            ],
            "sizemode": "area",
            "sizeref": 100.3975,
            "symbol": "circle"
           },
           "mode": "markers+text",
           "name": "",
           "orientation": "v",
           "showlegend": false,
           "text": [
            "China",
            "France",
            "India",
            "Israel",
            "North Korea",
            "Pakistan",
            "Russia",
            "South Africa",
            "United Kingdom",
            "United States"
           ],
           "type": "scatter",
           "x": [
            235,
            350,
            18,
            74,
            0,
            20,
            11152,
            0,
            280,
            10526
           ],
           "xaxis": "x",
           "y": [
            0,
            0,
            0,
            null,
            0,
            0,
            0,
            null,
            0,
            0
           ],
           "yaxis": "y"
          }
         ],
         "name": "2001"
        },
        {
         "data": [
          {
           "hovertemplate": "year=2002<br>stockpile=%{marker.size}<br>tests=%{marker.color}<br>country_name=%{text}<extra></extra>",
           "ids": [
            "China",
            "France",
            "India",
            "Israel",
            "North Korea",
            "Pakistan",
            "Russia",
            "South Africa",
            "United Kingdom",
            "United States"
           ],
           "legendgroup": "",
           "marker": {
            "color": [
             0,
             0,
             0,
             null,
             0,
             0,
             0,
             null,
             0,
             0
            ],
            "coloraxis": "coloraxis",
            "size": [
             235,
             350,
             23,
             76,
             0,
             26,
             10114,
             0,
             280,
             10457
            ],
            "sizemode": "area",
            "sizeref": 100.3975,
            "symbol": "circle"
           },
           "mode": "markers+text",
           "name": "",
           "orientation": "v",
           "showlegend": false,
           "text": [
            "China",
            "France",
            "India",
            "Israel",
            "North Korea",
            "Pakistan",
            "Russia",
            "South Africa",
            "United Kingdom",
            "United States"
           ],
           "type": "scatter",
           "x": [
            235,
            350,
            23,
            76,
            0,
            26,
            10114,
            0,
            280,
            10457
           ],
           "xaxis": "x",
           "y": [
            0,
            0,
            0,
            null,
            0,
            0,
            0,
            null,
            0,
            0
           ],
           "yaxis": "y"
          }
         ],
         "name": "2002"
        },
        {
         "data": [
          {
           "hovertemplate": "year=2003<br>stockpile=%{marker.size}<br>tests=%{marker.color}<br>country_name=%{text}<extra></extra>",
           "ids": [
            "China",
            "France",
            "India",
            "Israel",
            "North Korea",
            "Pakistan",
            "Russia",
            "South Africa",
            "United Kingdom",
            "United States"
           ],
           "legendgroup": "",
           "marker": {
            "color": [
             0,
             0,
             0,
             null,
             0,
             0,
             0,
             null,
             0,
             0
            ],
            "coloraxis": "coloraxis",
            "size": [
             235,
             350,
             28,
             78,
             0,
             32,
             9076,
             0,
             280,
             10027
            ],
            "sizemode": "area",
            "sizeref": 100.3975,
            "symbol": "circle"
           },
           "mode": "markers+text",
           "name": "",
           "orientation": "v",
           "showlegend": false,
           "text": [
            "China",
            "France",
            "India",
            "Israel",
            "North Korea",
            "Pakistan",
            "Russia",
            "South Africa",
            "United Kingdom",
            "United States"
           ],
           "type": "scatter",
           "x": [
            235,
            350,
            28,
            78,
            0,
            32,
            9076,
            0,
            280,
            10027
           ],
           "xaxis": "x",
           "y": [
            0,
            0,
            0,
            null,
            0,
            0,
            0,
            null,
            0,
            0
           ],
           "yaxis": "y"
          }
         ],
         "name": "2003"
        },
        {
         "data": [
          {
           "hovertemplate": "year=2004<br>stockpile=%{marker.size}<br>tests=%{marker.color}<br>country_name=%{text}<extra></extra>",
           "ids": [
            "China",
            "France",
            "India",
            "Israel",
            "North Korea",
            "Pakistan",
            "Russia",
            "South Africa",
            "United Kingdom",
            "United States"
           ],
           "legendgroup": "",
           "marker": {
            "color": [
             0,
             0,
             0,
             null,
             0,
             0,
             0,
             null,
             0,
             0
            ],
            "coloraxis": "coloraxis",
            "size": [
             235,
             350,
             33,
             80,
             0,
             38,
             8038,
             0,
             280,
             8570
            ],
            "sizemode": "area",
            "sizeref": 100.3975,
            "symbol": "circle"
           },
           "mode": "markers+text",
           "name": "",
           "orientation": "v",
           "showlegend": false,
           "text": [
            "China",
            "France",
            "India",
            "Israel",
            "North Korea",
            "Pakistan",
            "Russia",
            "South Africa",
            "United Kingdom",
            "United States"
           ],
           "type": "scatter",
           "x": [
            235,
            350,
            33,
            80,
            0,
            38,
            8038,
            0,
            280,
            8570
           ],
           "xaxis": "x",
           "y": [
            0,
            0,
            0,
            null,
            0,
            0,
            0,
            null,
            0,
            0
           ],
           "yaxis": "y"
          }
         ],
         "name": "2004"
        },
        {
         "data": [
          {
           "hovertemplate": "year=2005<br>stockpile=%{marker.size}<br>tests=%{marker.color}<br>country_name=%{text}<extra></extra>",
           "ids": [
            "China",
            "France",
            "India",
            "Israel",
            "North Korea",
            "Pakistan",
            "Russia",
            "South Africa",
            "United Kingdom",
            "United States"
           ],
           "legendgroup": "",
           "marker": {
            "color": [
             0,
             0,
             0,
             null,
             0,
             0,
             0,
             null,
             0,
             0
            ],
            "coloraxis": "coloraxis",
            "size": [
             235,
             350,
             38,
             80,
             0,
             44,
             7000,
             0,
             280,
             8360
            ],
            "sizemode": "area",
            "sizeref": 100.3975,
            "symbol": "circle"
           },
           "mode": "markers+text",
           "name": "",
           "orientation": "v",
           "showlegend": false,
           "text": [
            "China",
            "France",
            "India",
            "Israel",
            "North Korea",
            "Pakistan",
            "Russia",
            "South Africa",
            "United Kingdom",
            "United States"
           ],
           "type": "scatter",
           "x": [
            235,
            350,
            38,
            80,
            0,
            44,
            7000,
            0,
            280,
            8360
           ],
           "xaxis": "x",
           "y": [
            0,
            0,
            0,
            null,
            0,
            0,
            0,
            null,
            0,
            0
           ],
           "yaxis": "y"
          }
         ],
         "name": "2005"
        },
        {
         "data": [
          {
           "hovertemplate": "year=2006<br>stockpile=%{marker.size}<br>tests=%{marker.color}<br>country_name=%{text}<extra></extra>",
           "ids": [
            "China",
            "France",
            "India",
            "Israel",
            "North Korea",
            "Pakistan",
            "Russia",
            "South Africa",
            "United Kingdom",
            "United States"
           ],
           "legendgroup": "",
           "marker": {
            "color": [
             0,
             0,
             0,
             null,
             1,
             0,
             0,
             null,
             0,
             0
            ],
            "coloraxis": "coloraxis",
            "size": [
             235,
             350,
             43,
             80,
             0,
             50,
             6643,
             0,
             225,
             7853
            ],
            "sizemode": "area",
            "sizeref": 100.3975,
            "symbol": "circle"
           },
           "mode": "markers+text",
           "name": "",
           "orientation": "v",
           "showlegend": false,
           "text": [
            "China",
            "France",
            "India",
            "Israel",
            "North Korea",
            "Pakistan",
            "Russia",
            "South Africa",
            "United Kingdom",
            "United States"
           ],
           "type": "scatter",
           "x": [
            235,
            350,
            43,
            80,
            0,
            50,
            6643,
            0,
            225,
            7853
           ],
           "xaxis": "x",
           "y": [
            0,
            0,
            0,
            null,
            1,
            0,
            0,
            null,
            0,
            0
           ],
           "yaxis": "y"
          }
         ],
         "name": "2006"
        },
        {
         "data": [
          {
           "hovertemplate": "year=2007<br>stockpile=%{marker.size}<br>tests=%{marker.color}<br>country_name=%{text}<extra></extra>",
           "ids": [
            "China",
            "France",
            "India",
            "Israel",
            "North Korea",
            "Pakistan",
            "Russia",
            "South Africa",
            "United Kingdom",
            "United States"
           ],
           "legendgroup": "",
           "marker": {
            "color": [
             0,
             0,
             0,
             null,
             0,
             0,
             0,
             null,
             0,
             0
            ],
            "coloraxis": "coloraxis",
            "size": [
             235,
             350,
             50,
             80,
             0,
             60,
             6286,
             0,
             225,
             5709
            ],
            "sizemode": "area",
            "sizeref": 100.3975,
            "symbol": "circle"
           },
           "mode": "markers+text",
           "name": "",
           "orientation": "v",
           "showlegend": false,
           "text": [
            "China",
            "France",
            "India",
            "Israel",
            "North Korea",
            "Pakistan",
            "Russia",
            "South Africa",
            "United Kingdom",
            "United States"
           ],
           "type": "scatter",
           "x": [
            235,
            350,
            50,
            80,
            0,
            60,
            6286,
            0,
            225,
            5709
           ],
           "xaxis": "x",
           "y": [
            0,
            0,
            0,
            null,
            0,
            0,
            0,
            null,
            0,
            0
           ],
           "yaxis": "y"
          }
         ],
         "name": "2007"
        },
        {
         "data": [
          {
           "hovertemplate": "year=2008<br>stockpile=%{marker.size}<br>tests=%{marker.color}<br>country_name=%{text}<extra></extra>",
           "ids": [
            "China",
            "France",
            "India",
            "Israel",
            "North Korea",
            "Pakistan",
            "Russia",
            "South Africa",
            "United Kingdom",
            "United States"
           ],
           "legendgroup": "",
           "marker": {
            "color": [
             0,
             0,
             0,
             null,
             0,
             0,
             0,
             null,
             0,
             0
            ],
            "coloraxis": "coloraxis",
            "size": [
             235,
             300,
             60,
             80,
             0,
             70,
             5929,
             0,
             225,
             5273
            ],
            "sizemode": "area",
            "sizeref": 100.3975,
            "symbol": "circle"
           },
           "mode": "markers+text",
           "name": "",
           "orientation": "v",
           "showlegend": false,
           "text": [
            "China",
            "France",
            "India",
            "Israel",
            "North Korea",
            "Pakistan",
            "Russia",
            "South Africa",
            "United Kingdom",
            "United States"
           ],
           "type": "scatter",
           "x": [
            235,
            300,
            60,
            80,
            0,
            70,
            5929,
            0,
            225,
            5273
           ],
           "xaxis": "x",
           "y": [
            0,
            0,
            0,
            null,
            0,
            0,
            0,
            null,
            0,
            0
           ],
           "yaxis": "y"
          }
         ],
         "name": "2008"
        },
        {
         "data": [
          {
           "hovertemplate": "year=2009<br>stockpile=%{marker.size}<br>tests=%{marker.color}<br>country_name=%{text}<extra></extra>",
           "ids": [
            "China",
            "France",
            "India",
            "Israel",
            "North Korea",
            "Pakistan",
            "Russia",
            "South Africa",
            "United Kingdom",
            "United States"
           ],
           "legendgroup": "",
           "marker": {
            "color": [
             0,
             0,
             0,
             null,
             1,
             0,
             0,
             null,
             0,
             0
            ],
            "coloraxis": "coloraxis",
            "size": [
             240,
             300,
             70,
             80,
             0,
             80,
             5527,
             0,
             225,
             5113
            ],
            "sizemode": "area",
            "sizeref": 100.3975,
            "symbol": "circle"
           },
           "mode": "markers+text",
           "name": "",
           "orientation": "v",
           "showlegend": false,
           "text": [
            "China",
            "France",
            "India",
            "Israel",
            "North Korea",
            "Pakistan",
            "Russia",
            "South Africa",
            "United Kingdom",
            "United States"
           ],
           "type": "scatter",
           "x": [
            240,
            300,
            70,
            80,
            0,
            80,
            5527,
            0,
            225,
            5113
           ],
           "xaxis": "x",
           "y": [
            0,
            0,
            0,
            null,
            1,
            0,
            0,
            null,
            0,
            0
           ],
           "yaxis": "y"
          }
         ],
         "name": "2009"
        },
        {
         "data": [
          {
           "hovertemplate": "year=2010<br>stockpile=%{marker.size}<br>tests=%{marker.color}<br>country_name=%{text}<extra></extra>",
           "ids": [
            "China",
            "France",
            "India",
            "Israel",
            "North Korea",
            "Pakistan",
            "Russia",
            "South Africa",
            "United Kingdom",
            "United States"
           ],
           "legendgroup": "",
           "marker": {
            "color": [
             0,
             0,
             0,
             null,
             3,
             0,
             0,
             null,
             0,
             0
            ],
            "coloraxis": "coloraxis",
            "size": [
             240,
             300,
             80,
             80,
             0,
             90,
             5215,
             0,
             225,
             5066
            ],
            "sizemode": "area",
            "sizeref": 100.3975,
            "symbol": "circle"
           },
           "mode": "markers+text",
           "name": "",
           "orientation": "v",
           "showlegend": false,
           "text": [
            "China",
            "France",
            "India",
            "Israel",
            "North Korea",
            "Pakistan",
            "Russia",
            "South Africa",
            "United Kingdom",
            "United States"
           ],
           "type": "scatter",
           "x": [
            240,
            300,
            80,
            80,
            0,
            90,
            5215,
            0,
            225,
            5066
           ],
           "xaxis": "x",
           "y": [
            0,
            0,
            0,
            null,
            3,
            0,
            0,
            null,
            0,
            0
           ],
           "yaxis": "y"
          }
         ],
         "name": "2010"
        },
        {
         "data": [
          {
           "hovertemplate": "year=2011<br>stockpile=%{marker.size}<br>tests=%{marker.color}<br>country_name=%{text}<extra></extra>",
           "ids": [
            "China",
            "France",
            "India",
            "Israel",
            "North Korea",
            "Pakistan",
            "Russia",
            "South Africa",
            "United Kingdom",
            "United States"
           ],
           "legendgroup": "",
           "marker": {
            "color": [
             0,
             0,
             0,
             null,
             0,
             0,
             0,
             null,
             0,
             0
            ],
            "coloraxis": "coloraxis",
            "size": [
             240,
             300,
             90,
             80,
             0,
             100,
             4858,
             0,
             225,
             4897
            ],
            "sizemode": "area",
            "sizeref": 100.3975,
            "symbol": "circle"
           },
           "mode": "markers+text",
           "name": "",
           "orientation": "v",
           "showlegend": false,
           "text": [
            "China",
            "France",
            "India",
            "Israel",
            "North Korea",
            "Pakistan",
            "Russia",
            "South Africa",
            "United Kingdom",
            "United States"
           ],
           "type": "scatter",
           "x": [
            240,
            300,
            90,
            80,
            0,
            100,
            4858,
            0,
            225,
            4897
           ],
           "xaxis": "x",
           "y": [
            0,
            0,
            0,
            null,
            0,
            0,
            0,
            null,
            0,
            0
           ],
           "yaxis": "y"
          }
         ],
         "name": "2011"
        },
        {
         "data": [
          {
           "hovertemplate": "year=2012<br>stockpile=%{marker.size}<br>tests=%{marker.color}<br>country_name=%{text}<extra></extra>",
           "ids": [
            "China",
            "France",
            "India",
            "Israel",
            "North Korea",
            "Pakistan",
            "Russia",
            "South Africa",
            "United Kingdom",
            "United States"
           ],
           "legendgroup": "",
           "marker": {
            "color": [
             0,
             0,
             0,
             null,
             0,
             0,
             0,
             null,
             0,
             0
            ],
            "coloraxis": "coloraxis",
            "size": [
             240,
             300,
             100,
             80,
             0,
             110,
             4750,
             0,
             225,
             4881
            ],
            "sizemode": "area",
            "sizeref": 100.3975,
            "symbol": "circle"
           },
           "mode": "markers+text",
           "name": "",
           "orientation": "v",
           "showlegend": false,
           "text": [
            "China",
            "France",
            "India",
            "Israel",
            "North Korea",
            "Pakistan",
            "Russia",
            "South Africa",
            "United Kingdom",
            "United States"
           ],
           "type": "scatter",
           "x": [
            240,
            300,
            100,
            80,
            0,
            110,
            4750,
            0,
            225,
            4881
           ],
           "xaxis": "x",
           "y": [
            0,
            0,
            0,
            null,
            0,
            0,
            0,
            null,
            0,
            0
           ],
           "yaxis": "y"
          }
         ],
         "name": "2012"
        },
        {
         "data": [
          {
           "hovertemplate": "year=2013<br>stockpile=%{marker.size}<br>tests=%{marker.color}<br>country_name=%{text}<extra></extra>",
           "ids": [
            "China",
            "France",
            "India",
            "Israel",
            "North Korea",
            "Pakistan",
            "Russia",
            "South Africa",
            "United Kingdom",
            "United States"
           ],
           "legendgroup": "",
           "marker": {
            "color": [
             0,
             0,
             0,
             null,
             1,
             0,
             0,
             null,
             0,
             0
            ],
            "coloraxis": "coloraxis",
            "size": [
             250,
             300,
             110,
             80,
             0,
             115,
             4650,
             0,
             225,
             4804
            ],
            "sizemode": "area",
            "sizeref": 100.3975,
            "symbol": "circle"
           },
           "mode": "markers+text",
           "name": "",
           "orientation": "v",
           "showlegend": false,
           "text": [
            "China",
            "France",
            "India",
            "Israel",
            "North Korea",
            "Pakistan",
            "Russia",
            "South Africa",
            "United Kingdom",
            "United States"
           ],
           "type": "scatter",
           "x": [
            250,
            300,
            110,
            80,
            0,
            115,
            4650,
            0,
            225,
            4804
           ],
           "xaxis": "x",
           "y": [
            0,
            0,
            0,
            null,
            1,
            0,
            0,
            null,
            0,
            0
           ],
           "yaxis": "y"
          }
         ],
         "name": "2013"
        },
        {
         "data": [
          {
           "hovertemplate": "year=2014<br>stockpile=%{marker.size}<br>tests=%{marker.color}<br>country_name=%{text}<extra></extra>",
           "ids": [
            "China",
            "France",
            "India",
            "Israel",
            "North Korea",
            "Pakistan",
            "Russia",
            "South Africa",
            "United Kingdom",
            "United States"
           ],
           "legendgroup": "",
           "marker": {
            "color": [
             0,
             0,
             0,
             null,
             0,
             0,
             0,
             null,
             0,
             0
            ],
            "coloraxis": "coloraxis",
            "size": [
             250,
             300,
             100,
             80,
             0,
             120,
             4600,
             0,
             220,
             4717
            ],
            "sizemode": "area",
            "sizeref": 100.3975,
            "symbol": "circle"
           },
           "mode": "markers+text",
           "name": "",
           "orientation": "v",
           "showlegend": false,
           "text": [
            "China",
            "France",
            "India",
            "Israel",
            "North Korea",
            "Pakistan",
            "Russia",
            "South Africa",
            "United Kingdom",
            "United States"
           ],
           "type": "scatter",
           "x": [
            250,
            300,
            100,
            80,
            0,
            120,
            4600,
            0,
            220,
            4717
           ],
           "xaxis": "x",
           "y": [
            0,
            0,
            0,
            null,
            0,
            0,
            0,
            null,
            0,
            0
           ],
           "yaxis": "y"
          }
         ],
         "name": "2014"
        },
        {
         "data": [
          {
           "hovertemplate": "year=2015<br>stockpile=%{marker.size}<br>tests=%{marker.color}<br>country_name=%{text}<extra></extra>",
           "ids": [
            "China",
            "France",
            "India",
            "Israel",
            "North Korea",
            "Pakistan",
            "Russia",
            "South Africa",
            "United Kingdom",
            "United States"
           ],
           "legendgroup": "",
           "marker": {
            "color": [
             0,
             0,
             0,
             null,
             0,
             0,
             0,
             null,
             0,
             0
            ],
            "coloraxis": "coloraxis",
            "size": [
             260,
             300,
             110,
             80,
             5,
             125,
             4500,
             0,
             215,
             4571
            ],
            "sizemode": "area",
            "sizeref": 100.3975,
            "symbol": "circle"
           },
           "mode": "markers+text",
           "name": "",
           "orientation": "v",
           "showlegend": false,
           "text": [
            "China",
            "France",
            "India",
            "Israel",
            "North Korea",
            "Pakistan",
            "Russia",
            "South Africa",
            "United Kingdom",
            "United States"
           ],
           "type": "scatter",
           "x": [
            260,
            300,
            110,
            80,
            5,
            125,
            4500,
            0,
            215,
            4571
           ],
           "xaxis": "x",
           "y": [
            0,
            0,
            0,
            null,
            0,
            0,
            0,
            null,
            0,
            0
           ],
           "yaxis": "y"
          }
         ],
         "name": "2015"
        },
        {
         "data": [
          {
           "hovertemplate": "year=2016<br>stockpile=%{marker.size}<br>tests=%{marker.color}<br>country_name=%{text}<extra></extra>",
           "ids": [
            "China",
            "France",
            "India",
            "Israel",
            "North Korea",
            "Pakistan",
            "Russia",
            "South Africa",
            "United Kingdom",
            "United States"
           ],
           "legendgroup": "",
           "marker": {
            "color": [
             0,
             0,
             0,
             null,
             2,
             0,
             0,
             null,
             0,
             0
            ],
            "coloraxis": "coloraxis",
            "size": [
             260,
             300,
             120,
             80,
             10,
             130,
             4490,
             0,
             215,
             4018
            ],
            "sizemode": "area",
            "sizeref": 100.3975,
            "symbol": "circle"
           },
           "mode": "markers+text",
           "name": "",
           "orientation": "v",
           "showlegend": false,
           "text": [
            "China",
            "France",
            "India",
            "Israel",
            "North Korea",
            "Pakistan",
            "Russia",
            "South Africa",
            "United Kingdom",
            "United States"
           ],
           "type": "scatter",
           "x": [
            260,
            300,
            120,
            80,
            10,
            130,
            4490,
            0,
            215,
            4018
           ],
           "xaxis": "x",
           "y": [
            0,
            0,
            0,
            null,
            2,
            0,
            0,
            null,
            0,
            0
           ],
           "yaxis": "y"
          }
         ],
         "name": "2016"
        },
        {
         "data": [
          {
           "hovertemplate": "year=2017<br>stockpile=%{marker.size}<br>tests=%{marker.color}<br>country_name=%{text}<extra></extra>",
           "ids": [
            "China",
            "France",
            "India",
            "Israel",
            "North Korea",
            "Pakistan",
            "Russia",
            "South Africa",
            "United Kingdom",
            "United States"
           ],
           "legendgroup": "",
           "marker": {
            "color": [
             0,
             0,
             0,
             null,
             1,
             0,
             0,
             null,
             0,
             0
            ],
            "coloraxis": "coloraxis",
            "size": [
             270,
             300,
             130,
             80,
             15,
             140,
             4300,
             0,
             215,
             3822
            ],
            "sizemode": "area",
            "sizeref": 100.3975,
            "symbol": "circle"
           },
           "mode": "markers+text",
           "name": "",
           "orientation": "v",
           "showlegend": false,
           "text": [
            "China",
            "France",
            "India",
            "Israel",
            "North Korea",
            "Pakistan",
            "Russia",
            "South Africa",
            "United Kingdom",
            "United States"
           ],
           "type": "scatter",
           "x": [
            270,
            300,
            130,
            80,
            15,
            140,
            4300,
            0,
            215,
            3822
           ],
           "xaxis": "x",
           "y": [
            0,
            0,
            0,
            null,
            1,
            0,
            0,
            null,
            0,
            0
           ],
           "yaxis": "y"
          }
         ],
         "name": "2017"
        },
        {
         "data": [
          {
           "hovertemplate": "year=2018<br>stockpile=%{marker.size}<br>tests=%{marker.color}<br>country_name=%{text}<extra></extra>",
           "ids": [
            "China",
            "France",
            "India",
            "Israel",
            "North Korea",
            "Pakistan",
            "Russia",
            "South Africa",
            "United Kingdom",
            "United States"
           ],
           "legendgroup": "",
           "marker": {
            "color": [
             0,
             0,
             0,
             null,
             0,
             0,
             0,
             null,
             0,
             0
            ],
            "coloraxis": "coloraxis",
            "size": [
             280,
             300,
             140,
             80,
             20,
             150,
             4350,
             0,
             210,
             3785
            ],
            "sizemode": "area",
            "sizeref": 100.3975,
            "symbol": "circle"
           },
           "mode": "markers+text",
           "name": "",
           "orientation": "v",
           "showlegend": false,
           "text": [
            "China",
            "France",
            "India",
            "Israel",
            "North Korea",
            "Pakistan",
            "Russia",
            "South Africa",
            "United Kingdom",
            "United States"
           ],
           "type": "scatter",
           "x": [
            280,
            300,
            140,
            80,
            20,
            150,
            4350,
            0,
            210,
            3785
           ],
           "xaxis": "x",
           "y": [
            0,
            0,
            0,
            null,
            0,
            0,
            0,
            null,
            0,
            0
           ],
           "yaxis": "y"
          }
         ],
         "name": "2018"
        },
        {
         "data": [
          {
           "hovertemplate": "year=2019<br>stockpile=%{marker.size}<br>tests=%{marker.color}<br>country_name=%{text}<extra></extra>",
           "ids": [
            "China",
            "France",
            "India",
            "Israel",
            "North Korea",
            "Pakistan",
            "Russia",
            "South Africa",
            "United Kingdom",
            "United States"
           ],
           "legendgroup": "",
           "marker": {
            "color": [
             0,
             0,
             0,
             null,
             0,
             0,
             0,
             null,
             0,
             0
            ],
            "coloraxis": "coloraxis",
            "size": [
             290,
             300,
             140,
             80,
             25,
             150,
             4330,
             0,
             205,
             3805
            ],
            "sizemode": "area",
            "sizeref": 100.3975,
            "symbol": "circle"
           },
           "mode": "markers+text",
           "name": "",
           "orientation": "v",
           "showlegend": false,
           "text": [
            "China",
            "France",
            "India",
            "Israel",
            "North Korea",
            "Pakistan",
            "Russia",
            "South Africa",
            "United Kingdom",
            "United States"
           ],
           "type": "scatter",
           "x": [
            290,
            300,
            140,
            80,
            25,
            150,
            4330,
            0,
            205,
            3805
           ],
           "xaxis": "x",
           "y": [
            0,
            0,
            0,
            null,
            0,
            0,
            0,
            null,
            0,
            0
           ],
           "yaxis": "y"
          }
         ],
         "name": "2019"
        },
        {
         "data": [
          {
           "hovertemplate": "year=2020<br>stockpile=%{marker.size}<br>tests=%{marker.color}<br>country_name=%{text}<extra></extra>",
           "ids": [
            "China",
            "France",
            "India",
            "Israel",
            "North Korea",
            "Pakistan",
            "Russia",
            "South Africa",
            "United Kingdom",
            "United States"
           ],
           "legendgroup": "",
           "marker": {
            "color": [
             null,
             null,
             null,
             null,
             null,
             null,
             null,
             null,
             null,
             null
            ],
            "coloraxis": "coloraxis",
            "size": [
             350,
             290,
             150,
             90,
             35,
             160,
             4310,
             0,
             195,
             3750
            ],
            "sizemode": "area",
            "sizeref": 100.3975,
            "symbol": "circle"
           },
           "mode": "markers+text",
           "name": "",
           "orientation": "v",
           "showlegend": false,
           "text": [
            "China",
            "France",
            "India",
            "Israel",
            "North Korea",
            "Pakistan",
            "Russia",
            "South Africa",
            "United Kingdom",
            "United States"
           ],
           "type": "scatter",
           "x": [
            350,
            290,
            150,
            90,
            35,
            160,
            4310,
            0,
            195,
            3750
           ],
           "xaxis": "x",
           "y": [
            null,
            null,
            null,
            null,
            null,
            null,
            null,
            null,
            null,
            null
           ],
           "yaxis": "y"
          }
         ],
         "name": "2020"
        },
        {
         "data": [
          {
           "hovertemplate": "year=2021<br>stockpile=%{marker.size}<br>tests=%{marker.color}<br>country_name=%{text}<extra></extra>",
           "ids": [
            "China",
            "France",
            "India",
            "Israel",
            "North Korea",
            "Pakistan",
            "Russia",
            "South Africa",
            "United Kingdom",
            "United States"
           ],
           "legendgroup": "",
           "marker": {
            "color": [
             null,
             null,
             null,
             null,
             null,
             null,
             null,
             null,
             null,
             null
            ],
            "coloraxis": "coloraxis",
            "size": [
             350,
             290,
             160,
             90,
             20,
             165,
             4495,
             0,
             180,
             3708
            ],
            "sizemode": "area",
            "sizeref": 100.3975,
            "symbol": "circle"
           },
           "mode": "markers+text",
           "name": "",
           "orientation": "v",
           "showlegend": false,
           "text": [
            "China",
            "France",
            "India",
            "Israel",
            "North Korea",
            "Pakistan",
            "Russia",
            "South Africa",
            "United Kingdom",
            "United States"
           ],
           "type": "scatter",
           "x": [
            350,
            290,
            160,
            90,
            20,
            165,
            4495,
            0,
            180,
            3708
           ],
           "xaxis": "x",
           "y": [
            null,
            null,
            null,
            null,
            null,
            null,
            null,
            null,
            null,
            null
           ],
           "yaxis": "y"
          }
         ],
         "name": "2021"
        },
        {
         "data": [
          {
           "hovertemplate": "year=2022<br>stockpile=%{marker.size}<br>tests=%{marker.color}<br>country_name=%{text}<extra></extra>",
           "ids": [
            "China",
            "France",
            "India",
            "Israel",
            "North Korea",
            "Pakistan",
            "Russia",
            "South Africa",
            "United Kingdom",
            "United States"
           ],
           "legendgroup": "",
           "marker": {
            "color": [
             null,
             null,
             null,
             null,
             null,
             null,
             null,
             null,
             null,
             null
            ],
            "coloraxis": "coloraxis",
            "size": [
             350,
             290,
             160,
             90,
             20,
             165,
             4477,
             0,
             180,
             3708
            ],
            "sizemode": "area",
            "sizeref": 100.3975,
            "symbol": "circle"
           },
           "mode": "markers+text",
           "name": "",
           "orientation": "v",
           "showlegend": false,
           "text": [
            "China",
            "France",
            "India",
            "Israel",
            "North Korea",
            "Pakistan",
            "Russia",
            "South Africa",
            "United Kingdom",
            "United States"
           ],
           "type": "scatter",
           "x": [
            350,
            290,
            160,
            90,
            20,
            165,
            4477,
            0,
            180,
            3708
           ],
           "xaxis": "x",
           "y": [
            null,
            null,
            null,
            null,
            null,
            null,
            null,
            null,
            null,
            null
           ],
           "yaxis": "y"
          }
         ],
         "name": "2022"
        }
       ],
       "layout": {
        "coloraxis": {
         "colorbar": {
          "title": {
           "text": "tests"
          }
         },
         "colorscale": [
          [
           0,
           "#0d0887"
          ],
          [
           0.1111111111111111,
           "#46039f"
          ],
          [
           0.2222222222222222,
           "#7201a8"
          ],
          [
           0.3333333333333333,
           "#9c179e"
          ],
          [
           0.4444444444444444,
           "#bd3786"
          ],
          [
           0.5555555555555556,
           "#d8576b"
          ],
          [
           0.6666666666666666,
           "#ed7953"
          ],
          [
           0.7777777777777778,
           "#fb9f3a"
          ],
          [
           0.8888888888888888,
           "#fdca26"
          ],
          [
           1,
           "#f0f921"
          ]
         ]
        },
        "legend": {
         "itemsizing": "constant",
         "tracegroupgap": 0
        },
        "margin": {
         "t": 60
        },
        "sliders": [
         {
          "active": 0,
          "currentvalue": {
           "prefix": "year="
          },
          "len": 0.9,
          "pad": {
           "b": 10,
           "t": 60
          },
          "steps": [
           {
            "args": [
             [
              "1945"
             ],
             {
              "frame": {
               "duration": 0,
               "redraw": false
              },
              "fromcurrent": true,
              "mode": "immediate",
              "transition": {
               "duration": 0,
               "easing": "linear"
              }
             }
            ],
            "label": "1945",
            "method": "animate"
           },
           {
            "args": [
             [
              "1946"
             ],
             {
              "frame": {
               "duration": 0,
               "redraw": false
              },
              "fromcurrent": true,
              "mode": "immediate",
              "transition": {
               "duration": 0,
               "easing": "linear"
              }
             }
            ],
            "label": "1946",
            "method": "animate"
           },
           {
            "args": [
             [
              "1947"
             ],
             {
              "frame": {
               "duration": 0,
               "redraw": false
              },
              "fromcurrent": true,
              "mode": "immediate",
              "transition": {
               "duration": 0,
               "easing": "linear"
              }
             }
            ],
            "label": "1947",
            "method": "animate"
           },
           {
            "args": [
             [
              "1948"
             ],
             {
              "frame": {
               "duration": 0,
               "redraw": false
              },
              "fromcurrent": true,
              "mode": "immediate",
              "transition": {
               "duration": 0,
               "easing": "linear"
              }
             }
            ],
            "label": "1948",
            "method": "animate"
           },
           {
            "args": [
             [
              "1949"
             ],
             {
              "frame": {
               "duration": 0,
               "redraw": false
              },
              "fromcurrent": true,
              "mode": "immediate",
              "transition": {
               "duration": 0,
               "easing": "linear"
              }
             }
            ],
            "label": "1949",
            "method": "animate"
           },
           {
            "args": [
             [
              "1950"
             ],
             {
              "frame": {
               "duration": 0,
               "redraw": false
              },
              "fromcurrent": true,
              "mode": "immediate",
              "transition": {
               "duration": 0,
               "easing": "linear"
              }
             }
            ],
            "label": "1950",
            "method": "animate"
           },
           {
            "args": [
             [
              "1951"
             ],
             {
              "frame": {
               "duration": 0,
               "redraw": false
              },
              "fromcurrent": true,
              "mode": "immediate",
              "transition": {
               "duration": 0,
               "easing": "linear"
              }
             }
            ],
            "label": "1951",
            "method": "animate"
           },
           {
            "args": [
             [
              "1952"
             ],
             {
              "frame": {
               "duration": 0,
               "redraw": false
              },
              "fromcurrent": true,
              "mode": "immediate",
              "transition": {
               "duration": 0,
               "easing": "linear"
              }
             }
            ],
            "label": "1952",
            "method": "animate"
           },
           {
            "args": [
             [
              "1953"
             ],
             {
              "frame": {
               "duration": 0,
               "redraw": false
              },
              "fromcurrent": true,
              "mode": "immediate",
              "transition": {
               "duration": 0,
               "easing": "linear"
              }
             }
            ],
            "label": "1953",
            "method": "animate"
           },
           {
            "args": [
             [
              "1954"
             ],
             {
              "frame": {
               "duration": 0,
               "redraw": false
              },
              "fromcurrent": true,
              "mode": "immediate",
              "transition": {
               "duration": 0,
               "easing": "linear"
              }
             }
            ],
            "label": "1954",
            "method": "animate"
           },
           {
            "args": [
             [
              "1955"
             ],
             {
              "frame": {
               "duration": 0,
               "redraw": false
              },
              "fromcurrent": true,
              "mode": "immediate",
              "transition": {
               "duration": 0,
               "easing": "linear"
              }
             }
            ],
            "label": "1955",
            "method": "animate"
           },
           {
            "args": [
             [
              "1956"
             ],
             {
              "frame": {
               "duration": 0,
               "redraw": false
              },
              "fromcurrent": true,
              "mode": "immediate",
              "transition": {
               "duration": 0,
               "easing": "linear"
              }
             }
            ],
            "label": "1956",
            "method": "animate"
           },
           {
            "args": [
             [
              "1957"
             ],
             {
              "frame": {
               "duration": 0,
               "redraw": false
              },
              "fromcurrent": true,
              "mode": "immediate",
              "transition": {
               "duration": 0,
               "easing": "linear"
              }
             }
            ],
            "label": "1957",
            "method": "animate"
           },
           {
            "args": [
             [
              "1958"
             ],
             {
              "frame": {
               "duration": 0,
               "redraw": false
              },
              "fromcurrent": true,
              "mode": "immediate",
              "transition": {
               "duration": 0,
               "easing": "linear"
              }
             }
            ],
            "label": "1958",
            "method": "animate"
           },
           {
            "args": [
             [
              "1959"
             ],
             {
              "frame": {
               "duration": 0,
               "redraw": false
              },
              "fromcurrent": true,
              "mode": "immediate",
              "transition": {
               "duration": 0,
               "easing": "linear"
              }
             }
            ],
            "label": "1959",
            "method": "animate"
           },
           {
            "args": [
             [
              "1960"
             ],
             {
              "frame": {
               "duration": 0,
               "redraw": false
              },
              "fromcurrent": true,
              "mode": "immediate",
              "transition": {
               "duration": 0,
               "easing": "linear"
              }
             }
            ],
            "label": "1960",
            "method": "animate"
           },
           {
            "args": [
             [
              "1961"
             ],
             {
              "frame": {
               "duration": 0,
               "redraw": false
              },
              "fromcurrent": true,
              "mode": "immediate",
              "transition": {
               "duration": 0,
               "easing": "linear"
              }
             }
            ],
            "label": "1961",
            "method": "animate"
           },
           {
            "args": [
             [
              "1962"
             ],
             {
              "frame": {
               "duration": 0,
               "redraw": false
              },
              "fromcurrent": true,
              "mode": "immediate",
              "transition": {
               "duration": 0,
               "easing": "linear"
              }
             }
            ],
            "label": "1962",
            "method": "animate"
           },
           {
            "args": [
             [
              "1963"
             ],
             {
              "frame": {
               "duration": 0,
               "redraw": false
              },
              "fromcurrent": true,
              "mode": "immediate",
              "transition": {
               "duration": 0,
               "easing": "linear"
              }
             }
            ],
            "label": "1963",
            "method": "animate"
           },
           {
            "args": [
             [
              "1964"
             ],
             {
              "frame": {
               "duration": 0,
               "redraw": false
              },
              "fromcurrent": true,
              "mode": "immediate",
              "transition": {
               "duration": 0,
               "easing": "linear"
              }
             }
            ],
            "label": "1964",
            "method": "animate"
           },
           {
            "args": [
             [
              "1965"
             ],
             {
              "frame": {
               "duration": 0,
               "redraw": false
              },
              "fromcurrent": true,
              "mode": "immediate",
              "transition": {
               "duration": 0,
               "easing": "linear"
              }
             }
            ],
            "label": "1965",
            "method": "animate"
           },
           {
            "args": [
             [
              "1966"
             ],
             {
              "frame": {
               "duration": 0,
               "redraw": false
              },
              "fromcurrent": true,
              "mode": "immediate",
              "transition": {
               "duration": 0,
               "easing": "linear"
              }
             }
            ],
            "label": "1966",
            "method": "animate"
           },
           {
            "args": [
             [
              "1967"
             ],
             {
              "frame": {
               "duration": 0,
               "redraw": false
              },
              "fromcurrent": true,
              "mode": "immediate",
              "transition": {
               "duration": 0,
               "easing": "linear"
              }
             }
            ],
            "label": "1967",
            "method": "animate"
           },
           {
            "args": [
             [
              "1968"
             ],
             {
              "frame": {
               "duration": 0,
               "redraw": false
              },
              "fromcurrent": true,
              "mode": "immediate",
              "transition": {
               "duration": 0,
               "easing": "linear"
              }
             }
            ],
            "label": "1968",
            "method": "animate"
           },
           {
            "args": [
             [
              "1969"
             ],
             {
              "frame": {
               "duration": 0,
               "redraw": false
              },
              "fromcurrent": true,
              "mode": "immediate",
              "transition": {
               "duration": 0,
               "easing": "linear"
              }
             }
            ],
            "label": "1969",
            "method": "animate"
           },
           {
            "args": [
             [
              "1970"
             ],
             {
              "frame": {
               "duration": 0,
               "redraw": false
              },
              "fromcurrent": true,
              "mode": "immediate",
              "transition": {
               "duration": 0,
               "easing": "linear"
              }
             }
            ],
            "label": "1970",
            "method": "animate"
           },
           {
            "args": [
             [
              "1971"
             ],
             {
              "frame": {
               "duration": 0,
               "redraw": false
              },
              "fromcurrent": true,
              "mode": "immediate",
              "transition": {
               "duration": 0,
               "easing": "linear"
              }
             }
            ],
            "label": "1971",
            "method": "animate"
           },
           {
            "args": [
             [
              "1972"
             ],
             {
              "frame": {
               "duration": 0,
               "redraw": false
              },
              "fromcurrent": true,
              "mode": "immediate",
              "transition": {
               "duration": 0,
               "easing": "linear"
              }
             }
            ],
            "label": "1972",
            "method": "animate"
           },
           {
            "args": [
             [
              "1973"
             ],
             {
              "frame": {
               "duration": 0,
               "redraw": false
              },
              "fromcurrent": true,
              "mode": "immediate",
              "transition": {
               "duration": 0,
               "easing": "linear"
              }
             }
            ],
            "label": "1973",
            "method": "animate"
           },
           {
            "args": [
             [
              "1974"
             ],
             {
              "frame": {
               "duration": 0,
               "redraw": false
              },
              "fromcurrent": true,
              "mode": "immediate",
              "transition": {
               "duration": 0,
               "easing": "linear"
              }
             }
            ],
            "label": "1974",
            "method": "animate"
           },
           {
            "args": [
             [
              "1975"
             ],
             {
              "frame": {
               "duration": 0,
               "redraw": false
              },
              "fromcurrent": true,
              "mode": "immediate",
              "transition": {
               "duration": 0,
               "easing": "linear"
              }
             }
            ],
            "label": "1975",
            "method": "animate"
           },
           {
            "args": [
             [
              "1976"
             ],
             {
              "frame": {
               "duration": 0,
               "redraw": false
              },
              "fromcurrent": true,
              "mode": "immediate",
              "transition": {
               "duration": 0,
               "easing": "linear"
              }
             }
            ],
            "label": "1976",
            "method": "animate"
           },
           {
            "args": [
             [
              "1977"
             ],
             {
              "frame": {
               "duration": 0,
               "redraw": false
              },
              "fromcurrent": true,
              "mode": "immediate",
              "transition": {
               "duration": 0,
               "easing": "linear"
              }
             }
            ],
            "label": "1977",
            "method": "animate"
           },
           {
            "args": [
             [
              "1978"
             ],
             {
              "frame": {
               "duration": 0,
               "redraw": false
              },
              "fromcurrent": true,
              "mode": "immediate",
              "transition": {
               "duration": 0,
               "easing": "linear"
              }
             }
            ],
            "label": "1978",
            "method": "animate"
           },
           {
            "args": [
             [
              "1979"
             ],
             {
              "frame": {
               "duration": 0,
               "redraw": false
              },
              "fromcurrent": true,
              "mode": "immediate",
              "transition": {
               "duration": 0,
               "easing": "linear"
              }
             }
            ],
            "label": "1979",
            "method": "animate"
           },
           {
            "args": [
             [
              "1980"
             ],
             {
              "frame": {
               "duration": 0,
               "redraw": false
              },
              "fromcurrent": true,
              "mode": "immediate",
              "transition": {
               "duration": 0,
               "easing": "linear"
              }
             }
            ],
            "label": "1980",
            "method": "animate"
           },
           {
            "args": [
             [
              "1981"
             ],
             {
              "frame": {
               "duration": 0,
               "redraw": false
              },
              "fromcurrent": true,
              "mode": "immediate",
              "transition": {
               "duration": 0,
               "easing": "linear"
              }
             }
            ],
            "label": "1981",
            "method": "animate"
           },
           {
            "args": [
             [
              "1982"
             ],
             {
              "frame": {
               "duration": 0,
               "redraw": false
              },
              "fromcurrent": true,
              "mode": "immediate",
              "transition": {
               "duration": 0,
               "easing": "linear"
              }
             }
            ],
            "label": "1982",
            "method": "animate"
           },
           {
            "args": [
             [
              "1983"
             ],
             {
              "frame": {
               "duration": 0,
               "redraw": false
              },
              "fromcurrent": true,
              "mode": "immediate",
              "transition": {
               "duration": 0,
               "easing": "linear"
              }
             }
            ],
            "label": "1983",
            "method": "animate"
           },
           {
            "args": [
             [
              "1984"
             ],
             {
              "frame": {
               "duration": 0,
               "redraw": false
              },
              "fromcurrent": true,
              "mode": "immediate",
              "transition": {
               "duration": 0,
               "easing": "linear"
              }
             }
            ],
            "label": "1984",
            "method": "animate"
           },
           {
            "args": [
             [
              "1985"
             ],
             {
              "frame": {
               "duration": 0,
               "redraw": false
              },
              "fromcurrent": true,
              "mode": "immediate",
              "transition": {
               "duration": 0,
               "easing": "linear"
              }
             }
            ],
            "label": "1985",
            "method": "animate"
           },
           {
            "args": [
             [
              "1986"
             ],
             {
              "frame": {
               "duration": 0,
               "redraw": false
              },
              "fromcurrent": true,
              "mode": "immediate",
              "transition": {
               "duration": 0,
               "easing": "linear"
              }
             }
            ],
            "label": "1986",
            "method": "animate"
           },
           {
            "args": [
             [
              "1987"
             ],
             {
              "frame": {
               "duration": 0,
               "redraw": false
              },
              "fromcurrent": true,
              "mode": "immediate",
              "transition": {
               "duration": 0,
               "easing": "linear"
              }
             }
            ],
            "label": "1987",
            "method": "animate"
           },
           {
            "args": [
             [
              "1988"
             ],
             {
              "frame": {
               "duration": 0,
               "redraw": false
              },
              "fromcurrent": true,
              "mode": "immediate",
              "transition": {
               "duration": 0,
               "easing": "linear"
              }
             }
            ],
            "label": "1988",
            "method": "animate"
           },
           {
            "args": [
             [
              "1989"
             ],
             {
              "frame": {
               "duration": 0,
               "redraw": false
              },
              "fromcurrent": true,
              "mode": "immediate",
              "transition": {
               "duration": 0,
               "easing": "linear"
              }
             }
            ],
            "label": "1989",
            "method": "animate"
           },
           {
            "args": [
             [
              "1990"
             ],
             {
              "frame": {
               "duration": 0,
               "redraw": false
              },
              "fromcurrent": true,
              "mode": "immediate",
              "transition": {
               "duration": 0,
               "easing": "linear"
              }
             }
            ],
            "label": "1990",
            "method": "animate"
           },
           {
            "args": [
             [
              "1991"
             ],
             {
              "frame": {
               "duration": 0,
               "redraw": false
              },
              "fromcurrent": true,
              "mode": "immediate",
              "transition": {
               "duration": 0,
               "easing": "linear"
              }
             }
            ],
            "label": "1991",
            "method": "animate"
           },
           {
            "args": [
             [
              "1992"
             ],
             {
              "frame": {
               "duration": 0,
               "redraw": false
              },
              "fromcurrent": true,
              "mode": "immediate",
              "transition": {
               "duration": 0,
               "easing": "linear"
              }
             }
            ],
            "label": "1992",
            "method": "animate"
           },
           {
            "args": [
             [
              "1993"
             ],
             {
              "frame": {
               "duration": 0,
               "redraw": false
              },
              "fromcurrent": true,
              "mode": "immediate",
              "transition": {
               "duration": 0,
               "easing": "linear"
              }
             }
            ],
            "label": "1993",
            "method": "animate"
           },
           {
            "args": [
             [
              "1994"
             ],
             {
              "frame": {
               "duration": 0,
               "redraw": false
              },
              "fromcurrent": true,
              "mode": "immediate",
              "transition": {
               "duration": 0,
               "easing": "linear"
              }
             }
            ],
            "label": "1994",
            "method": "animate"
           },
           {
            "args": [
             [
              "1995"
             ],
             {
              "frame": {
               "duration": 0,
               "redraw": false
              },
              "fromcurrent": true,
              "mode": "immediate",
              "transition": {
               "duration": 0,
               "easing": "linear"
              }
             }
            ],
            "label": "1995",
            "method": "animate"
           },
           {
            "args": [
             [
              "1996"
             ],
             {
              "frame": {
               "duration": 0,
               "redraw": false
              },
              "fromcurrent": true,
              "mode": "immediate",
              "transition": {
               "duration": 0,
               "easing": "linear"
              }
             }
            ],
            "label": "1996",
            "method": "animate"
           },
           {
            "args": [
             [
              "1997"
             ],
             {
              "frame": {
               "duration": 0,
               "redraw": false
              },
              "fromcurrent": true,
              "mode": "immediate",
              "transition": {
               "duration": 0,
               "easing": "linear"
              }
             }
            ],
            "label": "1997",
            "method": "animate"
           },
           {
            "args": [
             [
              "1998"
             ],
             {
              "frame": {
               "duration": 0,
               "redraw": false
              },
              "fromcurrent": true,
              "mode": "immediate",
              "transition": {
               "duration": 0,
               "easing": "linear"
              }
             }
            ],
            "label": "1998",
            "method": "animate"
           },
           {
            "args": [
             [
              "1999"
             ],
             {
              "frame": {
               "duration": 0,
               "redraw": false
              },
              "fromcurrent": true,
              "mode": "immediate",
              "transition": {
               "duration": 0,
               "easing": "linear"
              }
             }
            ],
            "label": "1999",
            "method": "animate"
           },
           {
            "args": [
             [
              "2000"
             ],
             {
              "frame": {
               "duration": 0,
               "redraw": false
              },
              "fromcurrent": true,
              "mode": "immediate",
              "transition": {
               "duration": 0,
               "easing": "linear"
              }
             }
            ],
            "label": "2000",
            "method": "animate"
           },
           {
            "args": [
             [
              "2001"
             ],
             {
              "frame": {
               "duration": 0,
               "redraw": false
              },
              "fromcurrent": true,
              "mode": "immediate",
              "transition": {
               "duration": 0,
               "easing": "linear"
              }
             }
            ],
            "label": "2001",
            "method": "animate"
           },
           {
            "args": [
             [
              "2002"
             ],
             {
              "frame": {
               "duration": 0,
               "redraw": false
              },
              "fromcurrent": true,
              "mode": "immediate",
              "transition": {
               "duration": 0,
               "easing": "linear"
              }
             }
            ],
            "label": "2002",
            "method": "animate"
           },
           {
            "args": [
             [
              "2003"
             ],
             {
              "frame": {
               "duration": 0,
               "redraw": false
              },
              "fromcurrent": true,
              "mode": "immediate",
              "transition": {
               "duration": 0,
               "easing": "linear"
              }
             }
            ],
            "label": "2003",
            "method": "animate"
           },
           {
            "args": [
             [
              "2004"
             ],
             {
              "frame": {
               "duration": 0,
               "redraw": false
              },
              "fromcurrent": true,
              "mode": "immediate",
              "transition": {
               "duration": 0,
               "easing": "linear"
              }
             }
            ],
            "label": "2004",
            "method": "animate"
           },
           {
            "args": [
             [
              "2005"
             ],
             {
              "frame": {
               "duration": 0,
               "redraw": false
              },
              "fromcurrent": true,
              "mode": "immediate",
              "transition": {
               "duration": 0,
               "easing": "linear"
              }
             }
            ],
            "label": "2005",
            "method": "animate"
           },
           {
            "args": [
             [
              "2006"
             ],
             {
              "frame": {
               "duration": 0,
               "redraw": false
              },
              "fromcurrent": true,
              "mode": "immediate",
              "transition": {
               "duration": 0,
               "easing": "linear"
              }
             }
            ],
            "label": "2006",
            "method": "animate"
           },
           {
            "args": [
             [
              "2007"
             ],
             {
              "frame": {
               "duration": 0,
               "redraw": false
              },
              "fromcurrent": true,
              "mode": "immediate",
              "transition": {
               "duration": 0,
               "easing": "linear"
              }
             }
            ],
            "label": "2007",
            "method": "animate"
           },
           {
            "args": [
             [
              "2008"
             ],
             {
              "frame": {
               "duration": 0,
               "redraw": false
              },
              "fromcurrent": true,
              "mode": "immediate",
              "transition": {
               "duration": 0,
               "easing": "linear"
              }
             }
            ],
            "label": "2008",
            "method": "animate"
           },
           {
            "args": [
             [
              "2009"
             ],
             {
              "frame": {
               "duration": 0,
               "redraw": false
              },
              "fromcurrent": true,
              "mode": "immediate",
              "transition": {
               "duration": 0,
               "easing": "linear"
              }
             }
            ],
            "label": "2009",
            "method": "animate"
           },
           {
            "args": [
             [
              "2010"
             ],
             {
              "frame": {
               "duration": 0,
               "redraw": false
              },
              "fromcurrent": true,
              "mode": "immediate",
              "transition": {
               "duration": 0,
               "easing": "linear"
              }
             }
            ],
            "label": "2010",
            "method": "animate"
           },
           {
            "args": [
             [
              "2011"
             ],
             {
              "frame": {
               "duration": 0,
               "redraw": false
              },
              "fromcurrent": true,
              "mode": "immediate",
              "transition": {
               "duration": 0,
               "easing": "linear"
              }
             }
            ],
            "label": "2011",
            "method": "animate"
           },
           {
            "args": [
             [
              "2012"
             ],
             {
              "frame": {
               "duration": 0,
               "redraw": false
              },
              "fromcurrent": true,
              "mode": "immediate",
              "transition": {
               "duration": 0,
               "easing": "linear"
              }
             }
            ],
            "label": "2012",
            "method": "animate"
           },
           {
            "args": [
             [
              "2013"
             ],
             {
              "frame": {
               "duration": 0,
               "redraw": false
              },
              "fromcurrent": true,
              "mode": "immediate",
              "transition": {
               "duration": 0,
               "easing": "linear"
              }
             }
            ],
            "label": "2013",
            "method": "animate"
           },
           {
            "args": [
             [
              "2014"
             ],
             {
              "frame": {
               "duration": 0,
               "redraw": false
              },
              "fromcurrent": true,
              "mode": "immediate",
              "transition": {
               "duration": 0,
               "easing": "linear"
              }
             }
            ],
            "label": "2014",
            "method": "animate"
           },
           {
            "args": [
             [
              "2015"
             ],
             {
              "frame": {
               "duration": 0,
               "redraw": false
              },
              "fromcurrent": true,
              "mode": "immediate",
              "transition": {
               "duration": 0,
               "easing": "linear"
              }
             }
            ],
            "label": "2015",
            "method": "animate"
           },
           {
            "args": [
             [
              "2016"
             ],
             {
              "frame": {
               "duration": 0,
               "redraw": false
              },
              "fromcurrent": true,
              "mode": "immediate",
              "transition": {
               "duration": 0,
               "easing": "linear"
              }
             }
            ],
            "label": "2016",
            "method": "animate"
           },
           {
            "args": [
             [
              "2017"
             ],
             {
              "frame": {
               "duration": 0,
               "redraw": false
              },
              "fromcurrent": true,
              "mode": "immediate",
              "transition": {
               "duration": 0,
               "easing": "linear"
              }
             }
            ],
            "label": "2017",
            "method": "animate"
           },
           {
            "args": [
             [
              "2018"
             ],
             {
              "frame": {
               "duration": 0,
               "redraw": false
              },
              "fromcurrent": true,
              "mode": "immediate",
              "transition": {
               "duration": 0,
               "easing": "linear"
              }
             }
            ],
            "label": "2018",
            "method": "animate"
           },
           {
            "args": [
             [
              "2019"
             ],
             {
              "frame": {
               "duration": 0,
               "redraw": false
              },
              "fromcurrent": true,
              "mode": "immediate",
              "transition": {
               "duration": 0,
               "easing": "linear"
              }
             }
            ],
            "label": "2019",
            "method": "animate"
           },
           {
            "args": [
             [
              "2020"
             ],
             {
              "frame": {
               "duration": 0,
               "redraw": false
              },
              "fromcurrent": true,
              "mode": "immediate",
              "transition": {
               "duration": 0,
               "easing": "linear"
              }
             }
            ],
            "label": "2020",
            "method": "animate"
           },
           {
            "args": [
             [
              "2021"
             ],
             {
              "frame": {
               "duration": 0,
               "redraw": false
              },
              "fromcurrent": true,
              "mode": "immediate",
              "transition": {
               "duration": 0,
               "easing": "linear"
              }
             }
            ],
            "label": "2021",
            "method": "animate"
           },
           {
            "args": [
             [
              "2022"
             ],
             {
              "frame": {
               "duration": 0,
               "redraw": false
              },
              "fromcurrent": true,
              "mode": "immediate",
              "transition": {
               "duration": 0,
               "easing": "linear"
              }
             }
            ],
            "label": "2022",
            "method": "animate"
           }
          ],
          "x": 0.1,
          "xanchor": "left",
          "y": 0,
          "yanchor": "top"
         }
        ],
        "template": {
         "data": {
          "bar": [
           {
            "error_x": {
             "color": "#2a3f5f"
            },
            "error_y": {
             "color": "#2a3f5f"
            },
            "marker": {
             "line": {
              "color": "#E5ECF6",
              "width": 0.5
             },
             "pattern": {
              "fillmode": "overlay",
              "size": 10,
              "solidity": 0.2
             }
            },
            "type": "bar"
           }
          ],
          "barpolar": [
           {
            "marker": {
             "line": {
              "color": "#E5ECF6",
              "width": 0.5
             },
             "pattern": {
              "fillmode": "overlay",
              "size": 10,
              "solidity": 0.2
             }
            },
            "type": "barpolar"
           }
          ],
          "carpet": [
           {
            "aaxis": {
             "endlinecolor": "#2a3f5f",
             "gridcolor": "white",
             "linecolor": "white",
             "minorgridcolor": "white",
             "startlinecolor": "#2a3f5f"
            },
            "baxis": {
             "endlinecolor": "#2a3f5f",
             "gridcolor": "white",
             "linecolor": "white",
             "minorgridcolor": "white",
             "startlinecolor": "#2a3f5f"
            },
            "type": "carpet"
           }
          ],
          "choropleth": [
           {
            "colorbar": {
             "outlinewidth": 0,
             "ticks": ""
            },
            "type": "choropleth"
           }
          ],
          "contour": [
           {
            "colorbar": {
             "outlinewidth": 0,
             "ticks": ""
            },
            "colorscale": [
             [
              0,
              "#0d0887"
             ],
             [
              0.1111111111111111,
              "#46039f"
             ],
             [
              0.2222222222222222,
              "#7201a8"
             ],
             [
              0.3333333333333333,
              "#9c179e"
             ],
             [
              0.4444444444444444,
              "#bd3786"
             ],
             [
              0.5555555555555556,
              "#d8576b"
             ],
             [
              0.6666666666666666,
              "#ed7953"
             ],
             [
              0.7777777777777778,
              "#fb9f3a"
             ],
             [
              0.8888888888888888,
              "#fdca26"
             ],
             [
              1,
              "#f0f921"
             ]
            ],
            "type": "contour"
           }
          ],
          "contourcarpet": [
           {
            "colorbar": {
             "outlinewidth": 0,
             "ticks": ""
            },
            "type": "contourcarpet"
           }
          ],
          "heatmap": [
           {
            "colorbar": {
             "outlinewidth": 0,
             "ticks": ""
            },
            "colorscale": [
             [
              0,
              "#0d0887"
             ],
             [
              0.1111111111111111,
              "#46039f"
             ],
             [
              0.2222222222222222,
              "#7201a8"
             ],
             [
              0.3333333333333333,
              "#9c179e"
             ],
             [
              0.4444444444444444,
              "#bd3786"
             ],
             [
              0.5555555555555556,
              "#d8576b"
             ],
             [
              0.6666666666666666,
              "#ed7953"
             ],
             [
              0.7777777777777778,
              "#fb9f3a"
             ],
             [
              0.8888888888888888,
              "#fdca26"
             ],
             [
              1,
              "#f0f921"
             ]
            ],
            "type": "heatmap"
           }
          ],
          "heatmapgl": [
           {
            "colorbar": {
             "outlinewidth": 0,
             "ticks": ""
            },
            "colorscale": [
             [
              0,
              "#0d0887"
             ],
             [
              0.1111111111111111,
              "#46039f"
             ],
             [
              0.2222222222222222,
              "#7201a8"
             ],
             [
              0.3333333333333333,
              "#9c179e"
             ],
             [
              0.4444444444444444,
              "#bd3786"
             ],
             [
              0.5555555555555556,
              "#d8576b"
             ],
             [
              0.6666666666666666,
              "#ed7953"
             ],
             [
              0.7777777777777778,
              "#fb9f3a"
             ],
             [
              0.8888888888888888,
              "#fdca26"
             ],
             [
              1,
              "#f0f921"
             ]
            ],
            "type": "heatmapgl"
           }
          ],
          "histogram": [
           {
            "marker": {
             "pattern": {
              "fillmode": "overlay",
              "size": 10,
              "solidity": 0.2
             }
            },
            "type": "histogram"
           }
          ],
          "histogram2d": [
           {
            "colorbar": {
             "outlinewidth": 0,
             "ticks": ""
            },
            "colorscale": [
             [
              0,
              "#0d0887"
             ],
             [
              0.1111111111111111,
              "#46039f"
             ],
             [
              0.2222222222222222,
              "#7201a8"
             ],
             [
              0.3333333333333333,
              "#9c179e"
             ],
             [
              0.4444444444444444,
              "#bd3786"
             ],
             [
              0.5555555555555556,
              "#d8576b"
             ],
             [
              0.6666666666666666,
              "#ed7953"
             ],
             [
              0.7777777777777778,
              "#fb9f3a"
             ],
             [
              0.8888888888888888,
              "#fdca26"
             ],
             [
              1,
              "#f0f921"
             ]
            ],
            "type": "histogram2d"
           }
          ],
          "histogram2dcontour": [
           {
            "colorbar": {
             "outlinewidth": 0,
             "ticks": ""
            },
            "colorscale": [
             [
              0,
              "#0d0887"
             ],
             [
              0.1111111111111111,
              "#46039f"
             ],
             [
              0.2222222222222222,
              "#7201a8"
             ],
             [
              0.3333333333333333,
              "#9c179e"
             ],
             [
              0.4444444444444444,
              "#bd3786"
             ],
             [
              0.5555555555555556,
              "#d8576b"
             ],
             [
              0.6666666666666666,
              "#ed7953"
             ],
             [
              0.7777777777777778,
              "#fb9f3a"
             ],
             [
              0.8888888888888888,
              "#fdca26"
             ],
             [
              1,
              "#f0f921"
             ]
            ],
            "type": "histogram2dcontour"
           }
          ],
          "mesh3d": [
           {
            "colorbar": {
             "outlinewidth": 0,
             "ticks": ""
            },
            "type": "mesh3d"
           }
          ],
          "parcoords": [
           {
            "line": {
             "colorbar": {
              "outlinewidth": 0,
              "ticks": ""
             }
            },
            "type": "parcoords"
           }
          ],
          "pie": [
           {
            "automargin": true,
            "type": "pie"
           }
          ],
          "scatter": [
           {
            "fillpattern": {
             "fillmode": "overlay",
             "size": 10,
             "solidity": 0.2
            },
            "type": "scatter"
           }
          ],
          "scatter3d": [
           {
            "line": {
             "colorbar": {
              "outlinewidth": 0,
              "ticks": ""
             }
            },
            "marker": {
             "colorbar": {
              "outlinewidth": 0,
              "ticks": ""
             }
            },
            "type": "scatter3d"
           }
          ],
          "scattercarpet": [
           {
            "marker": {
             "colorbar": {
              "outlinewidth": 0,
              "ticks": ""
             }
            },
            "type": "scattercarpet"
           }
          ],
          "scattergeo": [
           {
            "marker": {
             "colorbar": {
              "outlinewidth": 0,
              "ticks": ""
             }
            },
            "type": "scattergeo"
           }
          ],
          "scattergl": [
           {
            "marker": {
             "colorbar": {
              "outlinewidth": 0,
              "ticks": ""
             }
            },
            "type": "scattergl"
           }
          ],
          "scattermapbox": [
           {
            "marker": {
             "colorbar": {
              "outlinewidth": 0,
              "ticks": ""
             }
            },
            "type": "scattermapbox"
           }
          ],
          "scatterpolar": [
           {
            "marker": {
             "colorbar": {
              "outlinewidth": 0,
              "ticks": ""
             }
            },
            "type": "scatterpolar"
           }
          ],
          "scatterpolargl": [
           {
            "marker": {
             "colorbar": {
              "outlinewidth": 0,
              "ticks": ""
             }
            },
            "type": "scatterpolargl"
           }
          ],
          "scatterternary": [
           {
            "marker": {
             "colorbar": {
              "outlinewidth": 0,
              "ticks": ""
             }
            },
            "type": "scatterternary"
           }
          ],
          "surface": [
           {
            "colorbar": {
             "outlinewidth": 0,
             "ticks": ""
            },
            "colorscale": [
             [
              0,
              "#0d0887"
             ],
             [
              0.1111111111111111,
              "#46039f"
             ],
             [
              0.2222222222222222,
              "#7201a8"
             ],
             [
              0.3333333333333333,
              "#9c179e"
             ],
             [
              0.4444444444444444,
              "#bd3786"
             ],
             [
              0.5555555555555556,
              "#d8576b"
             ],
             [
              0.6666666666666666,
              "#ed7953"
             ],
             [
              0.7777777777777778,
              "#fb9f3a"
             ],
             [
              0.8888888888888888,
              "#fdca26"
             ],
             [
              1,
              "#f0f921"
             ]
            ],
            "type": "surface"
           }
          ],
          "table": [
           {
            "cells": {
             "fill": {
              "color": "#EBF0F8"
             },
             "line": {
              "color": "white"
             }
            },
            "header": {
             "fill": {
              "color": "#C8D4E3"
             },
             "line": {
              "color": "white"
             }
            },
            "type": "table"
           }
          ]
         },
         "layout": {
          "annotationdefaults": {
           "arrowcolor": "#2a3f5f",
           "arrowhead": 0,
           "arrowwidth": 1
          },
          "autotypenumbers": "strict",
          "coloraxis": {
           "colorbar": {
            "outlinewidth": 0,
            "ticks": ""
           }
          },
          "colorscale": {
           "diverging": [
            [
             0,
             "#8e0152"
            ],
            [
             0.1,
             "#c51b7d"
            ],
            [
             0.2,
             "#de77ae"
            ],
            [
             0.3,
             "#f1b6da"
            ],
            [
             0.4,
             "#fde0ef"
            ],
            [
             0.5,
             "#f7f7f7"
            ],
            [
             0.6,
             "#e6f5d0"
            ],
            [
             0.7,
             "#b8e186"
            ],
            [
             0.8,
             "#7fbc41"
            ],
            [
             0.9,
             "#4d9221"
            ],
            [
             1,
             "#276419"
            ]
           ],
           "sequential": [
            [
             0,
             "#0d0887"
            ],
            [
             0.1111111111111111,
             "#46039f"
            ],
            [
             0.2222222222222222,
             "#7201a8"
            ],
            [
             0.3333333333333333,
             "#9c179e"
            ],
            [
             0.4444444444444444,
             "#bd3786"
            ],
            [
             0.5555555555555556,
             "#d8576b"
            ],
            [
             0.6666666666666666,
             "#ed7953"
            ],
            [
             0.7777777777777778,
             "#fb9f3a"
            ],
            [
             0.8888888888888888,
             "#fdca26"
            ],
            [
             1,
             "#f0f921"
            ]
           ],
           "sequentialminus": [
            [
             0,
             "#0d0887"
            ],
            [
             0.1111111111111111,
             "#46039f"
            ],
            [
             0.2222222222222222,
             "#7201a8"
            ],
            [
             0.3333333333333333,
             "#9c179e"
            ],
            [
             0.4444444444444444,
             "#bd3786"
            ],
            [
             0.5555555555555556,
             "#d8576b"
            ],
            [
             0.6666666666666666,
             "#ed7953"
            ],
            [
             0.7777777777777778,
             "#fb9f3a"
            ],
            [
             0.8888888888888888,
             "#fdca26"
            ],
            [
             1,
             "#f0f921"
            ]
           ]
          },
          "colorway": [
           "#636efa",
           "#EF553B",
           "#00cc96",
           "#ab63fa",
           "#FFA15A",
           "#19d3f3",
           "#FF6692",
           "#B6E880",
           "#FF97FF",
           "#FECB52"
          ],
          "font": {
           "color": "#2a3f5f"
          },
          "geo": {
           "bgcolor": "white",
           "lakecolor": "white",
           "landcolor": "#E5ECF6",
           "showlakes": true,
           "showland": true,
           "subunitcolor": "white"
          },
          "hoverlabel": {
           "align": "left"
          },
          "hovermode": "closest",
          "mapbox": {
           "style": "light"
          },
          "paper_bgcolor": "white",
          "plot_bgcolor": "#E5ECF6",
          "polar": {
           "angularaxis": {
            "gridcolor": "white",
            "linecolor": "white",
            "ticks": ""
           },
           "bgcolor": "#E5ECF6",
           "radialaxis": {
            "gridcolor": "white",
            "linecolor": "white",
            "ticks": ""
           }
          },
          "scene": {
           "xaxis": {
            "backgroundcolor": "#E5ECF6",
            "gridcolor": "white",
            "gridwidth": 2,
            "linecolor": "white",
            "showbackground": true,
            "ticks": "",
            "zerolinecolor": "white"
           },
           "yaxis": {
            "backgroundcolor": "#E5ECF6",
            "gridcolor": "white",
            "gridwidth": 2,
            "linecolor": "white",
            "showbackground": true,
            "ticks": "",
            "zerolinecolor": "white"
           },
           "zaxis": {
            "backgroundcolor": "#E5ECF6",
            "gridcolor": "white",
            "gridwidth": 2,
            "linecolor": "white",
            "showbackground": true,
            "ticks": "",
            "zerolinecolor": "white"
           }
          },
          "shapedefaults": {
           "line": {
            "color": "#2a3f5f"
           }
          },
          "ternary": {
           "aaxis": {
            "gridcolor": "white",
            "linecolor": "white",
            "ticks": ""
           },
           "baxis": {
            "gridcolor": "white",
            "linecolor": "white",
            "ticks": ""
           },
           "bgcolor": "#E5ECF6",
           "caxis": {
            "gridcolor": "white",
            "linecolor": "white",
            "ticks": ""
           }
          },
          "title": {
           "x": 0.05
          },
          "xaxis": {
           "automargin": true,
           "gridcolor": "white",
           "linecolor": "white",
           "ticks": "",
           "title": {
            "standoff": 15
           },
           "zerolinecolor": "white",
           "zerolinewidth": 2
          },
          "yaxis": {
           "automargin": true,
           "gridcolor": "white",
           "linecolor": "white",
           "ticks": "",
           "title": {
            "standoff": 15
           },
           "zerolinecolor": "white",
           "zerolinewidth": 2
          }
         }
        },
        "updatemenus": [
         {
          "buttons": [
           {
            "args": [
             null,
             {
              "frame": {
               "duration": 500,
               "redraw": false
              },
              "fromcurrent": true,
              "mode": "immediate",
              "transition": {
               "duration": 500,
               "easing": "linear"
              }
             }
            ],
            "label": "&#9654;",
            "method": "animate"
           },
           {
            "args": [
             [
              null
             ],
             {
              "frame": {
               "duration": 0,
               "redraw": false
              },
              "fromcurrent": true,
              "mode": "immediate",
              "transition": {
               "duration": 0,
               "easing": "linear"
              }
             }
            ],
            "label": "&#9724;",
            "method": "animate"
           }
          ],
          "direction": "left",
          "pad": {
           "r": 10,
           "t": 70
          },
          "showactive": false,
          "type": "buttons",
          "x": 0.1,
          "xanchor": "right",
          "y": 0,
          "yanchor": "top"
         }
        ],
        "xaxis": {
         "anchor": "y",
         "domain": [
          0,
          1
         ],
         "range": [
          -2000,
          41000
         ],
         "title": {
          "text": "stockpile"
         }
        },
        "yaxis": {
         "anchor": "x",
         "domain": [
          0,
          1
         ],
         "range": [
          -2,
          78
         ],
         "title": {
          "text": "tests"
         }
        }
       }
      }
     },
     "metadata": {},
     "output_type": "display_data"
    }
   ],
   "source": [
    "px.scatter(df, x='stockpile', size='stockpile', range_x=[-2e3, 41e3], \n",
    "           y='tests', color='tests', range_y=[-2, 80], \n",
    "           animation_frame='year', animation_group='country_name', text='country_name') "
   ]
  },
  {
   "cell_type": "code",
   "execution_count": null,
   "metadata": {},
   "outputs": [],
   "source": []
  },
  {
   "cell_type": "code",
   "execution_count": 15,
   "metadata": {},
   "outputs": [],
   "source": [
    "df.sort_values(['LocationDesc'], ascending=False, inplace=True)\n",
    "df.sort_values(['YearStart'], kind='stable', inplace=True)"
   ]
  },
  {
   "cell_type": "code",
   "execution_count": 16,
   "metadata": {},
   "outputs": [],
   "source": [
    "df_name = 'us_health' #us_health \n",
    "\n",
    "df.to_pickle(f'data/pkl/{df_name}.pkl')"
   ]
  },
  {
   "cell_type": "code",
   "execution_count": null,
   "metadata": {},
   "outputs": [],
   "source": []
  },
  {
   "cell_type": "code",
   "execution_count": null,
   "metadata": {},
   "outputs": [],
   "source": []
  },
  {
   "cell_type": "code",
   "execution_count": 68,
   "metadata": {},
   "outputs": [
    {
     "data": {
      "application/vnd.plotly.v1+json": {
       "config": {
        "plotlyServerURL": "https://plot.ly"
       },
       "data": [
        {
         "alignmentgroup": "True",
         "hovertemplate": "YearStart=2019<br>DataValue=%{x}<br>LocationDesc=%{y}<extra></extra>",
         "ids": [
          "Wyoming",
          "Wisconsin",
          "West Virginia",
          "Washington",
          "Virginia",
          "Vermont",
          "Utah",
          "Texas",
          "Tennessee",
          "South Dakota",
          "South Carolina",
          "Rhode Island",
          "Pennsylvania",
          "Oregon",
          "Oklahoma",
          "Ohio",
          "North Dakota",
          "North Carolina",
          "New York",
          "New Mexico",
          "New Jersey",
          "New Hampshire",
          "Nevada",
          "Nebraska",
          "Montana",
          "Missouri",
          "Mississippi",
          "Minnesota",
          "Michigan",
          "Massachusetts",
          "Maryland",
          "Maine",
          "Louisiana",
          "Kentucky",
          "Kansas",
          "Iowa",
          "Indiana",
          "Illinois",
          "Idaho",
          "Hawaii",
          "Georgia",
          "Florida",
          "District of Columbia",
          "Delaware",
          "Connecticut",
          "Colorado",
          "California",
          "Arkansas",
          "Arizona",
          "Alaska",
          "Alabama"
         ],
         "legendgroup": "",
         "marker": {
          "color": "#636efa",
          "pattern": {
           "shape": ""
          }
         },
         "name": "",
         "offsetgroup": "",
         "orientation": "h",
         "showlegend": false,
         "textposition": "auto",
         "type": "bar",
         "x": [
          1067,
          12241,
          5087,
          11862,
          15062,
          1368,
          3882,
          46139,
          16814,
          1840,
          10579,
          2404,
          32299,
          7128,
          10960,
          29160,
          1448,
          19617,
          43806,
          4245,
          18716,
          2707,
          6864,
          3540,
          2290,
          15018,
          7997,
          8401,
          25547,
          11761,
          11770,
          2940,
          11302,
          10742,
          6140,
          7505,
          14555,
          25690,
          3061,
          2503,
          19543,
          47144,
          1187,
          2053,
          7354,
          7762,
          62394,
          8669,
          12587,
          843,
          13448
         ],
         "xaxis": "x",
         "y": [
          "Wyoming",
          "Wisconsin",
          "West Virginia",
          "Washington",
          "Virginia",
          "Vermont",
          "Utah",
          "Texas",
          "Tennessee",
          "South Dakota",
          "South Carolina",
          "Rhode Island",
          "Pennsylvania",
          "Oregon",
          "Oklahoma",
          "Ohio",
          "North Dakota",
          "North Carolina",
          "New York",
          "New Mexico",
          "New Jersey",
          "New Hampshire",
          "Nevada",
          "Nebraska",
          "Montana",
          "Missouri",
          "Mississippi",
          "Minnesota",
          "Michigan",
          "Massachusetts",
          "Maryland",
          "Maine",
          "Louisiana",
          "Kentucky",
          "Kansas",
          "Iowa",
          "Indiana",
          "Illinois",
          "Idaho",
          "Hawaii",
          "Georgia",
          "Florida",
          "District of Columbia",
          "Delaware",
          "Connecticut",
          "Colorado",
          "California",
          "Arkansas",
          "Arizona",
          "Alaska",
          "Alabama"
         ],
         "yaxis": "y"
        }
       ],
       "frames": [
        {
         "data": [
          {
           "alignmentgroup": "True",
           "hovertemplate": "YearStart=2019<br>DataValue=%{x}<br>LocationDesc=%{y}<extra></extra>",
           "ids": [
            "Wyoming",
            "Wisconsin",
            "West Virginia",
            "Washington",
            "Virginia",
            "Vermont",
            "Utah",
            "Texas",
            "Tennessee",
            "South Dakota",
            "South Carolina",
            "Rhode Island",
            "Pennsylvania",
            "Oregon",
            "Oklahoma",
            "Ohio",
            "North Dakota",
            "North Carolina",
            "New York",
            "New Mexico",
            "New Jersey",
            "New Hampshire",
            "Nevada",
            "Nebraska",
            "Montana",
            "Missouri",
            "Mississippi",
            "Minnesota",
            "Michigan",
            "Massachusetts",
            "Maryland",
            "Maine",
            "Louisiana",
            "Kentucky",
            "Kansas",
            "Iowa",
            "Indiana",
            "Illinois",
            "Idaho",
            "Hawaii",
            "Georgia",
            "Florida",
            "District of Columbia",
            "Delaware",
            "Connecticut",
            "Colorado",
            "California",
            "Arkansas",
            "Arizona",
            "Alaska",
            "Alabama"
           ],
           "legendgroup": "",
           "marker": {
            "color": "#636efa",
            "pattern": {
             "shape": ""
            }
           },
           "name": "",
           "offsetgroup": "",
           "orientation": "h",
           "showlegend": false,
           "textposition": "auto",
           "type": "bar",
           "x": [
            1067,
            12241,
            5087,
            11862,
            15062,
            1368,
            3882,
            46139,
            16814,
            1840,
            10579,
            2404,
            32299,
            7128,
            10960,
            29160,
            1448,
            19617,
            43806,
            4245,
            18716,
            2707,
            6864,
            3540,
            2290,
            15018,
            7997,
            8401,
            25547,
            11761,
            11770,
            2940,
            11302,
            10742,
            6140,
            7505,
            14555,
            25690,
            3061,
            2503,
            19543,
            47144,
            1187,
            2053,
            7354,
            7762,
            62394,
            8669,
            12587,
            843,
            13448
           ],
           "xaxis": "x",
           "y": [
            "Wyoming",
            "Wisconsin",
            "West Virginia",
            "Washington",
            "Virginia",
            "Vermont",
            "Utah",
            "Texas",
            "Tennessee",
            "South Dakota",
            "South Carolina",
            "Rhode Island",
            "Pennsylvania",
            "Oregon",
            "Oklahoma",
            "Ohio",
            "North Dakota",
            "North Carolina",
            "New York",
            "New Mexico",
            "New Jersey",
            "New Hampshire",
            "Nevada",
            "Nebraska",
            "Montana",
            "Missouri",
            "Mississippi",
            "Minnesota",
            "Michigan",
            "Massachusetts",
            "Maryland",
            "Maine",
            "Louisiana",
            "Kentucky",
            "Kansas",
            "Iowa",
            "Indiana",
            "Illinois",
            "Idaho",
            "Hawaii",
            "Georgia",
            "Florida",
            "District of Columbia",
            "Delaware",
            "Connecticut",
            "Colorado",
            "California",
            "Arkansas",
            "Arizona",
            "Alaska",
            "Alabama"
           ],
           "yaxis": "y"
          }
         ],
         "name": "2019"
        },
        {
         "data": [
          {
           "alignmentgroup": "True",
           "hovertemplate": "YearStart=2018<br>DataValue=%{x}<br>LocationDesc=%{y}<extra></extra>",
           "ids": [
            "Wyoming",
            "Wisconsin",
            "West Virginia",
            "Washington",
            "Virginia",
            "Vermont",
            "Utah",
            "Texas",
            "Tennessee",
            "South Dakota",
            "South Carolina",
            "Rhode Island",
            "Pennsylvania",
            "Oregon",
            "Oklahoma",
            "Ohio",
            "North Dakota",
            "North Carolina",
            "New York",
            "New Mexico",
            "New Jersey",
            "New Hampshire",
            "Nevada",
            "Nebraska",
            "Montana",
            "Missouri",
            "Mississippi",
            "Minnesota",
            "Michigan",
            "Massachusetts",
            "Maryland",
            "Maine",
            "Louisiana",
            "Kentucky",
            "Kansas",
            "Iowa",
            "Indiana",
            "Illinois",
            "Idaho",
            "Hawaii",
            "Georgia",
            "Florida",
            "District of Columbia",
            "Delaware",
            "Connecticut",
            "Colorado",
            "California",
            "Arkansas",
            "Arizona",
            "Alaska",
            "Alabama"
           ],
           "legendgroup": "",
           "marker": {
            "color": "#636efa",
            "pattern": {
             "shape": ""
            }
           },
           "name": "",
           "offsetgroup": "",
           "orientation": "h",
           "showlegend": false,
           "textposition": "auto",
           "type": "bar",
           "x": [
            1054,
            12061,
            5007,
            11655,
            14600,
            1338,
            3749,
            46763,
            16417,
            1796,
            10464,
            2411,
            32768,
            6820,
            10634,
            29220,
            1361,
            19222,
            44499,
            3935,
            19047,
            2786,
            6393,
            3539,
            2347,
            14893,
            7758,
            8408,
            25354,
            12036,
            11683,
            2965,
            11340,
            10697,
            5823,
            7185,
            14532,
            25755,
            3122,
            2570,
            18986,
            47027,
            1295,
            2030,
            7205,
            7370,
            62547,
            8171,
            12455,
            815,
            13473
           ],
           "xaxis": "x",
           "y": [
            "Wyoming",
            "Wisconsin",
            "West Virginia",
            "Washington",
            "Virginia",
            "Vermont",
            "Utah",
            "Texas",
            "Tennessee",
            "South Dakota",
            "South Carolina",
            "Rhode Island",
            "Pennsylvania",
            "Oregon",
            "Oklahoma",
            "Ohio",
            "North Dakota",
            "North Carolina",
            "New York",
            "New Mexico",
            "New Jersey",
            "New Hampshire",
            "Nevada",
            "Nebraska",
            "Montana",
            "Missouri",
            "Mississippi",
            "Minnesota",
            "Michigan",
            "Massachusetts",
            "Maryland",
            "Maine",
            "Louisiana",
            "Kentucky",
            "Kansas",
            "Iowa",
            "Indiana",
            "Illinois",
            "Idaho",
            "Hawaii",
            "Georgia",
            "Florida",
            "District of Columbia",
            "Delaware",
            "Connecticut",
            "Colorado",
            "California",
            "Arkansas",
            "Arizona",
            "Alaska",
            "Alabama"
           ],
           "yaxis": "y"
          }
         ],
         "name": "2018"
        },
        {
         "data": [
          {
           "alignmentgroup": "True",
           "hovertemplate": "YearStart=2017<br>DataValue=%{x}<br>LocationDesc=%{y}<extra></extra>",
           "ids": [
            "Wyoming",
            "Wisconsin",
            "West Virginia",
            "Washington",
            "Virginia",
            "Vermont",
            "Utah",
            "Texas",
            "Tennessee",
            "South Dakota",
            "South Carolina",
            "Rhode Island",
            "Pennsylvania",
            "Oregon",
            "Oklahoma",
            "Ohio",
            "North Dakota",
            "North Carolina",
            "New York",
            "New Mexico",
            "New Jersey",
            "New Hampshire",
            "Nevada",
            "Nebraska",
            "Montana",
            "Missouri",
            "Mississippi",
            "Minnesota",
            "Michigan",
            "Massachusetts",
            "Maryland",
            "Maine",
            "Louisiana",
            "Kentucky",
            "Kansas",
            "Iowa",
            "Indiana",
            "Illinois",
            "Idaho",
            "Hawaii",
            "Georgia",
            "Florida",
            "District of Columbia",
            "Delaware",
            "Connecticut",
            "Colorado",
            "California",
            "Arkansas",
            "Arizona",
            "Alaska",
            "Alabama"
           ],
           "legendgroup": "",
           "marker": {
            "color": "#636efa",
            "pattern": {
             "shape": ""
            }
           },
           "name": "",
           "offsetgroup": "",
           "orientation": "h",
           "showlegend": false,
           "textposition": "auto",
           "type": "bar",
           "x": [
            1001,
            11860,
            4849,
            11582,
            14861,
            1332,
            3749,
            45346,
            16019,
            1710,
            10418,
            2339,
            32312,
            6942,
            10772,
            28008,
            1326,
            18808,
            44092,
            3896,
            18840,
            2721,
            6417,
            3581,
            2164,
            14820,
            7944,
            8230,
            25187,
            12140,
            11653,
            2844,
            11260,
            10343,
            5723,
            7180,
            14445,
            25394,
            3084,
            2575,
            18389,
            46440,
            1284,
            1990,
            7138,
            7060,
            62797,
            8270,
            12398,
            814,
            13110
           ],
           "xaxis": "x",
           "y": [
            "Wyoming",
            "Wisconsin",
            "West Virginia",
            "Washington",
            "Virginia",
            "Vermont",
            "Utah",
            "Texas",
            "Tennessee",
            "South Dakota",
            "South Carolina",
            "Rhode Island",
            "Pennsylvania",
            "Oregon",
            "Oklahoma",
            "Ohio",
            "North Dakota",
            "North Carolina",
            "New York",
            "New Mexico",
            "New Jersey",
            "New Hampshire",
            "Nevada",
            "Nebraska",
            "Montana",
            "Missouri",
            "Mississippi",
            "Minnesota",
            "Michigan",
            "Massachusetts",
            "Maryland",
            "Maine",
            "Louisiana",
            "Kentucky",
            "Kansas",
            "Iowa",
            "Indiana",
            "Illinois",
            "Idaho",
            "Hawaii",
            "Georgia",
            "Florida",
            "District of Columbia",
            "Delaware",
            "Connecticut",
            "Colorado",
            "California",
            "Arkansas",
            "Arizona",
            "Alaska",
            "Alabama"
           ],
           "yaxis": "y"
          }
         ],
         "name": "2017"
        },
        {
         "data": [
          {
           "alignmentgroup": "True",
           "hovertemplate": "YearStart=2016<br>DataValue=%{x}<br>LocationDesc=%{y}<extra></extra>",
           "ids": [
            "Wyoming",
            "Wisconsin",
            "West Virginia",
            "Washington",
            "Virginia",
            "Vermont",
            "Utah",
            "Texas",
            "Tennessee",
            "South Dakota",
            "South Carolina",
            "Rhode Island",
            "Pennsylvania",
            "Oregon",
            "Oklahoma",
            "Ohio",
            "North Dakota",
            "North Carolina",
            "New York",
            "New Mexico",
            "New Jersey",
            "New Hampshire",
            "Nevada",
            "Nebraska",
            "Montana",
            "Missouri",
            "Mississippi",
            "Minnesota",
            "Michigan",
            "Massachusetts",
            "Maryland",
            "Maine",
            "Louisiana",
            "Kentucky",
            "Kansas",
            "Iowa",
            "Indiana",
            "Illinois",
            "Idaho",
            "Hawaii",
            "Georgia",
            "Florida",
            "District of Columbia",
            "Delaware",
            "Connecticut",
            "Colorado",
            "California",
            "Arkansas",
            "Arizona",
            "Alaska",
            "Alabama"
           ],
           "legendgroup": "",
           "marker": {
            "color": "#636efa",
            "pattern": {
             "shape": ""
            }
           },
           "name": "",
           "offsetgroup": "",
           "orientation": "h",
           "showlegend": false,
           "textposition": "auto",
           "type": "bar",
           "x": [
            1051,
            11526,
            4767,
            11161,
            14124,
            1366,
            3636,
            43772,
            15429,
            1729,
            10195,
            2256,
            31990,
            6968,
            10209,
            27410,
            1338,
            18266,
            44076,
            3800,
            18597,
            2631,
            6457,
            3322,
            2138,
            14579,
            7865,
            7825,
            25304,
            11921,
            11390,
            2907,
            10943,
            10519,
            5672,
            6937,
            13952,
            25013,
            2969,
            2488,
            18143,
            45659,
            1375,
            1974,
            7051,
            7277,
            61573,
            8090,
            11957,
            831,
            12832
           ],
           "xaxis": "x",
           "y": [
            "Wyoming",
            "Wisconsin",
            "West Virginia",
            "Washington",
            "Virginia",
            "Vermont",
            "Utah",
            "Texas",
            "Tennessee",
            "South Dakota",
            "South Carolina",
            "Rhode Island",
            "Pennsylvania",
            "Oregon",
            "Oklahoma",
            "Ohio",
            "North Dakota",
            "North Carolina",
            "New York",
            "New Mexico",
            "New Jersey",
            "New Hampshire",
            "Nevada",
            "Nebraska",
            "Montana",
            "Missouri",
            "Mississippi",
            "Minnesota",
            "Michigan",
            "Massachusetts",
            "Maryland",
            "Maine",
            "Louisiana",
            "Kentucky",
            "Kansas",
            "Iowa",
            "Indiana",
            "Illinois",
            "Idaho",
            "Hawaii",
            "Georgia",
            "Florida",
            "District of Columbia",
            "Delaware",
            "Connecticut",
            "Colorado",
            "California",
            "Arkansas",
            "Arizona",
            "Alaska",
            "Alabama"
           ],
           "yaxis": "y"
          }
         ],
         "name": "2016"
        },
        {
         "data": [
          {
           "alignmentgroup": "True",
           "hovertemplate": "YearStart=2015<br>DataValue=%{x}<br>LocationDesc=%{y}<extra></extra>",
           "ids": [
            "Wyoming",
            "Wisconsin",
            "West Virginia",
            "Washington",
            "Virginia",
            "Vermont",
            "Utah",
            "Texas",
            "Tennessee",
            "South Dakota",
            "South Carolina",
            "Rhode Island",
            "Pennsylvania",
            "Oregon",
            "Oklahoma",
            "Ohio",
            "North Dakota",
            "North Carolina",
            "New York",
            "New Mexico",
            "New Jersey",
            "New Hampshire",
            "Nevada",
            "Nebraska",
            "Montana",
            "Missouri",
            "Mississippi",
            "Minnesota",
            "Michigan",
            "Massachusetts",
            "Maryland",
            "Maine",
            "Louisiana",
            "Kentucky",
            "Kansas",
            "Iowa",
            "Indiana",
            "Illinois",
            "Idaho",
            "Hawaii",
            "Georgia",
            "Florida",
            "District of Columbia",
            "Delaware",
            "Connecticut",
            "Colorado",
            "California",
            "Arkansas",
            "Arizona",
            "Alaska",
            "Alabama"
           ],
           "legendgroup": "",
           "marker": {
            "color": "#636efa",
            "pattern": {
             "shape": ""
            }
           },
           "name": "",
           "offsetgroup": "",
           "orientation": "h",
           "showlegend": false,
           "textposition": "auto",
           "type": "bar",
           "x": [
            1030,
            11473,
            4727,
            11025,
            14077,
            1311,
            3598,
            43298,
            15730,
            1711,
            10092,
            2371,
            32042,
            6859,
            10310,
            28069,
            1323,
            18474,
            44450,
            3508,
            18647,
            2571,
            6114,
            3591,
            2104,
            14808,
            7969,
            7844,
            24794,
            12130,
            11481,
            3009,
            10665,
            10077,
            5624,
            6813,
            13948,
            25652,
            2825,
            2605,
            17769,
            45441,
            1217,
            1940,
            7205,
            7009,
            61289,
            7938,
            11458,
            846,
            12981
           ],
           "xaxis": "x",
           "y": [
            "Wyoming",
            "Wisconsin",
            "West Virginia",
            "Washington",
            "Virginia",
            "Vermont",
            "Utah",
            "Texas",
            "Tennessee",
            "South Dakota",
            "South Carolina",
            "Rhode Island",
            "Pennsylvania",
            "Oregon",
            "Oklahoma",
            "Ohio",
            "North Dakota",
            "North Carolina",
            "New York",
            "New Mexico",
            "New Jersey",
            "New Hampshire",
            "Nevada",
            "Nebraska",
            "Montana",
            "Missouri",
            "Mississippi",
            "Minnesota",
            "Michigan",
            "Massachusetts",
            "Maryland",
            "Maine",
            "Louisiana",
            "Kentucky",
            "Kansas",
            "Iowa",
            "Indiana",
            "Illinois",
            "Idaho",
            "Hawaii",
            "Georgia",
            "Florida",
            "District of Columbia",
            "Delaware",
            "Connecticut",
            "Colorado",
            "California",
            "Arkansas",
            "Arizona",
            "Alaska",
            "Alabama"
           ],
           "yaxis": "y"
          }
         ],
         "name": "2015"
        },
        {
         "data": [
          {
           "alignmentgroup": "True",
           "hovertemplate": "YearStart=2014<br>DataValue=%{x}<br>LocationDesc=%{y}<extra></extra>",
           "ids": [
            "Wyoming",
            "Wisconsin",
            "West Virginia",
            "Washington",
            "Virginia",
            "Vermont",
            "Utah",
            "Texas",
            "Tennessee",
            "South Dakota",
            "South Carolina",
            "Rhode Island",
            "Pennsylvania",
            "Oregon",
            "Oklahoma",
            "Ohio",
            "North Dakota",
            "North Carolina",
            "New York",
            "New Mexico",
            "New Jersey",
            "New Hampshire",
            "Nevada",
            "Nebraska",
            "Montana",
            "Missouri",
            "Mississippi",
            "Minnesota",
            "Michigan",
            "Massachusetts",
            "Maryland",
            "Maine",
            "Louisiana",
            "Kentucky",
            "Kansas",
            "Iowa",
            "Indiana",
            "Illinois",
            "Idaho",
            "Hawaii",
            "Georgia",
            "Florida",
            "District of Columbia",
            "Delaware",
            "Connecticut",
            "Colorado",
            "California",
            "Arkansas",
            "Arizona",
            "Alaska",
            "Alabama"
           ],
           "legendgroup": "",
           "marker": {
            "color": "#636efa",
            "pattern": {
             "shape": ""
            }
           },
           "name": "",
           "offsetgroup": "",
           "orientation": "h",
           "showlegend": false,
           "textposition": "auto",
           "type": "bar",
           "x": [
            1035,
            11229,
            4692,
            10710,
            13874,
            1311,
            3431,
            41479,
            15223,
            1704,
            9964,
            2341,
            31353,
            6524,
            9868,
            27000,
            1381,
            17592,
            43116,
            3424,
            18319,
            2464,
            5761,
            3296,
            1957,
            14338,
            7538,
            7659,
            24692,
            11817,
            11135,
            2776,
            10647,
            10013,
            5479,
            6615,
            13764,
            25024,
            2676,
            2528,
            17107,
            44511,
            1324,
            1921,
            7018,
            6900,
            58189,
            7581,
            10805,
            782,
            12461
           ],
           "xaxis": "x",
           "y": [
            "Wyoming",
            "Wisconsin",
            "West Virginia",
            "Washington",
            "Virginia",
            "Vermont",
            "Utah",
            "Texas",
            "Tennessee",
            "South Dakota",
            "South Carolina",
            "Rhode Island",
            "Pennsylvania",
            "Oregon",
            "Oklahoma",
            "Ohio",
            "North Dakota",
            "North Carolina",
            "New York",
            "New Mexico",
            "New Jersey",
            "New Hampshire",
            "Nevada",
            "Nebraska",
            "Montana",
            "Missouri",
            "Mississippi",
            "Minnesota",
            "Michigan",
            "Massachusetts",
            "Maryland",
            "Maine",
            "Louisiana",
            "Kentucky",
            "Kansas",
            "Iowa",
            "Indiana",
            "Illinois",
            "Idaho",
            "Hawaii",
            "Georgia",
            "Florida",
            "District of Columbia",
            "Delaware",
            "Connecticut",
            "Colorado",
            "California",
            "Arkansas",
            "Arizona",
            "Alaska",
            "Alabama"
           ],
           "yaxis": "y"
          }
         ],
         "name": "2014"
        },
        {
         "data": [
          {
           "alignmentgroup": "True",
           "hovertemplate": "YearStart=2013<br>DataValue=%{x}<br>LocationDesc=%{y}<extra></extra>",
           "ids": [
            "Wyoming",
            "Wisconsin",
            "West Virginia",
            "Washington",
            "Virginia",
            "Vermont",
            "Utah",
            "Texas",
            "Tennessee",
            "South Dakota",
            "South Carolina",
            "Rhode Island",
            "Pennsylvania",
            "Oregon",
            "Oklahoma",
            "Ohio",
            "North Dakota",
            "North Carolina",
            "New York",
            "New Mexico",
            "New Jersey",
            "New Hampshire",
            "Nevada",
            "Nebraska",
            "Montana",
            "Missouri",
            "Mississippi",
            "Minnesota",
            "Michigan",
            "Massachusetts",
            "Maryland",
            "Maine",
            "Louisiana",
            "Kentucky",
            "Kansas",
            "Iowa",
            "Indiana",
            "Illinois",
            "Idaho",
            "Hawaii",
            "Georgia",
            "Florida",
            "District of Columbia",
            "Delaware",
            "Connecticut",
            "Colorado",
            "California",
            "Arkansas",
            "Arizona",
            "Alaska",
            "Alabama"
           ],
           "legendgroup": "",
           "marker": {
            "color": "#636efa",
            "pattern": {
             "shape": ""
            }
           },
           "name": "",
           "offsetgroup": "",
           "orientation": "h",
           "showlegend": false,
           "textposition": "auto",
           "type": "bar",
           "x": [
            939,
            11362,
            4666,
            10524,
            13663,
            1220,
            3323,
            40203,
            14803,
            1630,
            9648,
            2364,
            31629,
            6523,
            9721,
            26878,
            1382,
            17830,
            44039,
            3425,
            18460,
            2434,
            5434,
            3381,
            2004,
            14095,
            7715,
            7714,
            24156,
            12023,
            11244,
            2807,
            10346,
            9971,
            5364,
            6995,
            13773,
            24839,
            2495,
            2521,
            16550,
            42656,
            1340,
            1861,
            7090,
            6456,
            60299,
            7377,
            10755,
            706,
            12472
           ],
           "xaxis": "x",
           "y": [
            "Wyoming",
            "Wisconsin",
            "West Virginia",
            "Washington",
            "Virginia",
            "Vermont",
            "Utah",
            "Texas",
            "Tennessee",
            "South Dakota",
            "South Carolina",
            "Rhode Island",
            "Pennsylvania",
            "Oregon",
            "Oklahoma",
            "Ohio",
            "North Dakota",
            "North Carolina",
            "New York",
            "New Mexico",
            "New Jersey",
            "New Hampshire",
            "Nevada",
            "Nebraska",
            "Montana",
            "Missouri",
            "Mississippi",
            "Minnesota",
            "Michigan",
            "Massachusetts",
            "Maryland",
            "Maine",
            "Louisiana",
            "Kentucky",
            "Kansas",
            "Iowa",
            "Indiana",
            "Illinois",
            "Idaho",
            "Hawaii",
            "Georgia",
            "Florida",
            "District of Columbia",
            "Delaware",
            "Connecticut",
            "Colorado",
            "California",
            "Arkansas",
            "Arizona",
            "Alaska",
            "Alabama"
           ],
           "yaxis": "y"
          }
         ],
         "name": "2013"
        },
        {
         "data": [
          {
           "alignmentgroup": "True",
           "hovertemplate": "YearStart=2012<br>DataValue=%{x}<br>LocationDesc=%{y}<extra></extra>",
           "ids": [
            "Wyoming",
            "Wisconsin",
            "West Virginia",
            "Washington",
            "Virginia",
            "Vermont",
            "Utah",
            "Texas",
            "Tennessee",
            "South Dakota",
            "South Carolina",
            "Rhode Island",
            "Pennsylvania",
            "Oregon",
            "Oklahoma",
            "Ohio",
            "North Dakota",
            "North Carolina",
            "New York",
            "New Mexico",
            "New Jersey",
            "New Hampshire",
            "Nevada",
            "Nebraska",
            "Montana",
            "Missouri",
            "Mississippi",
            "Minnesota",
            "Michigan",
            "Massachusetts",
            "Maryland",
            "Maine",
            "Louisiana",
            "Kentucky",
            "Kansas",
            "Iowa",
            "Indiana",
            "Illinois",
            "Idaho",
            "Hawaii",
            "Georgia",
            "Florida",
            "District of Columbia",
            "Delaware",
            "Connecticut",
            "Colorado",
            "California",
            "Arkansas",
            "Arizona",
            "Alaska",
            "Alabama"
           ],
           "legendgroup": "",
           "marker": {
            "color": "#636efa",
            "pattern": {
             "shape": ""
            }
           },
           "name": "",
           "offsetgroup": "",
           "orientation": "h",
           "showlegend": false,
           "textposition": "auto",
           "type": "bar",
           "x": [
            1005,
            11282,
            4942,
            10360,
            13386,
            1206,
            3091,
            39061,
            14454,
            1668,
            9364,
            2360,
            30952,
            6180,
            9198,
            26426,
            1368,
            17348,
            43795,
            3352,
            18340,
            2324,
            5166,
            3307,
            1903,
            13742,
            7269,
            7496,
            23520,
            11602,
            11023,
            2623,
            10074,
            10024,
            5366,
            7005,
            13675,
            24667,
            2515,
            2430,
            15825,
            42125,
            1298,
            1790,
            7282,
            6311,
            59371,
            7407,
            10689,
            708,
            12036
           ],
           "xaxis": "x",
           "y": [
            "Wyoming",
            "Wisconsin",
            "West Virginia",
            "Washington",
            "Virginia",
            "Vermont",
            "Utah",
            "Texas",
            "Tennessee",
            "South Dakota",
            "South Carolina",
            "Rhode Island",
            "Pennsylvania",
            "Oregon",
            "Oklahoma",
            "Ohio",
            "North Dakota",
            "North Carolina",
            "New York",
            "New Mexico",
            "New Jersey",
            "New Hampshire",
            "Nevada",
            "Nebraska",
            "Montana",
            "Missouri",
            "Mississippi",
            "Minnesota",
            "Michigan",
            "Massachusetts",
            "Maryland",
            "Maine",
            "Louisiana",
            "Kentucky",
            "Kansas",
            "Iowa",
            "Indiana",
            "Illinois",
            "Idaho",
            "Hawaii",
            "Georgia",
            "Florida",
            "District of Columbia",
            "Delaware",
            "Connecticut",
            "Colorado",
            "California",
            "Arkansas",
            "Arizona",
            "Alaska",
            "Alabama"
           ],
           "yaxis": "y"
          }
         ],
         "name": "2012"
        },
        {
         "data": [
          {
           "alignmentgroup": "True",
           "hovertemplate": "YearStart=2011<br>DataValue=%{x}<br>LocationDesc=%{y}<extra></extra>",
           "ids": [
            "Wyoming",
            "Wisconsin",
            "West Virginia",
            "Washington",
            "Virginia",
            "Vermont",
            "Utah",
            "Texas",
            "Tennessee",
            "South Dakota",
            "South Carolina",
            "Rhode Island",
            "Pennsylvania",
            "Oregon",
            "Oklahoma",
            "Ohio",
            "North Dakota",
            "North Carolina",
            "New York",
            "New Mexico",
            "New Jersey",
            "New Hampshire",
            "Nevada",
            "Nebraska",
            "Montana",
            "Missouri",
            "Mississippi",
            "Minnesota",
            "Michigan",
            "Massachusetts",
            "Maryland",
            "Maine",
            "Louisiana",
            "Kentucky",
            "Kansas",
            "Iowa",
            "Indiana",
            "Illinois",
            "Idaho",
            "Hawaii",
            "Georgia",
            "Florida",
            "District of Columbia",
            "Delaware",
            "Connecticut",
            "Colorado",
            "California",
            "Arkansas",
            "Arizona",
            "Alaska",
            "Alabama"
           ],
           "legendgroup": "",
           "marker": {
            "color": "#636efa",
            "pattern": {
             "shape": ""
            }
           },
           "name": "",
           "offsetgroup": "",
           "orientation": "h",
           "showlegend": false,
           "textposition": "auto",
           "type": "bar",
           "x": [
            926,
            11266,
            4914,
            10439,
            13272,
            1187,
            3036,
            38094,
            14235,
            1625,
            9295,
            2390,
            31934,
            6255,
            9399,
            26298,
            1290,
            17003,
            44501,
            3333,
            18330,
            2333,
            5043,
            3265,
            1921,
            13810,
            7335,
            7240,
            23358,
            11765,
            10557,
            2648,
            9781,
            9905,
            5327,
            6736,
            13372,
            24987,
            2522,
            2312,
            15773,
            40919,
            1171,
            1809,
            7206,
            6177,
            59772,
            7168,
            10662,
            739,
            11942
           ],
           "xaxis": "x",
           "y": [
            "Wyoming",
            "Wisconsin",
            "West Virginia",
            "Washington",
            "Virginia",
            "Vermont",
            "Utah",
            "Texas",
            "Tennessee",
            "South Dakota",
            "South Carolina",
            "Rhode Island",
            "Pennsylvania",
            "Oregon",
            "Oklahoma",
            "Ohio",
            "North Dakota",
            "North Carolina",
            "New York",
            "New Mexico",
            "New Jersey",
            "New Hampshire",
            "Nevada",
            "Nebraska",
            "Montana",
            "Missouri",
            "Mississippi",
            "Minnesota",
            "Michigan",
            "Massachusetts",
            "Maryland",
            "Maine",
            "Louisiana",
            "Kentucky",
            "Kansas",
            "Iowa",
            "Indiana",
            "Illinois",
            "Idaho",
            "Hawaii",
            "Georgia",
            "Florida",
            "District of Columbia",
            "Delaware",
            "Connecticut",
            "Colorado",
            "California",
            "Arkansas",
            "Arizona",
            "Alaska",
            "Alabama"
           ],
           "yaxis": "y"
          }
         ],
         "name": "2011"
        },
        {
         "data": [
          {
           "alignmentgroup": "True",
           "hovertemplate": "YearStart=2010<br>DataValue=%{x}<br>LocationDesc=%{y}<extra></extra>",
           "ids": [
            "Wyoming",
            "Wisconsin",
            "West Virginia",
            "Washington",
            "Virginia",
            "Vermont",
            "Utah",
            "Texas",
            "Tennessee",
            "South Dakota",
            "South Carolina",
            "Rhode Island",
            "Pennsylvania",
            "Oregon",
            "Oklahoma",
            "Ohio",
            "North Dakota",
            "North Carolina",
            "New York",
            "New Mexico",
            "New Jersey",
            "New Hampshire",
            "Nevada",
            "Nebraska",
            "Montana",
            "Missouri",
            "Mississippi",
            "Minnesota",
            "Michigan",
            "Massachusetts",
            "Maryland",
            "Maine",
            "Louisiana",
            "Kentucky",
            "Kansas",
            "Iowa",
            "Indiana",
            "Illinois",
            "Idaho",
            "Hawaii",
            "Georgia",
            "Florida",
            "District of Columbia",
            "Delaware",
            "Connecticut",
            "Colorado",
            "California",
            "Arkansas",
            "Arizona",
            "Alaska",
            "Alabama"
           ],
           "legendgroup": "",
           "marker": {
            "color": "#636efa",
            "pattern": {
             "shape": ""
            }
           },
           "name": "",
           "offsetgroup": "",
           "orientation": "h",
           "showlegend": false,
           "textposition": "auto",
           "type": "bar",
           "x": [
            962,
            11115,
            4897,
            10602,
            13404,
            1172,
            2889,
            38253,
            14582,
            1616,
            9295,
            2322,
            31556,
            6198,
            9426,
            26164,
            1395,
            17154,
            44981,
            3224,
            18730,
            2290,
            4811,
            3355,
            1849,
            13840,
            7542,
            7185,
            23326,
            12043,
            10915,
            2628,
            10282,
            9662,
            5433,
            6880,
            13388,
            24959,
            2495,
            2239,
            15987,
            41737,
            1306,
            1776,
            7127,
            6038,
            58641,
            7274,
            9954,
            707,
            12083
           ],
           "xaxis": "x",
           "y": [
            "Wyoming",
            "Wisconsin",
            "West Virginia",
            "Washington",
            "Virginia",
            "Vermont",
            "Utah",
            "Texas",
            "Tennessee",
            "South Dakota",
            "South Carolina",
            "Rhode Island",
            "Pennsylvania",
            "Oregon",
            "Oklahoma",
            "Ohio",
            "North Dakota",
            "North Carolina",
            "New York",
            "New Mexico",
            "New Jersey",
            "New Hampshire",
            "Nevada",
            "Nebraska",
            "Montana",
            "Missouri",
            "Mississippi",
            "Minnesota",
            "Michigan",
            "Massachusetts",
            "Maryland",
            "Maine",
            "Louisiana",
            "Kentucky",
            "Kansas",
            "Iowa",
            "Indiana",
            "Illinois",
            "Idaho",
            "Hawaii",
            "Georgia",
            "Florida",
            "District of Columbia",
            "Delaware",
            "Connecticut",
            "Colorado",
            "California",
            "Arkansas",
            "Arizona",
            "Alaska",
            "Alabama"
           ],
           "yaxis": "y"
          }
         ],
         "name": "2010"
        }
       ],
       "layout": {
        "barmode": "relative",
        "legend": {
         "tracegroupgap": 0
        },
        "margin": {
         "t": 60
        },
        "sliders": [
         {
          "active": 0,
          "currentvalue": {
           "prefix": "YearStart="
          },
          "len": 0.9,
          "pad": {
           "b": 10,
           "t": 60
          },
          "steps": [
           {
            "args": [
             [
              "2019"
             ],
             {
              "frame": {
               "duration": 0,
               "redraw": true
              },
              "fromcurrent": true,
              "mode": "immediate",
              "transition": {
               "duration": 0,
               "easing": "linear"
              }
             }
            ],
            "label": "2019",
            "method": "animate"
           },
           {
            "args": [
             [
              "2018"
             ],
             {
              "frame": {
               "duration": 0,
               "redraw": true
              },
              "fromcurrent": true,
              "mode": "immediate",
              "transition": {
               "duration": 0,
               "easing": "linear"
              }
             }
            ],
            "label": "2018",
            "method": "animate"
           },
           {
            "args": [
             [
              "2017"
             ],
             {
              "frame": {
               "duration": 0,
               "redraw": true
              },
              "fromcurrent": true,
              "mode": "immediate",
              "transition": {
               "duration": 0,
               "easing": "linear"
              }
             }
            ],
            "label": "2017",
            "method": "animate"
           },
           {
            "args": [
             [
              "2016"
             ],
             {
              "frame": {
               "duration": 0,
               "redraw": true
              },
              "fromcurrent": true,
              "mode": "immediate",
              "transition": {
               "duration": 0,
               "easing": "linear"
              }
             }
            ],
            "label": "2016",
            "method": "animate"
           },
           {
            "args": [
             [
              "2015"
             ],
             {
              "frame": {
               "duration": 0,
               "redraw": true
              },
              "fromcurrent": true,
              "mode": "immediate",
              "transition": {
               "duration": 0,
               "easing": "linear"
              }
             }
            ],
            "label": "2015",
            "method": "animate"
           },
           {
            "args": [
             [
              "2014"
             ],
             {
              "frame": {
               "duration": 0,
               "redraw": true
              },
              "fromcurrent": true,
              "mode": "immediate",
              "transition": {
               "duration": 0,
               "easing": "linear"
              }
             }
            ],
            "label": "2014",
            "method": "animate"
           },
           {
            "args": [
             [
              "2013"
             ],
             {
              "frame": {
               "duration": 0,
               "redraw": true
              },
              "fromcurrent": true,
              "mode": "immediate",
              "transition": {
               "duration": 0,
               "easing": "linear"
              }
             }
            ],
            "label": "2013",
            "method": "animate"
           },
           {
            "args": [
             [
              "2012"
             ],
             {
              "frame": {
               "duration": 0,
               "redraw": true
              },
              "fromcurrent": true,
              "mode": "immediate",
              "transition": {
               "duration": 0,
               "easing": "linear"
              }
             }
            ],
            "label": "2012",
            "method": "animate"
           },
           {
            "args": [
             [
              "2011"
             ],
             {
              "frame": {
               "duration": 0,
               "redraw": true
              },
              "fromcurrent": true,
              "mode": "immediate",
              "transition": {
               "duration": 0,
               "easing": "linear"
              }
             }
            ],
            "label": "2011",
            "method": "animate"
           },
           {
            "args": [
             [
              "2010"
             ],
             {
              "frame": {
               "duration": 0,
               "redraw": true
              },
              "fromcurrent": true,
              "mode": "immediate",
              "transition": {
               "duration": 0,
               "easing": "linear"
              }
             }
            ],
            "label": "2010",
            "method": "animate"
           }
          ],
          "x": 0.1,
          "xanchor": "left",
          "y": 0,
          "yanchor": "top"
         }
        ],
        "template": {
         "data": {
          "bar": [
           {
            "error_x": {
             "color": "#2a3f5f"
            },
            "error_y": {
             "color": "#2a3f5f"
            },
            "marker": {
             "line": {
              "color": "#E5ECF6",
              "width": 0.5
             },
             "pattern": {
              "fillmode": "overlay",
              "size": 10,
              "solidity": 0.2
             }
            },
            "type": "bar"
           }
          ],
          "barpolar": [
           {
            "marker": {
             "line": {
              "color": "#E5ECF6",
              "width": 0.5
             },
             "pattern": {
              "fillmode": "overlay",
              "size": 10,
              "solidity": 0.2
             }
            },
            "type": "barpolar"
           }
          ],
          "carpet": [
           {
            "aaxis": {
             "endlinecolor": "#2a3f5f",
             "gridcolor": "white",
             "linecolor": "white",
             "minorgridcolor": "white",
             "startlinecolor": "#2a3f5f"
            },
            "baxis": {
             "endlinecolor": "#2a3f5f",
             "gridcolor": "white",
             "linecolor": "white",
             "minorgridcolor": "white",
             "startlinecolor": "#2a3f5f"
            },
            "type": "carpet"
           }
          ],
          "choropleth": [
           {
            "colorbar": {
             "outlinewidth": 0,
             "ticks": ""
            },
            "type": "choropleth"
           }
          ],
          "contour": [
           {
            "colorbar": {
             "outlinewidth": 0,
             "ticks": ""
            },
            "colorscale": [
             [
              0,
              "#0d0887"
             ],
             [
              0.1111111111111111,
              "#46039f"
             ],
             [
              0.2222222222222222,
              "#7201a8"
             ],
             [
              0.3333333333333333,
              "#9c179e"
             ],
             [
              0.4444444444444444,
              "#bd3786"
             ],
             [
              0.5555555555555556,
              "#d8576b"
             ],
             [
              0.6666666666666666,
              "#ed7953"
             ],
             [
              0.7777777777777778,
              "#fb9f3a"
             ],
             [
              0.8888888888888888,
              "#fdca26"
             ],
             [
              1,
              "#f0f921"
             ]
            ],
            "type": "contour"
           }
          ],
          "contourcarpet": [
           {
            "colorbar": {
             "outlinewidth": 0,
             "ticks": ""
            },
            "type": "contourcarpet"
           }
          ],
          "heatmap": [
           {
            "colorbar": {
             "outlinewidth": 0,
             "ticks": ""
            },
            "colorscale": [
             [
              0,
              "#0d0887"
             ],
             [
              0.1111111111111111,
              "#46039f"
             ],
             [
              0.2222222222222222,
              "#7201a8"
             ],
             [
              0.3333333333333333,
              "#9c179e"
             ],
             [
              0.4444444444444444,
              "#bd3786"
             ],
             [
              0.5555555555555556,
              "#d8576b"
             ],
             [
              0.6666666666666666,
              "#ed7953"
             ],
             [
              0.7777777777777778,
              "#fb9f3a"
             ],
             [
              0.8888888888888888,
              "#fdca26"
             ],
             [
              1,
              "#f0f921"
             ]
            ],
            "type": "heatmap"
           }
          ],
          "heatmapgl": [
           {
            "colorbar": {
             "outlinewidth": 0,
             "ticks": ""
            },
            "colorscale": [
             [
              0,
              "#0d0887"
             ],
             [
              0.1111111111111111,
              "#46039f"
             ],
             [
              0.2222222222222222,
              "#7201a8"
             ],
             [
              0.3333333333333333,
              "#9c179e"
             ],
             [
              0.4444444444444444,
              "#bd3786"
             ],
             [
              0.5555555555555556,
              "#d8576b"
             ],
             [
              0.6666666666666666,
              "#ed7953"
             ],
             [
              0.7777777777777778,
              "#fb9f3a"
             ],
             [
              0.8888888888888888,
              "#fdca26"
             ],
             [
              1,
              "#f0f921"
             ]
            ],
            "type": "heatmapgl"
           }
          ],
          "histogram": [
           {
            "marker": {
             "pattern": {
              "fillmode": "overlay",
              "size": 10,
              "solidity": 0.2
             }
            },
            "type": "histogram"
           }
          ],
          "histogram2d": [
           {
            "colorbar": {
             "outlinewidth": 0,
             "ticks": ""
            },
            "colorscale": [
             [
              0,
              "#0d0887"
             ],
             [
              0.1111111111111111,
              "#46039f"
             ],
             [
              0.2222222222222222,
              "#7201a8"
             ],
             [
              0.3333333333333333,
              "#9c179e"
             ],
             [
              0.4444444444444444,
              "#bd3786"
             ],
             [
              0.5555555555555556,
              "#d8576b"
             ],
             [
              0.6666666666666666,
              "#ed7953"
             ],
             [
              0.7777777777777778,
              "#fb9f3a"
             ],
             [
              0.8888888888888888,
              "#fdca26"
             ],
             [
              1,
              "#f0f921"
             ]
            ],
            "type": "histogram2d"
           }
          ],
          "histogram2dcontour": [
           {
            "colorbar": {
             "outlinewidth": 0,
             "ticks": ""
            },
            "colorscale": [
             [
              0,
              "#0d0887"
             ],
             [
              0.1111111111111111,
              "#46039f"
             ],
             [
              0.2222222222222222,
              "#7201a8"
             ],
             [
              0.3333333333333333,
              "#9c179e"
             ],
             [
              0.4444444444444444,
              "#bd3786"
             ],
             [
              0.5555555555555556,
              "#d8576b"
             ],
             [
              0.6666666666666666,
              "#ed7953"
             ],
             [
              0.7777777777777778,
              "#fb9f3a"
             ],
             [
              0.8888888888888888,
              "#fdca26"
             ],
             [
              1,
              "#f0f921"
             ]
            ],
            "type": "histogram2dcontour"
           }
          ],
          "mesh3d": [
           {
            "colorbar": {
             "outlinewidth": 0,
             "ticks": ""
            },
            "type": "mesh3d"
           }
          ],
          "parcoords": [
           {
            "line": {
             "colorbar": {
              "outlinewidth": 0,
              "ticks": ""
             }
            },
            "type": "parcoords"
           }
          ],
          "pie": [
           {
            "automargin": true,
            "type": "pie"
           }
          ],
          "scatter": [
           {
            "fillpattern": {
             "fillmode": "overlay",
             "size": 10,
             "solidity": 0.2
            },
            "type": "scatter"
           }
          ],
          "scatter3d": [
           {
            "line": {
             "colorbar": {
              "outlinewidth": 0,
              "ticks": ""
             }
            },
            "marker": {
             "colorbar": {
              "outlinewidth": 0,
              "ticks": ""
             }
            },
            "type": "scatter3d"
           }
          ],
          "scattercarpet": [
           {
            "marker": {
             "colorbar": {
              "outlinewidth": 0,
              "ticks": ""
             }
            },
            "type": "scattercarpet"
           }
          ],
          "scattergeo": [
           {
            "marker": {
             "colorbar": {
              "outlinewidth": 0,
              "ticks": ""
             }
            },
            "type": "scattergeo"
           }
          ],
          "scattergl": [
           {
            "marker": {
             "colorbar": {
              "outlinewidth": 0,
              "ticks": ""
             }
            },
            "type": "scattergl"
           }
          ],
          "scattermapbox": [
           {
            "marker": {
             "colorbar": {
              "outlinewidth": 0,
              "ticks": ""
             }
            },
            "type": "scattermapbox"
           }
          ],
          "scatterpolar": [
           {
            "marker": {
             "colorbar": {
              "outlinewidth": 0,
              "ticks": ""
             }
            },
            "type": "scatterpolar"
           }
          ],
          "scatterpolargl": [
           {
            "marker": {
             "colorbar": {
              "outlinewidth": 0,
              "ticks": ""
             }
            },
            "type": "scatterpolargl"
           }
          ],
          "scatterternary": [
           {
            "marker": {
             "colorbar": {
              "outlinewidth": 0,
              "ticks": ""
             }
            },
            "type": "scatterternary"
           }
          ],
          "surface": [
           {
            "colorbar": {
             "outlinewidth": 0,
             "ticks": ""
            },
            "colorscale": [
             [
              0,
              "#0d0887"
             ],
             [
              0.1111111111111111,
              "#46039f"
             ],
             [
              0.2222222222222222,
              "#7201a8"
             ],
             [
              0.3333333333333333,
              "#9c179e"
             ],
             [
              0.4444444444444444,
              "#bd3786"
             ],
             [
              0.5555555555555556,
              "#d8576b"
             ],
             [
              0.6666666666666666,
              "#ed7953"
             ],
             [
              0.7777777777777778,
              "#fb9f3a"
             ],
             [
              0.8888888888888888,
              "#fdca26"
             ],
             [
              1,
              "#f0f921"
             ]
            ],
            "type": "surface"
           }
          ],
          "table": [
           {
            "cells": {
             "fill": {
              "color": "#EBF0F8"
             },
             "line": {
              "color": "white"
             }
            },
            "header": {
             "fill": {
              "color": "#C8D4E3"
             },
             "line": {
              "color": "white"
             }
            },
            "type": "table"
           }
          ]
         },
         "layout": {
          "annotationdefaults": {
           "arrowcolor": "#2a3f5f",
           "arrowhead": 0,
           "arrowwidth": 1
          },
          "autotypenumbers": "strict",
          "coloraxis": {
           "colorbar": {
            "outlinewidth": 0,
            "ticks": ""
           }
          },
          "colorscale": {
           "diverging": [
            [
             0,
             "#8e0152"
            ],
            [
             0.1,
             "#c51b7d"
            ],
            [
             0.2,
             "#de77ae"
            ],
            [
             0.3,
             "#f1b6da"
            ],
            [
             0.4,
             "#fde0ef"
            ],
            [
             0.5,
             "#f7f7f7"
            ],
            [
             0.6,
             "#e6f5d0"
            ],
            [
             0.7,
             "#b8e186"
            ],
            [
             0.8,
             "#7fbc41"
            ],
            [
             0.9,
             "#4d9221"
            ],
            [
             1,
             "#276419"
            ]
           ],
           "sequential": [
            [
             0,
             "#0d0887"
            ],
            [
             0.1111111111111111,
             "#46039f"
            ],
            [
             0.2222222222222222,
             "#7201a8"
            ],
            [
             0.3333333333333333,
             "#9c179e"
            ],
            [
             0.4444444444444444,
             "#bd3786"
            ],
            [
             0.5555555555555556,
             "#d8576b"
            ],
            [
             0.6666666666666666,
             "#ed7953"
            ],
            [
             0.7777777777777778,
             "#fb9f3a"
            ],
            [
             0.8888888888888888,
             "#fdca26"
            ],
            [
             1,
             "#f0f921"
            ]
           ],
           "sequentialminus": [
            [
             0,
             "#0d0887"
            ],
            [
             0.1111111111111111,
             "#46039f"
            ],
            [
             0.2222222222222222,
             "#7201a8"
            ],
            [
             0.3333333333333333,
             "#9c179e"
            ],
            [
             0.4444444444444444,
             "#bd3786"
            ],
            [
             0.5555555555555556,
             "#d8576b"
            ],
            [
             0.6666666666666666,
             "#ed7953"
            ],
            [
             0.7777777777777778,
             "#fb9f3a"
            ],
            [
             0.8888888888888888,
             "#fdca26"
            ],
            [
             1,
             "#f0f921"
            ]
           ]
          },
          "colorway": [
           "#636efa",
           "#EF553B",
           "#00cc96",
           "#ab63fa",
           "#FFA15A",
           "#19d3f3",
           "#FF6692",
           "#B6E880",
           "#FF97FF",
           "#FECB52"
          ],
          "font": {
           "color": "#2a3f5f"
          },
          "geo": {
           "bgcolor": "white",
           "lakecolor": "white",
           "landcolor": "#E5ECF6",
           "showlakes": true,
           "showland": true,
           "subunitcolor": "white"
          },
          "hoverlabel": {
           "align": "left"
          },
          "hovermode": "closest",
          "mapbox": {
           "style": "light"
          },
          "paper_bgcolor": "white",
          "plot_bgcolor": "#E5ECF6",
          "polar": {
           "angularaxis": {
            "gridcolor": "white",
            "linecolor": "white",
            "ticks": ""
           },
           "bgcolor": "#E5ECF6",
           "radialaxis": {
            "gridcolor": "white",
            "linecolor": "white",
            "ticks": ""
           }
          },
          "scene": {
           "xaxis": {
            "backgroundcolor": "#E5ECF6",
            "gridcolor": "white",
            "gridwidth": 2,
            "linecolor": "white",
            "showbackground": true,
            "ticks": "",
            "zerolinecolor": "white"
           },
           "yaxis": {
            "backgroundcolor": "#E5ECF6",
            "gridcolor": "white",
            "gridwidth": 2,
            "linecolor": "white",
            "showbackground": true,
            "ticks": "",
            "zerolinecolor": "white"
           },
           "zaxis": {
            "backgroundcolor": "#E5ECF6",
            "gridcolor": "white",
            "gridwidth": 2,
            "linecolor": "white",
            "showbackground": true,
            "ticks": "",
            "zerolinecolor": "white"
           }
          },
          "shapedefaults": {
           "line": {
            "color": "#2a3f5f"
           }
          },
          "ternary": {
           "aaxis": {
            "gridcolor": "white",
            "linecolor": "white",
            "ticks": ""
           },
           "baxis": {
            "gridcolor": "white",
            "linecolor": "white",
            "ticks": ""
           },
           "bgcolor": "#E5ECF6",
           "caxis": {
            "gridcolor": "white",
            "linecolor": "white",
            "ticks": ""
           }
          },
          "title": {
           "x": 0.05
          },
          "xaxis": {
           "automargin": true,
           "gridcolor": "white",
           "linecolor": "white",
           "ticks": "",
           "title": {
            "standoff": 15
           },
           "zerolinecolor": "white",
           "zerolinewidth": 2
          },
          "yaxis": {
           "automargin": true,
           "gridcolor": "white",
           "linecolor": "white",
           "ticks": "",
           "title": {
            "standoff": 15
           },
           "zerolinecolor": "white",
           "zerolinewidth": 2
          }
         }
        },
        "updatemenus": [
         {
          "buttons": [
           {
            "args": [
             null,
             {
              "frame": {
               "duration": 500,
               "redraw": true
              },
              "fromcurrent": true,
              "mode": "immediate",
              "transition": {
               "duration": 500,
               "easing": "linear"
              }
             }
            ],
            "label": "&#9654;",
            "method": "animate"
           },
           {
            "args": [
             [
              null
             ],
             {
              "frame": {
               "duration": 0,
               "redraw": true
              },
              "fromcurrent": true,
              "mode": "immediate",
              "transition": {
               "duration": 0,
               "easing": "linear"
              }
             }
            ],
            "label": "&#9724;",
            "method": "animate"
           }
          ],
          "direction": "left",
          "pad": {
           "r": 10,
           "t": 70
          },
          "showactive": false,
          "type": "buttons",
          "x": 0.1,
          "xanchor": "right",
          "y": 0,
          "yanchor": "top"
         }
        ],
        "xaxis": {
         "anchor": "y",
         "domain": [
          0,
          1
         ],
         "range": [
          0,
          62797
         ],
         "title": {
          "text": "DataValue"
         }
        },
        "yaxis": {
         "anchor": "x",
         "domain": [
          0,
          1
         ],
         "title": {
          "text": "LocationDesc"
         }
        }
       }
      }
     },
     "metadata": {},
     "output_type": "display_data"
    }
   ],
   "source": [
    "dfi = df[df['Question']=='Mortality from diseases of the heart'].copy() \n",
    "\n",
    "px.bar(dfi, x='DataValue', y='LocationDesc', animation_frame='YearStart', animation_group='LocationDesc', orientation='h', range_x=[0, dfi['DataValue'].max()])"
   ]
  }
 ],
 "metadata": {
  "kernelspec": {
   "display_name": "Python 3.10.4 ('dash_env')",
   "language": "python",
   "name": "python3"
  },
  "language_info": {
   "codemirror_mode": {
    "name": "ipython",
    "version": 3
   },
   "file_extension": ".py",
   "mimetype": "text/x-python",
   "name": "python",
   "nbconvert_exporter": "python",
   "pygments_lexer": "ipython3",
   "version": "3.10.4"
  },
  "orig_nbformat": 4,
  "vscode": {
   "interpreter": {
    "hash": "fc6dba035ba7565a1d3f44fff3fb9db8053216f24f1cb90e31c3e7249a930f3d"
   }
  }
 },
 "nbformat": 4,
 "nbformat_minor": 2
}
