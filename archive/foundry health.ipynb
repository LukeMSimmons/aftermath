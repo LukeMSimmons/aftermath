{
 "cells": [
  {
   "cell_type": "code",
   "execution_count": 10,
   "metadata": {},
   "outputs": [],
   "source": [
    "import numpy as np \n",
    "import pandas as pd \n",
    "import plotly.express as px\n",
    "\n",
    "pd.set_option('display.max_columns', 300) "
   ]
  },
  {
   "cell_type": "code",
   "execution_count": 14,
   "metadata": {},
   "outputs": [
    {
     "data": {
      "text/html": [
       "<div>\n",
       "<style scoped>\n",
       "    .dataframe tbody tr th:only-of-type {\n",
       "        vertical-align: middle;\n",
       "    }\n",
       "\n",
       "    .dataframe tbody tr th {\n",
       "        vertical-align: top;\n",
       "    }\n",
       "\n",
       "    .dataframe thead th {\n",
       "        text-align: right;\n",
       "    }\n",
       "</style>\n",
       "<table border=\"1\" class=\"dataframe\">\n",
       "  <thead>\n",
       "    <tr style=\"text-align: right;\">\n",
       "      <th></th>\n",
       "      <th>YearStart</th>\n",
       "      <th>LocationDesc</th>\n",
       "      <th>Question</th>\n",
       "      <th>DataValue</th>\n",
       "    </tr>\n",
       "  </thead>\n",
       "  <tbody>\n",
       "    <tr>\n",
       "      <th>17</th>\n",
       "      <td>2017</td>\n",
       "      <td>Alabama</td>\n",
       "      <td>Gini Index of income inequality</td>\n",
       "      <td>0.48</td>\n",
       "    </tr>\n",
       "    <tr>\n",
       "      <th>24</th>\n",
       "      <td>2016</td>\n",
       "      <td>Alabama</td>\n",
       "      <td>Mortality with end-stage renal disease</td>\n",
       "      <td>3412.00</td>\n",
       "    </tr>\n",
       "    <tr>\n",
       "      <th>25</th>\n",
       "      <td>2010</td>\n",
       "      <td>Alabama</td>\n",
       "      <td>Mortality from total cardiovascular diseases</td>\n",
       "      <td>15809.00</td>\n",
       "    </tr>\n",
       "    <tr>\n",
       "      <th>29</th>\n",
       "      <td>2012</td>\n",
       "      <td>Alabama</td>\n",
       "      <td>Mortality from diseases of the heart</td>\n",
       "      <td>12036.00</td>\n",
       "    </tr>\n",
       "    <tr>\n",
       "      <th>34</th>\n",
       "      <td>2013</td>\n",
       "      <td>Arkansas</td>\n",
       "      <td>Chronic liver disease mortality</td>\n",
       "      <td>338.00</td>\n",
       "    </tr>\n",
       "  </tbody>\n",
       "</table>\n",
       "</div>"
      ],
      "text/plain": [
       "    YearStart LocationDesc                                      Question  \\\n",
       "17       2017      Alabama               Gini Index of income inequality   \n",
       "24       2016      Alabama        Mortality with end-stage renal disease   \n",
       "25       2010      Alabama  Mortality from total cardiovascular diseases   \n",
       "29       2012      Alabama          Mortality from diseases of the heart   \n",
       "34       2013     Arkansas               Chronic liver disease mortality   \n",
       "\n",
       "    DataValue  \n",
       "17       0.48  \n",
       "24    3412.00  \n",
       "25   15809.00  \n",
       "29   12036.00  \n",
       "34     338.00  "
      ]
     },
     "execution_count": 14,
     "metadata": {},
     "output_type": "execute_result"
    }
   ],
   "source": [
    "cols = ['YearStart', 'LocationDesc', 'Question', 'DataValueType', 'DataValue', 'StratificationCategory1']\n",
    "blocklist = ['United States', 'District of Columbia', 'Guam', 'Puerto Rico', 'Virgin Islands', 'Hawaii', \n",
    "             'Alaska', 'Delaware', 'Maine', 'Montana', 'North Dakota', 'South Dakota', 'New Hampshire', \n",
    "             'Rhode Island', 'Utah', 'Vermont', 'Wyoming', 'West Virginia', 'Ohio', 'Iowa', 'Idaho', \n",
    "             'Kansas', 'Nebraska']\n",
    "\n",
    "df = pd.read_csv(f'data/raw/Chronic_Disease_Indicators.csv', usecols=cols, low_memory=False)\n",
    "df = df[(df['StratificationCategory1']=='Overall') & (df['DataValueType']=='Number') & (~df['LocationDesc'].isin(blocklist))].copy()\n",
    "\n",
    "df.drop(columns=['StratificationCategory1', 'DataValueType'], inplace=True) \n",
    "df['DataValue'] = df['DataValue'].astype(float) \n",
    "\n",
    "df.head()"
   ]
  },
  {
   "cell_type": "code",
   "execution_count": 15,
   "metadata": {},
   "outputs": [],
   "source": [
    "df.sort_values(['LocationDesc'], ascending=False, inplace=True)\n",
    "df.sort_values(['YearStart'], kind='stable', inplace=True)"
   ]
  },
  {
   "cell_type": "code",
   "execution_count": 16,
   "metadata": {},
   "outputs": [],
   "source": [
    "df_name = 'us_health' #us_health \n",
    "\n",
    "df.to_pickle(f'data/pkl/{df_name}.pkl')"
   ]
  },
  {
   "cell_type": "code",
   "execution_count": null,
   "metadata": {},
   "outputs": [],
   "source": []
  },
  {
   "cell_type": "code",
   "execution_count": null,
   "metadata": {},
   "outputs": [],
   "source": []
  },
  {
   "cell_type": "code",
   "execution_count": 68,
   "metadata": {},
   "outputs": [
    {
     "data": {
      "application/vnd.plotly.v1+json": {
       "config": {
        "plotlyServerURL": "https://plot.ly"
       },
       "data": [
        {
         "alignmentgroup": "True",
         "hovertemplate": "YearStart=2019<br>DataValue=%{x}<br>LocationDesc=%{y}<extra></extra>",
         "ids": [
          "Wyoming",
          "Wisconsin",
          "West Virginia",
          "Washington",
          "Virginia",
          "Vermont",
          "Utah",
          "Texas",
          "Tennessee",
          "South Dakota",
          "South Carolina",
          "Rhode Island",
          "Pennsylvania",
          "Oregon",
          "Oklahoma",
          "Ohio",
          "North Dakota",
          "North Carolina",
          "New York",
          "New Mexico",
          "New Jersey",
          "New Hampshire",
          "Nevada",
          "Nebraska",
          "Montana",
          "Missouri",
          "Mississippi",
          "Minnesota",
          "Michigan",
          "Massachusetts",
          "Maryland",
          "Maine",
          "Louisiana",
          "Kentucky",
          "Kansas",
          "Iowa",
          "Indiana",
          "Illinois",
          "Idaho",
          "Hawaii",
          "Georgia",
          "Florida",
          "District of Columbia",
          "Delaware",
          "Connecticut",
          "Colorado",
          "California",
          "Arkansas",
          "Arizona",
          "Alaska",
          "Alabama"
         ],
         "legendgroup": "",
         "marker": {
          "color": "#636efa",
          "pattern": {
           "shape": ""
          }
         },
         "name": "",
         "offsetgroup": "",
         "orientation": "h",
         "showlegend": false,
         "textposition": "auto",
         "type": "bar",
         "x": [
          1067,
          12241,
          5087,
          11862,
          15062,
          1368,
          3882,
          46139,
          16814,
          1840,
          10579,
          2404,
          32299,
          7128,
          10960,
          29160,
          1448,
          19617,
          43806,
          4245,
          18716,
          2707,
          6864,
          3540,
          2290,
          15018,
          7997,
          8401,
          25547,
          11761,
          11770,
          2940,
          11302,
          10742,
          6140,
          7505,
          14555,
          25690,
          3061,
          2503,
          19543,
          47144,
          1187,
          2053,
          7354,
          7762,
          62394,
          8669,
          12587,
          843,
          13448
         ],
         "xaxis": "x",
         "y": [
          "Wyoming",
          "Wisconsin",
          "West Virginia",
          "Washington",
          "Virginia",
          "Vermont",
          "Utah",
          "Texas",
          "Tennessee",
          "South Dakota",
          "South Carolina",
          "Rhode Island",
          "Pennsylvania",
          "Oregon",
          "Oklahoma",
          "Ohio",
          "North Dakota",
          "North Carolina",
          "New York",
          "New Mexico",
          "New Jersey",
          "New Hampshire",
          "Nevada",
          "Nebraska",
          "Montana",
          "Missouri",
          "Mississippi",
          "Minnesota",
          "Michigan",
          "Massachusetts",
          "Maryland",
          "Maine",
          "Louisiana",
          "Kentucky",
          "Kansas",
          "Iowa",
          "Indiana",
          "Illinois",
          "Idaho",
          "Hawaii",
          "Georgia",
          "Florida",
          "District of Columbia",
          "Delaware",
          "Connecticut",
          "Colorado",
          "California",
          "Arkansas",
          "Arizona",
          "Alaska",
          "Alabama"
         ],
         "yaxis": "y"
        }
       ],
       "frames": [
        {
         "data": [
          {
           "alignmentgroup": "True",
           "hovertemplate": "YearStart=2019<br>DataValue=%{x}<br>LocationDesc=%{y}<extra></extra>",
           "ids": [
            "Wyoming",
            "Wisconsin",
            "West Virginia",
            "Washington",
            "Virginia",
            "Vermont",
            "Utah",
            "Texas",
            "Tennessee",
            "South Dakota",
            "South Carolina",
            "Rhode Island",
            "Pennsylvania",
            "Oregon",
            "Oklahoma",
            "Ohio",
            "North Dakota",
            "North Carolina",
            "New York",
            "New Mexico",
            "New Jersey",
            "New Hampshire",
            "Nevada",
            "Nebraska",
            "Montana",
            "Missouri",
            "Mississippi",
            "Minnesota",
            "Michigan",
            "Massachusetts",
            "Maryland",
            "Maine",
            "Louisiana",
            "Kentucky",
            "Kansas",
            "Iowa",
            "Indiana",
            "Illinois",
            "Idaho",
            "Hawaii",
            "Georgia",
            "Florida",
            "District of Columbia",
            "Delaware",
            "Connecticut",
            "Colorado",
            "California",
            "Arkansas",
            "Arizona",
            "Alaska",
            "Alabama"
           ],
           "legendgroup": "",
           "marker": {
            "color": "#636efa",
            "pattern": {
             "shape": ""
            }
           },
           "name": "",
           "offsetgroup": "",
           "orientation": "h",
           "showlegend": false,
           "textposition": "auto",
           "type": "bar",
           "x": [
            1067,
            12241,
            5087,
            11862,
            15062,
            1368,
            3882,
            46139,
            16814,
            1840,
            10579,
            2404,
            32299,
            7128,
            10960,
            29160,
            1448,
            19617,
            43806,
            4245,
            18716,
            2707,
            6864,
            3540,
            2290,
            15018,
            7997,
            8401,
            25547,
            11761,
            11770,
            2940,
            11302,
            10742,
            6140,
            7505,
            14555,
            25690,
            3061,
            2503,
            19543,
            47144,
            1187,
            2053,
            7354,
            7762,
            62394,
            8669,
            12587,
            843,
            13448
           ],
           "xaxis": "x",
           "y": [
            "Wyoming",
            "Wisconsin",
            "West Virginia",
            "Washington",
            "Virginia",
            "Vermont",
            "Utah",
            "Texas",
            "Tennessee",
            "South Dakota",
            "South Carolina",
            "Rhode Island",
            "Pennsylvania",
            "Oregon",
            "Oklahoma",
            "Ohio",
            "North Dakota",
            "North Carolina",
            "New York",
            "New Mexico",
            "New Jersey",
            "New Hampshire",
            "Nevada",
            "Nebraska",
            "Montana",
            "Missouri",
            "Mississippi",
            "Minnesota",
            "Michigan",
            "Massachusetts",
            "Maryland",
            "Maine",
            "Louisiana",
            "Kentucky",
            "Kansas",
            "Iowa",
            "Indiana",
            "Illinois",
            "Idaho",
            "Hawaii",
            "Georgia",
            "Florida",
            "District of Columbia",
            "Delaware",
            "Connecticut",
            "Colorado",
            "California",
            "Arkansas",
            "Arizona",
            "Alaska",
            "Alabama"
           ],
           "yaxis": "y"
          }
         ],
         "name": "2019"
        },
        {
         "data": [
          {
           "alignmentgroup": "True",
           "hovertemplate": "YearStart=2018<br>DataValue=%{x}<br>LocationDesc=%{y}<extra></extra>",
           "ids": [
            "Wyoming",
            "Wisconsin",
            "West Virginia",
            "Washington",
            "Virginia",
            "Vermont",
            "Utah",
            "Texas",
            "Tennessee",
            "South Dakota",
            "South Carolina",
            "Rhode Island",
            "Pennsylvania",
            "Oregon",
            "Oklahoma",
            "Ohio",
            "North Dakota",
            "North Carolina",
            "New York",
            "New Mexico",
            "New Jersey",
            "New Hampshire",
            "Nevada",
            "Nebraska",
            "Montana",
            "Missouri",
            "Mississippi",
            "Minnesota",
            "Michigan",
            "Massachusetts",
            "Maryland",
            "Maine",
            "Louisiana",
            "Kentucky",
            "Kansas",
            "Iowa",
            "Indiana",
            "Illinois",
            "Idaho",
            "Hawaii",
            "Georgia",
            "Florida",
            "District of Columbia",
            "Delaware",
            "Connecticut",
            "Colorado",
            "California",
            "Arkansas",
            "Arizona",
            "Alaska",
            "Alabama"
           ],
           "legendgroup": "",
           "marker": {
            "color": "#636efa",
            "pattern": {
             "shape": ""
            }
           },
           "name": "",
           "offsetgroup": "",
           "orientation": "h",
           "showlegend": false,
           "textposition": "auto",
           "type": "bar",
           "x": [
            1054,
            12061,
            5007,
            11655,
            14600,
            1338,
            3749,
            46763,
            16417,
            1796,
            10464,
            2411,
            32768,
            6820,
            10634,
            29220,
            1361,
            19222,
            44499,
            3935,
            19047,
            2786,
            6393,
            3539,
            2347,
            14893,
            7758,
            8408,
            25354,
            12036,
            11683,
            2965,
            11340,
            10697,
            5823,
            7185,
            14532,
            25755,
            3122,
            2570,
            18986,
            47027,
            1295,
            2030,
            7205,
            7370,
            62547,
            8171,
            12455,
            815,
            13473
           ],
           "xaxis": "x",
           "y": [
            "Wyoming",
            "Wisconsin",
            "West Virginia",
            "Washington",
            "Virginia",
            "Vermont",
            "Utah",
            "Texas",
            "Tennessee",
            "South Dakota",
            "South Carolina",
            "Rhode Island",
            "Pennsylvania",
            "Oregon",
            "Oklahoma",
            "Ohio",
            "North Dakota",
            "North Carolina",
            "New York",
            "New Mexico",
            "New Jersey",
            "New Hampshire",
            "Nevada",
            "Nebraska",
            "Montana",
            "Missouri",
            "Mississippi",
            "Minnesota",
            "Michigan",
            "Massachusetts",
            "Maryland",
            "Maine",
            "Louisiana",
            "Kentucky",
            "Kansas",
            "Iowa",
            "Indiana",
            "Illinois",
            "Idaho",
            "Hawaii",
            "Georgia",
            "Florida",
            "District of Columbia",
            "Delaware",
            "Connecticut",
            "Colorado",
            "California",
            "Arkansas",
            "Arizona",
            "Alaska",
            "Alabama"
           ],
           "yaxis": "y"
          }
         ],
         "name": "2018"
        },
        {
         "data": [
          {
           "alignmentgroup": "True",
           "hovertemplate": "YearStart=2017<br>DataValue=%{x}<br>LocationDesc=%{y}<extra></extra>",
           "ids": [
            "Wyoming",
            "Wisconsin",
            "West Virginia",
            "Washington",
            "Virginia",
            "Vermont",
            "Utah",
            "Texas",
            "Tennessee",
            "South Dakota",
            "South Carolina",
            "Rhode Island",
            "Pennsylvania",
            "Oregon",
            "Oklahoma",
            "Ohio",
            "North Dakota",
            "North Carolina",
            "New York",
            "New Mexico",
            "New Jersey",
            "New Hampshire",
            "Nevada",
            "Nebraska",
            "Montana",
            "Missouri",
            "Mississippi",
            "Minnesota",
            "Michigan",
            "Massachusetts",
            "Maryland",
            "Maine",
            "Louisiana",
            "Kentucky",
            "Kansas",
            "Iowa",
            "Indiana",
            "Illinois",
            "Idaho",
            "Hawaii",
            "Georgia",
            "Florida",
            "District of Columbia",
            "Delaware",
            "Connecticut",
            "Colorado",
            "California",
            "Arkansas",
            "Arizona",
            "Alaska",
            "Alabama"
           ],
           "legendgroup": "",
           "marker": {
            "color": "#636efa",
            "pattern": {
             "shape": ""
            }
           },
           "name": "",
           "offsetgroup": "",
           "orientation": "h",
           "showlegend": false,
           "textposition": "auto",
           "type": "bar",
           "x": [
            1001,
            11860,
            4849,
            11582,
            14861,
            1332,
            3749,
            45346,
            16019,
            1710,
            10418,
            2339,
            32312,
            6942,
            10772,
            28008,
            1326,
            18808,
            44092,
            3896,
            18840,
            2721,
            6417,
            3581,
            2164,
            14820,
            7944,
            8230,
            25187,
            12140,
            11653,
            2844,
            11260,
            10343,
            5723,
            7180,
            14445,
            25394,
            3084,
            2575,
            18389,
            46440,
            1284,
            1990,
            7138,
            7060,
            62797,
            8270,
            12398,
            814,
            13110
           ],
           "xaxis": "x",
           "y": [
            "Wyoming",
            "Wisconsin",
            "West Virginia",
            "Washington",
            "Virginia",
            "Vermont",
            "Utah",
            "Texas",
            "Tennessee",
            "South Dakota",
            "South Carolina",
            "Rhode Island",
            "Pennsylvania",
            "Oregon",
            "Oklahoma",
            "Ohio",
            "North Dakota",
            "North Carolina",
            "New York",
            "New Mexico",
            "New Jersey",
            "New Hampshire",
            "Nevada",
            "Nebraska",
            "Montana",
            "Missouri",
            "Mississippi",
            "Minnesota",
            "Michigan",
            "Massachusetts",
            "Maryland",
            "Maine",
            "Louisiana",
            "Kentucky",
            "Kansas",
            "Iowa",
            "Indiana",
            "Illinois",
            "Idaho",
            "Hawaii",
            "Georgia",
            "Florida",
            "District of Columbia",
            "Delaware",
            "Connecticut",
            "Colorado",
            "California",
            "Arkansas",
            "Arizona",
            "Alaska",
            "Alabama"
           ],
           "yaxis": "y"
          }
         ],
         "name": "2017"
        },
        {
         "data": [
          {
           "alignmentgroup": "True",
           "hovertemplate": "YearStart=2016<br>DataValue=%{x}<br>LocationDesc=%{y}<extra></extra>",
           "ids": [
            "Wyoming",
            "Wisconsin",
            "West Virginia",
            "Washington",
            "Virginia",
            "Vermont",
            "Utah",
            "Texas",
            "Tennessee",
            "South Dakota",
            "South Carolina",
            "Rhode Island",
            "Pennsylvania",
            "Oregon",
            "Oklahoma",
            "Ohio",
            "North Dakota",
            "North Carolina",
            "New York",
            "New Mexico",
            "New Jersey",
            "New Hampshire",
            "Nevada",
            "Nebraska",
            "Montana",
            "Missouri",
            "Mississippi",
            "Minnesota",
            "Michigan",
            "Massachusetts",
            "Maryland",
            "Maine",
            "Louisiana",
            "Kentucky",
            "Kansas",
            "Iowa",
            "Indiana",
            "Illinois",
            "Idaho",
            "Hawaii",
            "Georgia",
            "Florida",
            "District of Columbia",
            "Delaware",
            "Connecticut",
            "Colorado",
            "California",
            "Arkansas",
            "Arizona",
            "Alaska",
            "Alabama"
           ],
           "legendgroup": "",
           "marker": {
            "color": "#636efa",
            "pattern": {
             "shape": ""
            }
           },
           "name": "",
           "offsetgroup": "",
           "orientation": "h",
           "showlegend": false,
           "textposition": "auto",
           "type": "bar",
           "x": [
            1051,
            11526,
            4767,
            11161,
            14124,
            1366,
            3636,
            43772,
            15429,
            1729,
            10195,
            2256,
            31990,
            6968,
            10209,
            27410,
            1338,
            18266,
            44076,
            3800,
            18597,
            2631,
            6457,
            3322,
            2138,
            14579,
            7865,
            7825,
            25304,
            11921,
            11390,
            2907,
            10943,
            10519,
            5672,
            6937,
            13952,
            25013,
            2969,
            2488,
            18143,
            45659,
            1375,
            1974,
            7051,
            7277,
            61573,
            8090,
            11957,
            831,
            12832
           ],
           "xaxis": "x",
           "y": [
            "Wyoming",
            "Wisconsin",
            "West Virginia",
            "Washington",
            "Virginia",
            "Vermont",
            "Utah",
            "Texas",
            "Tennessee",
            "South Dakota",
            "South Carolina",
            "Rhode Island",
            "Pennsylvania",
            "Oregon",
            "Oklahoma",
            "Ohio",
            "North Dakota",
            "North Carolina",
            "New York",
            "New Mexico",
            "New Jersey",
            "New Hampshire",
            "Nevada",
            "Nebraska",
            "Montana",
            "Missouri",
            "Mississippi",
            "Minnesota",
            "Michigan",
            "Massachusetts",
            "Maryland",
            "Maine",
            "Louisiana",
            "Kentucky",
            "Kansas",
            "Iowa",
            "Indiana",
            "Illinois",
            "Idaho",
            "Hawaii",
            "Georgia",
            "Florida",
            "District of Columbia",
            "Delaware",
            "Connecticut",
            "Colorado",
            "California",
            "Arkansas",
            "Arizona",
            "Alaska",
            "Alabama"
           ],
           "yaxis": "y"
          }
         ],
         "name": "2016"
        },
        {
         "data": [
          {
           "alignmentgroup": "True",
           "hovertemplate": "YearStart=2015<br>DataValue=%{x}<br>LocationDesc=%{y}<extra></extra>",
           "ids": [
            "Wyoming",
            "Wisconsin",
            "West Virginia",
            "Washington",
            "Virginia",
            "Vermont",
            "Utah",
            "Texas",
            "Tennessee",
            "South Dakota",
            "South Carolina",
            "Rhode Island",
            "Pennsylvania",
            "Oregon",
            "Oklahoma",
            "Ohio",
            "North Dakota",
            "North Carolina",
            "New York",
            "New Mexico",
            "New Jersey",
            "New Hampshire",
            "Nevada",
            "Nebraska",
            "Montana",
            "Missouri",
            "Mississippi",
            "Minnesota",
            "Michigan",
            "Massachusetts",
            "Maryland",
            "Maine",
            "Louisiana",
            "Kentucky",
            "Kansas",
            "Iowa",
            "Indiana",
            "Illinois",
            "Idaho",
            "Hawaii",
            "Georgia",
            "Florida",
            "District of Columbia",
            "Delaware",
            "Connecticut",
            "Colorado",
            "California",
            "Arkansas",
            "Arizona",
            "Alaska",
            "Alabama"
           ],
           "legendgroup": "",
           "marker": {
            "color": "#636efa",
            "pattern": {
             "shape": ""
            }
           },
           "name": "",
           "offsetgroup": "",
           "orientation": "h",
           "showlegend": false,
           "textposition": "auto",
           "type": "bar",
           "x": [
            1030,
            11473,
            4727,
            11025,
            14077,
            1311,
            3598,
            43298,
            15730,
            1711,
            10092,
            2371,
            32042,
            6859,
            10310,
            28069,
            1323,
            18474,
            44450,
            3508,
            18647,
            2571,
            6114,
            3591,
            2104,
            14808,
            7969,
            7844,
            24794,
            12130,
            11481,
            3009,
            10665,
            10077,
            5624,
            6813,
            13948,
            25652,
            2825,
            2605,
            17769,
            45441,
            1217,
            1940,
            7205,
            7009,
            61289,
            7938,
            11458,
            846,
            12981
           ],
           "xaxis": "x",
           "y": [
            "Wyoming",
            "Wisconsin",
            "West Virginia",
            "Washington",
            "Virginia",
            "Vermont",
            "Utah",
            "Texas",
            "Tennessee",
            "South Dakota",
            "South Carolina",
            "Rhode Island",
            "Pennsylvania",
            "Oregon",
            "Oklahoma",
            "Ohio",
            "North Dakota",
            "North Carolina",
            "New York",
            "New Mexico",
            "New Jersey",
            "New Hampshire",
            "Nevada",
            "Nebraska",
            "Montana",
            "Missouri",
            "Mississippi",
            "Minnesota",
            "Michigan",
            "Massachusetts",
            "Maryland",
            "Maine",
            "Louisiana",
            "Kentucky",
            "Kansas",
            "Iowa",
            "Indiana",
            "Illinois",
            "Idaho",
            "Hawaii",
            "Georgia",
            "Florida",
            "District of Columbia",
            "Delaware",
            "Connecticut",
            "Colorado",
            "California",
            "Arkansas",
            "Arizona",
            "Alaska",
            "Alabama"
           ],
           "yaxis": "y"
          }
         ],
         "name": "2015"
        },
        {
         "data": [
          {
           "alignmentgroup": "True",
           "hovertemplate": "YearStart=2014<br>DataValue=%{x}<br>LocationDesc=%{y}<extra></extra>",
           "ids": [
            "Wyoming",
            "Wisconsin",
            "West Virginia",
            "Washington",
            "Virginia",
            "Vermont",
            "Utah",
            "Texas",
            "Tennessee",
            "South Dakota",
            "South Carolina",
            "Rhode Island",
            "Pennsylvania",
            "Oregon",
            "Oklahoma",
            "Ohio",
            "North Dakota",
            "North Carolina",
            "New York",
            "New Mexico",
            "New Jersey",
            "New Hampshire",
            "Nevada",
            "Nebraska",
            "Montana",
            "Missouri",
            "Mississippi",
            "Minnesota",
            "Michigan",
            "Massachusetts",
            "Maryland",
            "Maine",
            "Louisiana",
            "Kentucky",
            "Kansas",
            "Iowa",
            "Indiana",
            "Illinois",
            "Idaho",
            "Hawaii",
            "Georgia",
            "Florida",
            "District of Columbia",
            "Delaware",
            "Connecticut",
            "Colorado",
            "California",
            "Arkansas",
            "Arizona",
            "Alaska",
            "Alabama"
           ],
           "legendgroup": "",
           "marker": {
            "color": "#636efa",
            "pattern": {
             "shape": ""
            }
           },
           "name": "",
           "offsetgroup": "",
           "orientation": "h",
           "showlegend": false,
           "textposition": "auto",
           "type": "bar",
           "x": [
            1035,
            11229,
            4692,
            10710,
            13874,
            1311,
            3431,
            41479,
            15223,
            1704,
            9964,
            2341,
            31353,
            6524,
            9868,
            27000,
            1381,
            17592,
            43116,
            3424,
            18319,
            2464,
            5761,
            3296,
            1957,
            14338,
            7538,
            7659,
            24692,
            11817,
            11135,
            2776,
            10647,
            10013,
            5479,
            6615,
            13764,
            25024,
            2676,
            2528,
            17107,
            44511,
            1324,
            1921,
            7018,
            6900,
            58189,
            7581,
            10805,
            782,
            12461
           ],
           "xaxis": "x",
           "y": [
            "Wyoming",
            "Wisconsin",
            "West Virginia",
            "Washington",
            "Virginia",
            "Vermont",
            "Utah",
            "Texas",
            "Tennessee",
            "South Dakota",
            "South Carolina",
            "Rhode Island",
            "Pennsylvania",
            "Oregon",
            "Oklahoma",
            "Ohio",
            "North Dakota",
            "North Carolina",
            "New York",
            "New Mexico",
            "New Jersey",
            "New Hampshire",
            "Nevada",
            "Nebraska",
            "Montana",
            "Missouri",
            "Mississippi",
            "Minnesota",
            "Michigan",
            "Massachusetts",
            "Maryland",
            "Maine",
            "Louisiana",
            "Kentucky",
            "Kansas",
            "Iowa",
            "Indiana",
            "Illinois",
            "Idaho",
            "Hawaii",
            "Georgia",
            "Florida",
            "District of Columbia",
            "Delaware",
            "Connecticut",
            "Colorado",
            "California",
            "Arkansas",
            "Arizona",
            "Alaska",
            "Alabama"
           ],
           "yaxis": "y"
          }
         ],
         "name": "2014"
        },
        {
         "data": [
          {
           "alignmentgroup": "True",
           "hovertemplate": "YearStart=2013<br>DataValue=%{x}<br>LocationDesc=%{y}<extra></extra>",
           "ids": [
            "Wyoming",
            "Wisconsin",
            "West Virginia",
            "Washington",
            "Virginia",
            "Vermont",
            "Utah",
            "Texas",
            "Tennessee",
            "South Dakota",
            "South Carolina",
            "Rhode Island",
            "Pennsylvania",
            "Oregon",
            "Oklahoma",
            "Ohio",
            "North Dakota",
            "North Carolina",
            "New York",
            "New Mexico",
            "New Jersey",
            "New Hampshire",
            "Nevada",
            "Nebraska",
            "Montana",
            "Missouri",
            "Mississippi",
            "Minnesota",
            "Michigan",
            "Massachusetts",
            "Maryland",
            "Maine",
            "Louisiana",
            "Kentucky",
            "Kansas",
            "Iowa",
            "Indiana",
            "Illinois",
            "Idaho",
            "Hawaii",
            "Georgia",
            "Florida",
            "District of Columbia",
            "Delaware",
            "Connecticut",
            "Colorado",
            "California",
            "Arkansas",
            "Arizona",
            "Alaska",
            "Alabama"
           ],
           "legendgroup": "",
           "marker": {
            "color": "#636efa",
            "pattern": {
             "shape": ""
            }
           },
           "name": "",
           "offsetgroup": "",
           "orientation": "h",
           "showlegend": false,
           "textposition": "auto",
           "type": "bar",
           "x": [
            939,
            11362,
            4666,
            10524,
            13663,
            1220,
            3323,
            40203,
            14803,
            1630,
            9648,
            2364,
            31629,
            6523,
            9721,
            26878,
            1382,
            17830,
            44039,
            3425,
            18460,
            2434,
            5434,
            3381,
            2004,
            14095,
            7715,
            7714,
            24156,
            12023,
            11244,
            2807,
            10346,
            9971,
            5364,
            6995,
            13773,
            24839,
            2495,
            2521,
            16550,
            42656,
            1340,
            1861,
            7090,
            6456,
            60299,
            7377,
            10755,
            706,
            12472
           ],
           "xaxis": "x",
           "y": [
            "Wyoming",
            "Wisconsin",
            "West Virginia",
            "Washington",
            "Virginia",
            "Vermont",
            "Utah",
            "Texas",
            "Tennessee",
            "South Dakota",
            "South Carolina",
            "Rhode Island",
            "Pennsylvania",
            "Oregon",
            "Oklahoma",
            "Ohio",
            "North Dakota",
            "North Carolina",
            "New York",
            "New Mexico",
            "New Jersey",
            "New Hampshire",
            "Nevada",
            "Nebraska",
            "Montana",
            "Missouri",
            "Mississippi",
            "Minnesota",
            "Michigan",
            "Massachusetts",
            "Maryland",
            "Maine",
            "Louisiana",
            "Kentucky",
            "Kansas",
            "Iowa",
            "Indiana",
            "Illinois",
            "Idaho",
            "Hawaii",
            "Georgia",
            "Florida",
            "District of Columbia",
            "Delaware",
            "Connecticut",
            "Colorado",
            "California",
            "Arkansas",
            "Arizona",
            "Alaska",
            "Alabama"
           ],
           "yaxis": "y"
          }
         ],
         "name": "2013"
        },
        {
         "data": [
          {
           "alignmentgroup": "True",
           "hovertemplate": "YearStart=2012<br>DataValue=%{x}<br>LocationDesc=%{y}<extra></extra>",
           "ids": [
            "Wyoming",
            "Wisconsin",
            "West Virginia",
            "Washington",
            "Virginia",
            "Vermont",
            "Utah",
            "Texas",
            "Tennessee",
            "South Dakota",
            "South Carolina",
            "Rhode Island",
            "Pennsylvania",
            "Oregon",
            "Oklahoma",
            "Ohio",
            "North Dakota",
            "North Carolina",
            "New York",
            "New Mexico",
            "New Jersey",
            "New Hampshire",
            "Nevada",
            "Nebraska",
            "Montana",
            "Missouri",
            "Mississippi",
            "Minnesota",
            "Michigan",
            "Massachusetts",
            "Maryland",
            "Maine",
            "Louisiana",
            "Kentucky",
            "Kansas",
            "Iowa",
            "Indiana",
            "Illinois",
            "Idaho",
            "Hawaii",
            "Georgia",
            "Florida",
            "District of Columbia",
            "Delaware",
            "Connecticut",
            "Colorado",
            "California",
            "Arkansas",
            "Arizona",
            "Alaska",
            "Alabama"
           ],
           "legendgroup": "",
           "marker": {
            "color": "#636efa",
            "pattern": {
             "shape": ""
            }
           },
           "name": "",
           "offsetgroup": "",
           "orientation": "h",
           "showlegend": false,
           "textposition": "auto",
           "type": "bar",
           "x": [
            1005,
            11282,
            4942,
            10360,
            13386,
            1206,
            3091,
            39061,
            14454,
            1668,
            9364,
            2360,
            30952,
            6180,
            9198,
            26426,
            1368,
            17348,
            43795,
            3352,
            18340,
            2324,
            5166,
            3307,
            1903,
            13742,
            7269,
            7496,
            23520,
            11602,
            11023,
            2623,
            10074,
            10024,
            5366,
            7005,
            13675,
            24667,
            2515,
            2430,
            15825,
            42125,
            1298,
            1790,
            7282,
            6311,
            59371,
            7407,
            10689,
            708,
            12036
           ],
           "xaxis": "x",
           "y": [
            "Wyoming",
            "Wisconsin",
            "West Virginia",
            "Washington",
            "Virginia",
            "Vermont",
            "Utah",
            "Texas",
            "Tennessee",
            "South Dakota",
            "South Carolina",
            "Rhode Island",
            "Pennsylvania",
            "Oregon",
            "Oklahoma",
            "Ohio",
            "North Dakota",
            "North Carolina",
            "New York",
            "New Mexico",
            "New Jersey",
            "New Hampshire",
            "Nevada",
            "Nebraska",
            "Montana",
            "Missouri",
            "Mississippi",
            "Minnesota",
            "Michigan",
            "Massachusetts",
            "Maryland",
            "Maine",
            "Louisiana",
            "Kentucky",
            "Kansas",
            "Iowa",
            "Indiana",
            "Illinois",
            "Idaho",
            "Hawaii",
            "Georgia",
            "Florida",
            "District of Columbia",
            "Delaware",
            "Connecticut",
            "Colorado",
            "California",
            "Arkansas",
            "Arizona",
            "Alaska",
            "Alabama"
           ],
           "yaxis": "y"
          }
         ],
         "name": "2012"
        },
        {
         "data": [
          {
           "alignmentgroup": "True",
           "hovertemplate": "YearStart=2011<br>DataValue=%{x}<br>LocationDesc=%{y}<extra></extra>",
           "ids": [
            "Wyoming",
            "Wisconsin",
            "West Virginia",
            "Washington",
            "Virginia",
            "Vermont",
            "Utah",
            "Texas",
            "Tennessee",
            "South Dakota",
            "South Carolina",
            "Rhode Island",
            "Pennsylvania",
            "Oregon",
            "Oklahoma",
            "Ohio",
            "North Dakota",
            "North Carolina",
            "New York",
            "New Mexico",
            "New Jersey",
            "New Hampshire",
            "Nevada",
            "Nebraska",
            "Montana",
            "Missouri",
            "Mississippi",
            "Minnesota",
            "Michigan",
            "Massachusetts",
            "Maryland",
            "Maine",
            "Louisiana",
            "Kentucky",
            "Kansas",
            "Iowa",
            "Indiana",
            "Illinois",
            "Idaho",
            "Hawaii",
            "Georgia",
            "Florida",
            "District of Columbia",
            "Delaware",
            "Connecticut",
            "Colorado",
            "California",
            "Arkansas",
            "Arizona",
            "Alaska",
            "Alabama"
           ],
           "legendgroup": "",
           "marker": {
            "color": "#636efa",
            "pattern": {
             "shape": ""
            }
           },
           "name": "",
           "offsetgroup": "",
           "orientation": "h",
           "showlegend": false,
           "textposition": "auto",
           "type": "bar",
           "x": [
            926,
            11266,
            4914,
            10439,
            13272,
            1187,
            3036,
            38094,
            14235,
            1625,
            9295,
            2390,
            31934,
            6255,
            9399,
            26298,
            1290,
            17003,
            44501,
            3333,
            18330,
            2333,
            5043,
            3265,
            1921,
            13810,
            7335,
            7240,
            23358,
            11765,
            10557,
            2648,
            9781,
            9905,
            5327,
            6736,
            13372,
            24987,
            2522,
            2312,
            15773,
            40919,
            1171,
            1809,
            7206,
            6177,
            59772,
            7168,
            10662,
            739,
            11942
           ],
           "xaxis": "x",
           "y": [
            "Wyoming",
            "Wisconsin",
            "West Virginia",
            "Washington",
            "Virginia",
            "Vermont",
            "Utah",
            "Texas",
            "Tennessee",
            "South Dakota",
            "South Carolina",
            "Rhode Island",
            "Pennsylvania",
            "Oregon",
            "Oklahoma",
            "Ohio",
            "North Dakota",
            "North Carolina",
            "New York",
            "New Mexico",
            "New Jersey",
            "New Hampshire",
            "Nevada",
            "Nebraska",
            "Montana",
            "Missouri",
            "Mississippi",
            "Minnesota",
            "Michigan",
            "Massachusetts",
            "Maryland",
            "Maine",
            "Louisiana",
            "Kentucky",
            "Kansas",
            "Iowa",
            "Indiana",
            "Illinois",
            "Idaho",
            "Hawaii",
            "Georgia",
            "Florida",
            "District of Columbia",
            "Delaware",
            "Connecticut",
            "Colorado",
            "California",
            "Arkansas",
            "Arizona",
            "Alaska",
            "Alabama"
           ],
           "yaxis": "y"
          }
         ],
         "name": "2011"
        },
        {
         "data": [
          {
           "alignmentgroup": "True",
           "hovertemplate": "YearStart=2010<br>DataValue=%{x}<br>LocationDesc=%{y}<extra></extra>",
           "ids": [
            "Wyoming",
            "Wisconsin",
            "West Virginia",
            "Washington",
            "Virginia",
            "Vermont",
            "Utah",
            "Texas",
            "Tennessee",
            "South Dakota",
            "South Carolina",
            "Rhode Island",
            "Pennsylvania",
            "Oregon",
            "Oklahoma",
            "Ohio",
            "North Dakota",
            "North Carolina",
            "New York",
            "New Mexico",
            "New Jersey",
            "New Hampshire",
            "Nevada",
            "Nebraska",
            "Montana",
            "Missouri",
            "Mississippi",
            "Minnesota",
            "Michigan",
            "Massachusetts",
            "Maryland",
            "Maine",
            "Louisiana",
            "Kentucky",
            "Kansas",
            "Iowa",
            "Indiana",
            "Illinois",
            "Idaho",
            "Hawaii",
            "Georgia",
            "Florida",
            "District of Columbia",
            "Delaware",
            "Connecticut",
            "Colorado",
            "California",
            "Arkansas",
            "Arizona",
            "Alaska",
            "Alabama"
           ],
           "legendgroup": "",
           "marker": {
            "color": "#636efa",
            "pattern": {
             "shape": ""
            }
           },
           "name": "",
           "offsetgroup": "",
           "orientation": "h",
           "showlegend": false,
           "textposition": "auto",
           "type": "bar",
           "x": [
            962,
            11115,
            4897,
            10602,
            13404,
            1172,
            2889,
            38253,
            14582,
            1616,
            9295,
            2322,
            31556,
            6198,
            9426,
            26164,
            1395,
            17154,
            44981,
            3224,
            18730,
            2290,
            4811,
            3355,
            1849,
            13840,
            7542,
            7185,
            23326,
            12043,
            10915,
            2628,
            10282,
            9662,
            5433,
            6880,
            13388,
            24959,
            2495,
            2239,
            15987,
            41737,
            1306,
            1776,
            7127,
            6038,
            58641,
            7274,
            9954,
            707,
            12083
           ],
           "xaxis": "x",
           "y": [
            "Wyoming",
            "Wisconsin",
            "West Virginia",
            "Washington",
            "Virginia",
            "Vermont",
            "Utah",
            "Texas",
            "Tennessee",
            "South Dakota",
            "South Carolina",
            "Rhode Island",
            "Pennsylvania",
            "Oregon",
            "Oklahoma",
            "Ohio",
            "North Dakota",
            "North Carolina",
            "New York",
            "New Mexico",
            "New Jersey",
            "New Hampshire",
            "Nevada",
            "Nebraska",
            "Montana",
            "Missouri",
            "Mississippi",
            "Minnesota",
            "Michigan",
            "Massachusetts",
            "Maryland",
            "Maine",
            "Louisiana",
            "Kentucky",
            "Kansas",
            "Iowa",
            "Indiana",
            "Illinois",
            "Idaho",
            "Hawaii",
            "Georgia",
            "Florida",
            "District of Columbia",
            "Delaware",
            "Connecticut",
            "Colorado",
            "California",
            "Arkansas",
            "Arizona",
            "Alaska",
            "Alabama"
           ],
           "yaxis": "y"
          }
         ],
         "name": "2010"
        }
       ],
       "layout": {
        "barmode": "relative",
        "legend": {
         "tracegroupgap": 0
        },
        "margin": {
         "t": 60
        },
        "sliders": [
         {
          "active": 0,
          "currentvalue": {
           "prefix": "YearStart="
          },
          "len": 0.9,
          "pad": {
           "b": 10,
           "t": 60
          },
          "steps": [
           {
            "args": [
             [
              "2019"
             ],
             {
              "frame": {
               "duration": 0,
               "redraw": true
              },
              "fromcurrent": true,
              "mode": "immediate",
              "transition": {
               "duration": 0,
               "easing": "linear"
              }
             }
            ],
            "label": "2019",
            "method": "animate"
           },
           {
            "args": [
             [
              "2018"
             ],
             {
              "frame": {
               "duration": 0,
               "redraw": true
              },
              "fromcurrent": true,
              "mode": "immediate",
              "transition": {
               "duration": 0,
               "easing": "linear"
              }
             }
            ],
            "label": "2018",
            "method": "animate"
           },
           {
            "args": [
             [
              "2017"
             ],
             {
              "frame": {
               "duration": 0,
               "redraw": true
              },
              "fromcurrent": true,
              "mode": "immediate",
              "transition": {
               "duration": 0,
               "easing": "linear"
              }
             }
            ],
            "label": "2017",
            "method": "animate"
           },
           {
            "args": [
             [
              "2016"
             ],
             {
              "frame": {
               "duration": 0,
               "redraw": true
              },
              "fromcurrent": true,
              "mode": "immediate",
              "transition": {
               "duration": 0,
               "easing": "linear"
              }
             }
            ],
            "label": "2016",
            "method": "animate"
           },
           {
            "args": [
             [
              "2015"
             ],
             {
              "frame": {
               "duration": 0,
               "redraw": true
              },
              "fromcurrent": true,
              "mode": "immediate",
              "transition": {
               "duration": 0,
               "easing": "linear"
              }
             }
            ],
            "label": "2015",
            "method": "animate"
           },
           {
            "args": [
             [
              "2014"
             ],
             {
              "frame": {
               "duration": 0,
               "redraw": true
              },
              "fromcurrent": true,
              "mode": "immediate",
              "transition": {
               "duration": 0,
               "easing": "linear"
              }
             }
            ],
            "label": "2014",
            "method": "animate"
           },
           {
            "args": [
             [
              "2013"
             ],
             {
              "frame": {
               "duration": 0,
               "redraw": true
              },
              "fromcurrent": true,
              "mode": "immediate",
              "transition": {
               "duration": 0,
               "easing": "linear"
              }
             }
            ],
            "label": "2013",
            "method": "animate"
           },
           {
            "args": [
             [
              "2012"
             ],
             {
              "frame": {
               "duration": 0,
               "redraw": true
              },
              "fromcurrent": true,
              "mode": "immediate",
              "transition": {
               "duration": 0,
               "easing": "linear"
              }
             }
            ],
            "label": "2012",
            "method": "animate"
           },
           {
            "args": [
             [
              "2011"
             ],
             {
              "frame": {
               "duration": 0,
               "redraw": true
              },
              "fromcurrent": true,
              "mode": "immediate",
              "transition": {
               "duration": 0,
               "easing": "linear"
              }
             }
            ],
            "label": "2011",
            "method": "animate"
           },
           {
            "args": [
             [
              "2010"
             ],
             {
              "frame": {
               "duration": 0,
               "redraw": true
              },
              "fromcurrent": true,
              "mode": "immediate",
              "transition": {
               "duration": 0,
               "easing": "linear"
              }
             }
            ],
            "label": "2010",
            "method": "animate"
           }
          ],
          "x": 0.1,
          "xanchor": "left",
          "y": 0,
          "yanchor": "top"
         }
        ],
        "template": {
         "data": {
          "bar": [
           {
            "error_x": {
             "color": "#2a3f5f"
            },
            "error_y": {
             "color": "#2a3f5f"
            },
            "marker": {
             "line": {
              "color": "#E5ECF6",
              "width": 0.5
             },
             "pattern": {
              "fillmode": "overlay",
              "size": 10,
              "solidity": 0.2
             }
            },
            "type": "bar"
           }
          ],
          "barpolar": [
           {
            "marker": {
             "line": {
              "color": "#E5ECF6",
              "width": 0.5
             },
             "pattern": {
              "fillmode": "overlay",
              "size": 10,
              "solidity": 0.2
             }
            },
            "type": "barpolar"
           }
          ],
          "carpet": [
           {
            "aaxis": {
             "endlinecolor": "#2a3f5f",
             "gridcolor": "white",
             "linecolor": "white",
             "minorgridcolor": "white",
             "startlinecolor": "#2a3f5f"
            },
            "baxis": {
             "endlinecolor": "#2a3f5f",
             "gridcolor": "white",
             "linecolor": "white",
             "minorgridcolor": "white",
             "startlinecolor": "#2a3f5f"
            },
            "type": "carpet"
           }
          ],
          "choropleth": [
           {
            "colorbar": {
             "outlinewidth": 0,
             "ticks": ""
            },
            "type": "choropleth"
           }
          ],
          "contour": [
           {
            "colorbar": {
             "outlinewidth": 0,
             "ticks": ""
            },
            "colorscale": [
             [
              0,
              "#0d0887"
             ],
             [
              0.1111111111111111,
              "#46039f"
             ],
             [
              0.2222222222222222,
              "#7201a8"
             ],
             [
              0.3333333333333333,
              "#9c179e"
             ],
             [
              0.4444444444444444,
              "#bd3786"
             ],
             [
              0.5555555555555556,
              "#d8576b"
             ],
             [
              0.6666666666666666,
              "#ed7953"
             ],
             [
              0.7777777777777778,
              "#fb9f3a"
             ],
             [
              0.8888888888888888,
              "#fdca26"
             ],
             [
              1,
              "#f0f921"
             ]
            ],
            "type": "contour"
           }
          ],
          "contourcarpet": [
           {
            "colorbar": {
             "outlinewidth": 0,
             "ticks": ""
            },
            "type": "contourcarpet"
           }
          ],
          "heatmap": [
           {
            "colorbar": {
             "outlinewidth": 0,
             "ticks": ""
            },
            "colorscale": [
             [
              0,
              "#0d0887"
             ],
             [
              0.1111111111111111,
              "#46039f"
             ],
             [
              0.2222222222222222,
              "#7201a8"
             ],
             [
              0.3333333333333333,
              "#9c179e"
             ],
             [
              0.4444444444444444,
              "#bd3786"
             ],
             [
              0.5555555555555556,
              "#d8576b"
             ],
             [
              0.6666666666666666,
              "#ed7953"
             ],
             [
              0.7777777777777778,
              "#fb9f3a"
             ],
             [
              0.8888888888888888,
              "#fdca26"
             ],
             [
              1,
              "#f0f921"
             ]
            ],
            "type": "heatmap"
           }
          ],
          "heatmapgl": [
           {
            "colorbar": {
             "outlinewidth": 0,
             "ticks": ""
            },
            "colorscale": [
             [
              0,
              "#0d0887"
             ],
             [
              0.1111111111111111,
              "#46039f"
             ],
             [
              0.2222222222222222,
              "#7201a8"
             ],
             [
              0.3333333333333333,
              "#9c179e"
             ],
             [
              0.4444444444444444,
              "#bd3786"
             ],
             [
              0.5555555555555556,
              "#d8576b"
             ],
             [
              0.6666666666666666,
              "#ed7953"
             ],
             [
              0.7777777777777778,
              "#fb9f3a"
             ],
             [
              0.8888888888888888,
              "#fdca26"
             ],
             [
              1,
              "#f0f921"
             ]
            ],
            "type": "heatmapgl"
           }
          ],
          "histogram": [
           {
            "marker": {
             "pattern": {
              "fillmode": "overlay",
              "size": 10,
              "solidity": 0.2
             }
            },
            "type": "histogram"
           }
          ],
          "histogram2d": [
           {
            "colorbar": {
             "outlinewidth": 0,
             "ticks": ""
            },
            "colorscale": [
             [
              0,
              "#0d0887"
             ],
             [
              0.1111111111111111,
              "#46039f"
             ],
             [
              0.2222222222222222,
              "#7201a8"
             ],
             [
              0.3333333333333333,
              "#9c179e"
             ],
             [
              0.4444444444444444,
              "#bd3786"
             ],
             [
              0.5555555555555556,
              "#d8576b"
             ],
             [
              0.6666666666666666,
              "#ed7953"
             ],
             [
              0.7777777777777778,
              "#fb9f3a"
             ],
             [
              0.8888888888888888,
              "#fdca26"
             ],
             [
              1,
              "#f0f921"
             ]
            ],
            "type": "histogram2d"
           }
          ],
          "histogram2dcontour": [
           {
            "colorbar": {
             "outlinewidth": 0,
             "ticks": ""
            },
            "colorscale": [
             [
              0,
              "#0d0887"
             ],
             [
              0.1111111111111111,
              "#46039f"
             ],
             [
              0.2222222222222222,
              "#7201a8"
             ],
             [
              0.3333333333333333,
              "#9c179e"
             ],
             [
              0.4444444444444444,
              "#bd3786"
             ],
             [
              0.5555555555555556,
              "#d8576b"
             ],
             [
              0.6666666666666666,
              "#ed7953"
             ],
             [
              0.7777777777777778,
              "#fb9f3a"
             ],
             [
              0.8888888888888888,
              "#fdca26"
             ],
             [
              1,
              "#f0f921"
             ]
            ],
            "type": "histogram2dcontour"
           }
          ],
          "mesh3d": [
           {
            "colorbar": {
             "outlinewidth": 0,
             "ticks": ""
            },
            "type": "mesh3d"
           }
          ],
          "parcoords": [
           {
            "line": {
             "colorbar": {
              "outlinewidth": 0,
              "ticks": ""
             }
            },
            "type": "parcoords"
           }
          ],
          "pie": [
           {
            "automargin": true,
            "type": "pie"
           }
          ],
          "scatter": [
           {
            "fillpattern": {
             "fillmode": "overlay",
             "size": 10,
             "solidity": 0.2
            },
            "type": "scatter"
           }
          ],
          "scatter3d": [
           {
            "line": {
             "colorbar": {
              "outlinewidth": 0,
              "ticks": ""
             }
            },
            "marker": {
             "colorbar": {
              "outlinewidth": 0,
              "ticks": ""
             }
            },
            "type": "scatter3d"
           }
          ],
          "scattercarpet": [
           {
            "marker": {
             "colorbar": {
              "outlinewidth": 0,
              "ticks": ""
             }
            },
            "type": "scattercarpet"
           }
          ],
          "scattergeo": [
           {
            "marker": {
             "colorbar": {
              "outlinewidth": 0,
              "ticks": ""
             }
            },
            "type": "scattergeo"
           }
          ],
          "scattergl": [
           {
            "marker": {
             "colorbar": {
              "outlinewidth": 0,
              "ticks": ""
             }
            },
            "type": "scattergl"
           }
          ],
          "scattermapbox": [
           {
            "marker": {
             "colorbar": {
              "outlinewidth": 0,
              "ticks": ""
             }
            },
            "type": "scattermapbox"
           }
          ],
          "scatterpolar": [
           {
            "marker": {
             "colorbar": {
              "outlinewidth": 0,
              "ticks": ""
             }
            },
            "type": "scatterpolar"
           }
          ],
          "scatterpolargl": [
           {
            "marker": {
             "colorbar": {
              "outlinewidth": 0,
              "ticks": ""
             }
            },
            "type": "scatterpolargl"
           }
          ],
          "scatterternary": [
           {
            "marker": {
             "colorbar": {
              "outlinewidth": 0,
              "ticks": ""
             }
            },
            "type": "scatterternary"
           }
          ],
          "surface": [
           {
            "colorbar": {
             "outlinewidth": 0,
             "ticks": ""
            },
            "colorscale": [
             [
              0,
              "#0d0887"
             ],
             [
              0.1111111111111111,
              "#46039f"
             ],
             [
              0.2222222222222222,
              "#7201a8"
             ],
             [
              0.3333333333333333,
              "#9c179e"
             ],
             [
              0.4444444444444444,
              "#bd3786"
             ],
             [
              0.5555555555555556,
              "#d8576b"
             ],
             [
              0.6666666666666666,
              "#ed7953"
             ],
             [
              0.7777777777777778,
              "#fb9f3a"
             ],
             [
              0.8888888888888888,
              "#fdca26"
             ],
             [
              1,
              "#f0f921"
             ]
            ],
            "type": "surface"
           }
          ],
          "table": [
           {
            "cells": {
             "fill": {
              "color": "#EBF0F8"
             },
             "line": {
              "color": "white"
             }
            },
            "header": {
             "fill": {
              "color": "#C8D4E3"
             },
             "line": {
              "color": "white"
             }
            },
            "type": "table"
           }
          ]
         },
         "layout": {
          "annotationdefaults": {
           "arrowcolor": "#2a3f5f",
           "arrowhead": 0,
           "arrowwidth": 1
          },
          "autotypenumbers": "strict",
          "coloraxis": {
           "colorbar": {
            "outlinewidth": 0,
            "ticks": ""
           }
          },
          "colorscale": {
           "diverging": [
            [
             0,
             "#8e0152"
            ],
            [
             0.1,
             "#c51b7d"
            ],
            [
             0.2,
             "#de77ae"
            ],
            [
             0.3,
             "#f1b6da"
            ],
            [
             0.4,
             "#fde0ef"
            ],
            [
             0.5,
             "#f7f7f7"
            ],
            [
             0.6,
             "#e6f5d0"
            ],
            [
             0.7,
             "#b8e186"
            ],
            [
             0.8,
             "#7fbc41"
            ],
            [
             0.9,
             "#4d9221"
            ],
            [
             1,
             "#276419"
            ]
           ],
           "sequential": [
            [
             0,
             "#0d0887"
            ],
            [
             0.1111111111111111,
             "#46039f"
            ],
            [
             0.2222222222222222,
             "#7201a8"
            ],
            [
             0.3333333333333333,
             "#9c179e"
            ],
            [
             0.4444444444444444,
             "#bd3786"
            ],
            [
             0.5555555555555556,
             "#d8576b"
            ],
            [
             0.6666666666666666,
             "#ed7953"
            ],
            [
             0.7777777777777778,
             "#fb9f3a"
            ],
            [
             0.8888888888888888,
             "#fdca26"
            ],
            [
             1,
             "#f0f921"
            ]
           ],
           "sequentialminus": [
            [
             0,
             "#0d0887"
            ],
            [
             0.1111111111111111,
             "#46039f"
            ],
            [
             0.2222222222222222,
             "#7201a8"
            ],
            [
             0.3333333333333333,
             "#9c179e"
            ],
            [
             0.4444444444444444,
             "#bd3786"
            ],
            [
             0.5555555555555556,
             "#d8576b"
            ],
            [
             0.6666666666666666,
             "#ed7953"
            ],
            [
             0.7777777777777778,
             "#fb9f3a"
            ],
            [
             0.8888888888888888,
             "#fdca26"
            ],
            [
             1,
             "#f0f921"
            ]
           ]
          },
          "colorway": [
           "#636efa",
           "#EF553B",
           "#00cc96",
           "#ab63fa",
           "#FFA15A",
           "#19d3f3",
           "#FF6692",
           "#B6E880",
           "#FF97FF",
           "#FECB52"
          ],
          "font": {
           "color": "#2a3f5f"
          },
          "geo": {
           "bgcolor": "white",
           "lakecolor": "white",
           "landcolor": "#E5ECF6",
           "showlakes": true,
           "showland": true,
           "subunitcolor": "white"
          },
          "hoverlabel": {
           "align": "left"
          },
          "hovermode": "closest",
          "mapbox": {
           "style": "light"
          },
          "paper_bgcolor": "white",
          "plot_bgcolor": "#E5ECF6",
          "polar": {
           "angularaxis": {
            "gridcolor": "white",
            "linecolor": "white",
            "ticks": ""
           },
           "bgcolor": "#E5ECF6",
           "radialaxis": {
            "gridcolor": "white",
            "linecolor": "white",
            "ticks": ""
           }
          },
          "scene": {
           "xaxis": {
            "backgroundcolor": "#E5ECF6",
            "gridcolor": "white",
            "gridwidth": 2,
            "linecolor": "white",
            "showbackground": true,
            "ticks": "",
            "zerolinecolor": "white"
           },
           "yaxis": {
            "backgroundcolor": "#E5ECF6",
            "gridcolor": "white",
            "gridwidth": 2,
            "linecolor": "white",
            "showbackground": true,
            "ticks": "",
            "zerolinecolor": "white"
           },
           "zaxis": {
            "backgroundcolor": "#E5ECF6",
            "gridcolor": "white",
            "gridwidth": 2,
            "linecolor": "white",
            "showbackground": true,
            "ticks": "",
            "zerolinecolor": "white"
           }
          },
          "shapedefaults": {
           "line": {
            "color": "#2a3f5f"
           }
          },
          "ternary": {
           "aaxis": {
            "gridcolor": "white",
            "linecolor": "white",
            "ticks": ""
           },
           "baxis": {
            "gridcolor": "white",
            "linecolor": "white",
            "ticks": ""
           },
           "bgcolor": "#E5ECF6",
           "caxis": {
            "gridcolor": "white",
            "linecolor": "white",
            "ticks": ""
           }
          },
          "title": {
           "x": 0.05
          },
          "xaxis": {
           "automargin": true,
           "gridcolor": "white",
           "linecolor": "white",
           "ticks": "",
           "title": {
            "standoff": 15
           },
           "zerolinecolor": "white",
           "zerolinewidth": 2
          },
          "yaxis": {
           "automargin": true,
           "gridcolor": "white",
           "linecolor": "white",
           "ticks": "",
           "title": {
            "standoff": 15
           },
           "zerolinecolor": "white",
           "zerolinewidth": 2
          }
         }
        },
        "updatemenus": [
         {
          "buttons": [
           {
            "args": [
             null,
             {
              "frame": {
               "duration": 500,
               "redraw": true
              },
              "fromcurrent": true,
              "mode": "immediate",
              "transition": {
               "duration": 500,
               "easing": "linear"
              }
             }
            ],
            "label": "&#9654;",
            "method": "animate"
           },
           {
            "args": [
             [
              null
             ],
             {
              "frame": {
               "duration": 0,
               "redraw": true
              },
              "fromcurrent": true,
              "mode": "immediate",
              "transition": {
               "duration": 0,
               "easing": "linear"
              }
             }
            ],
            "label": "&#9724;",
            "method": "animate"
           }
          ],
          "direction": "left",
          "pad": {
           "r": 10,
           "t": 70
          },
          "showactive": false,
          "type": "buttons",
          "x": 0.1,
          "xanchor": "right",
          "y": 0,
          "yanchor": "top"
         }
        ],
        "xaxis": {
         "anchor": "y",
         "domain": [
          0,
          1
         ],
         "range": [
          0,
          62797
         ],
         "title": {
          "text": "DataValue"
         }
        },
        "yaxis": {
         "anchor": "x",
         "domain": [
          0,
          1
         ],
         "title": {
          "text": "LocationDesc"
         }
        }
       }
      }
     },
     "metadata": {},
     "output_type": "display_data"
    }
   ],
   "source": [
    "dfi = df[df['Question']=='Mortality from diseases of the heart'].copy() \n",
    "\n",
    "px.bar(dfi, x='DataValue', y='LocationDesc', animation_frame='YearStart', animation_group='LocationDesc', orientation='h', range_x=[0, dfi['DataValue'].max()])"
   ]
  }
 ],
 "metadata": {
  "kernelspec": {
   "display_name": "Python 3.10.4 ('dash_env')",
   "language": "python",
   "name": "python3"
  },
  "language_info": {
   "codemirror_mode": {
    "name": "ipython",
    "version": 3
   },
   "file_extension": ".py",
   "mimetype": "text/x-python",
   "name": "python",
   "nbconvert_exporter": "python",
   "pygments_lexer": "ipython3",
   "version": "3.10.4 | packaged by conda-forge | (main, Mar 30 2022, 08:38:02) [MSC v.1916 64 bit (AMD64)]"
  },
  "orig_nbformat": 4,
  "vscode": {
   "interpreter": {
    "hash": "fc6dba035ba7565a1d3f44fff3fb9db8053216f24f1cb90e31c3e7249a930f3d"
   }
  }
 },
 "nbformat": 4,
 "nbformat_minor": 2
}
